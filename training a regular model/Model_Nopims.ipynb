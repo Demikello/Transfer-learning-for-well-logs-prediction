{
  "nbformat": 4,
  "nbformat_minor": 0,
  "metadata": {
    "colab": {
      "provenance": [],
      "gpuType": "T4"
    },
    "kernelspec": {
      "name": "python3",
      "display_name": "Python 3"
    },
    "language_info": {
      "name": "python"
    },
    "accelerator": "GPU"
  },
  "cells": [
    {
      "cell_type": "code",
      "execution_count": null,
      "metadata": {
        "id": "on6ku8SyIX1O"
      },
      "outputs": [],
      "source": [
        "import torch\n",
        "import torch.nn as nn\n",
        "import torch.nn.functional as F\n",
        "import torch.optim as optim\n",
        "from torch.utils.data import DataLoader, TensorDataset\n",
        "import pandas as pd\n",
        "from sklearn.preprocessing import MinMaxScaler\n",
        "import random as rd\n",
        "import numpy as np\n",
        "import matplotlib.pyplot as plt\n",
        "from google.colab import drive\n",
        "from sklearn.metrics import mean_absolute_error\n",
        "from sklearn.metrics import root_mean_squared_error\n",
        "from sklearn.metrics import mean_absolute_percentage_error\n",
        "from sklearn.metrics import r2_score"
      ]
    },
    {
      "cell_type": "code",
      "source": [
        "drive.mount('/content/drive')"
      ],
      "metadata": {
        "id": "g0SKQQr0IgjI",
        "colab": {
          "base_uri": "https://localhost:8080/"
        },
        "outputId": "a2d2ba45-a1a9-48ab-864a-a0fd5dfe2e60"
      },
      "execution_count": null,
      "outputs": [
        {
          "output_type": "stream",
          "name": "stdout",
          "text": [
            "Mounted at /content/drive\n"
          ]
        }
      ]
    },
    {
      "cell_type": "code",
      "source": [
        "df_taranaki = pd.read_csv('/content/drive/MyDrive/Taranaki_PEF_clear.csv')\n",
        "df_nopims = pd.read_csv('/content/drive/MyDrive/NOPIMS_clear.csv')"
      ],
      "metadata": {
        "id": "9ejKo6d4Iglv"
      },
      "execution_count": null,
      "outputs": []
    },
    {
      "cell_type": "code",
      "source": [
        "df_taranaki = df_taranaki.rename(columns={'WELLNAME': 'UWI', 'DENS': 'RHOB'})"
      ],
      "metadata": {
        "id": "_PZiEXGRIgoP"
      },
      "execution_count": null,
      "outputs": []
    },
    {
      "cell_type": "code",
      "source": [
        "df_taranaki.set_index(['UWI', 'DEPT'], inplace = True)\n",
        "df_nopims.set_index(['UWI', 'DEPT'], inplace = True)"
      ],
      "metadata": {
        "id": "t1Abg_OgIgqh"
      },
      "execution_count": null,
      "outputs": []
    },
    {
      "cell_type": "code",
      "source": [
        "df_taranaki = df_taranaki[['RHOB', 'DRHO', 'GR', 'PEF']]\n",
        "df_nopims = df_nopims[['RHOB', 'DRHO', 'GR', 'PEF']]"
      ],
      "metadata": {
        "id": "fCW0wDo8Igs3"
      },
      "execution_count": null,
      "outputs": []
    },
    {
      "cell_type": "code",
      "source": [
        "print(f'Количество скважин Taranaki = {df_taranaki.index.get_level_values(0).nunique()}')\n",
        "print(f'Количество скважин Nopims = {df_nopims.index.get_level_values(0).nunique()}')"
      ],
      "metadata": {
        "id": "75BOrpKUIsnB",
        "colab": {
          "base_uri": "https://localhost:8080/"
        },
        "outputId": "aafbe7d6-3199-42a1-d810-6ccbb129883b"
      },
      "execution_count": null,
      "outputs": [
        {
          "output_type": "stream",
          "name": "stdout",
          "text": [
            "Количество скважин Taranaki = 115\n",
            "Количество скважин Nopims = 20\n"
          ]
        }
      ]
    },
    {
      "cell_type": "code",
      "source": [
        "X_taranaki = df_taranaki.drop(['PEF'], axis = 1)\n",
        "y_taranaki = df_taranaki['PEF']\n",
        "\n",
        "X_nopims = df_nopims.drop(['PEF'], axis = 1)\n",
        "y_nopims = df_nopims['PEF']"
      ],
      "metadata": {
        "id": "xci6uU12Ispf"
      },
      "execution_count": null,
      "outputs": []
    },
    {
      "cell_type": "code",
      "source": [
        "df_X = pd.concat([X_taranaki, X_nopims])\n",
        "df_y = pd.concat([y_taranaki, y_nopims])"
      ],
      "metadata": {
        "id": "1fI5O17HIsru"
      },
      "execution_count": null,
      "outputs": []
    },
    {
      "cell_type": "code",
      "source": [
        "X = df_X.reset_index()\n",
        "y = df_y.reset_index()\n",
        "\n",
        "scaler_X = MinMaxScaler()\n",
        "scaler_y = MinMaxScaler()\n",
        "\n",
        "normalized_values_X = scaler_X.fit_transform(X[['RHOB', 'DRHO', 'GR']])\n",
        "normalized_values_y = scaler_y.fit_transform(y[['PEF']])\n",
        "\n",
        "X[['RHOB', 'DRHO', 'GR']] = normalized_values_X\n",
        "y[['PEF']] = normalized_values_y\n",
        "\n",
        "X_scaled = X.set_index(['UWI', 'DEPT'])\n",
        "y_scaled = y.set_index(['UWI', 'DEPT'])"
      ],
      "metadata": {
        "id": "jVEcWLJDIvwg"
      },
      "execution_count": null,
      "outputs": []
    },
    {
      "cell_type": "code",
      "source": [
        "X_nopims = X_scaled.loc[X_nopims.index.get_level_values(0).unique()]\n",
        "y_nopims = y_scaled.loc[y_nopims.index.get_level_values(0).unique()]"
      ],
      "metadata": {
        "id": "zX-t7eeGIvy_"
      },
      "execution_count": null,
      "outputs": []
    },
    {
      "cell_type": "code",
      "source": [
        "train_part_size = 0.7\n",
        "\n",
        "rd.seed(12)\n",
        "train_wells_nopims = rd.sample(\n",
        "    X_nopims.index.get_level_values(0).unique().tolist(),\n",
        "    round(len(X_nopims.index.get_level_values(0).unique()) * train_part_size),\n",
        ")\n",
        "\n",
        "val_test_wells_nopims = list(set(X_nopims.index.get_level_values(0).unique().tolist()) - set(train_wells_nopims))\n",
        "val_test_wells_nopims = sorted(val_test_wells_nopims)\n",
        "rd.shuffle(val_test_wells_nopims)\n",
        "\n",
        "rd.seed(12)\n",
        "val_wells_nopims = rd.sample(\n",
        "    val_test_wells_nopims,\n",
        "    round(len(val_test_wells_nopims) * 0.5),)\n",
        "\n",
        "test_wells_nopims = list(set(val_test_wells_nopims) - set(val_wells_nopims))\n",
        "test_wells_nopims = sorted(test_wells_nopims)\n",
        "rd.shuffle(test_wells_nopims)"
      ],
      "metadata": {
        "id": "5K5HFYZMJTO-"
      },
      "execution_count": null,
      "outputs": []
    },
    {
      "cell_type": "code",
      "source": [
        "train_X_nopims = X_nopims.loc[train_wells_nopims]\n",
        "train_y_nopims = y_nopims.loc[train_wells_nopims]\n",
        "\n",
        "val_X_nopims = X_nopims.loc[val_wells_nopims]\n",
        "val_y_nopims = y_nopims.loc[val_wells_nopims]\n",
        "\n",
        "test_X_nopims = X_nopims.loc[test_wells_nopims]\n",
        "test_y_nopims = y_nopims.loc[test_wells_nopims]"
      ],
      "metadata": {
        "id": "yh0ZJaa3JW7_"
      },
      "execution_count": null,
      "outputs": []
    },
    {
      "cell_type": "code",
      "source": [
        "def gen_data_per_well(features, target, time_steps=50):\n",
        "    Xs, ys = [], []\n",
        "\n",
        "    # Перебираем уникальные значения скважин\n",
        "    for well_name in features.index.get_level_values('UWI').unique():\n",
        "        # Получаем данные для текущей скважины\n",
        "        well_features = features.xs(well_name, level='UWI')\n",
        "        well_target = target.xs(well_name, level='UWI')\n",
        "\n",
        "        # Генерируем X и y для текущей скважины\n",
        "        for i in range(len(well_features) - time_steps):\n",
        "            Xs.append(well_features.iloc[i:i + time_steps].values)\n",
        "            ys.append(well_target.iloc[i + time_steps - 1])\n",
        "\n",
        "    return np.array(Xs), np.array(ys)"
      ],
      "metadata": {
        "id": "UBCrdyZKJTRf"
      },
      "execution_count": null,
      "outputs": []
    },
    {
      "cell_type": "code",
      "source": [
        "train_X_nopims, train_y_nopims = gen_data_per_well(train_X_nopims, train_y_nopims)\n",
        "val_X_nopims, val_y_nopims = gen_data_per_well(val_X_nopims, val_y_nopims)\n",
        "test_X_nopims, test_y_nopims = gen_data_per_well(test_X_nopims, test_y_nopims)"
      ],
      "metadata": {
        "id": "EOcvc7YDJdy0"
      },
      "execution_count": null,
      "outputs": []
    },
    {
      "cell_type": "code",
      "source": [
        "train_X_nopims_tensor = torch.tensor(train_X_nopims, dtype=torch.float32)\n",
        "train_y_nopims_tensor = torch.tensor(train_y_nopims, dtype=torch.float32)\n",
        "\n",
        "val_X_nopims_tensor = torch.tensor(val_X_nopims, dtype=torch.float32)\n",
        "val_y_nopims_tensor = torch.tensor(val_y_nopims, dtype=torch.float32)\n",
        "\n",
        "test_X_nopims_tensor = torch.tensor(test_X_nopims, dtype=torch.float32)\n",
        "test_y_nopims_tensor = torch.tensor(test_y_nopims, dtype=torch.float32)"
      ],
      "metadata": {
        "id": "xOJXJBnnJd03"
      },
      "execution_count": null,
      "outputs": []
    },
    {
      "cell_type": "code",
      "source": [
        "train_dataset = TensorDataset(train_X_nopims_tensor, train_y_nopims_tensor)\n",
        "val_dataset = TensorDataset(val_X_nopims_tensor, val_y_nopims_tensor)\n",
        "test_dataset = TensorDataset(test_X_nopims_tensor, test_y_nopims_tensor)\n",
        "\n",
        "# Создание DataLoader\n",
        "train_loader = DataLoader(train_dataset, batch_size=64, shuffle=True)\n",
        "val_loader = DataLoader(val_dataset, batch_size=64, shuffle=False)\n",
        "test_loader = DataLoader(test_dataset, batch_size=64, shuffle=False)"
      ],
      "metadata": {
        "id": "WMqvWTIUIgvQ"
      },
      "execution_count": null,
      "outputs": []
    },
    {
      "cell_type": "code",
      "source": [
        "class MyModel(nn.Module):\n",
        "    def __init__(self):\n",
        "        super(MyModel, self).__init__()\n",
        "        self.conv1 = nn.Conv1d(in_channels=3, out_channels=256, kernel_size=3, padding='same')\n",
        "        self.bn1 = nn.BatchNorm1d(256)\n",
        "        self.pool1 = nn.MaxPool1d(kernel_size=2)\n",
        "\n",
        "        self.conv2 = nn.Conv1d(in_channels=256, out_channels=256, kernel_size=5, padding='same')\n",
        "        self.bn2 = nn.BatchNorm1d(256)\n",
        "        self.pool2 = nn.MaxPool1d(kernel_size=2)\n",
        "\n",
        "        self.conv3 = nn.Conv1d(in_channels=256, out_channels=256, kernel_size=2, padding='same')\n",
        "        self.bn3 = nn.BatchNorm1d(256)\n",
        "        self.pool3 = nn.MaxPool1d(kernel_size=2)\n",
        "\n",
        "        self.lstm1 = nn.LSTM(input_size=256, hidden_size=128, batch_first=True)\n",
        "        self.dropout1 = nn.Dropout(0.267619)\n",
        "\n",
        "        self.fc = nn.Linear(128, 1)\n",
        "\n",
        "    def forward(self, x):\n",
        "        x = x.permute(0, 2, 1)  # Теперь x имеет форму (batch_size, features_dim, time_steps)\n",
        "        x = self.conv1(x)\n",
        "        x = self.bn1(x)\n",
        "        x = nn.ReLU()(x)\n",
        "        x = self.pool1(x)\n",
        "\n",
        "        x = self.conv2(x)\n",
        "        x = self.bn2(x)\n",
        "        x = nn.ReLU()(x)\n",
        "        x = self.pool2(x)\n",
        "\n",
        "        x = self.conv3(x)\n",
        "        x = self.bn3(x)\n",
        "        x = nn.ReLU()(x)\n",
        "        x = self.pool3(x)\n",
        "\n",
        "        # Сначала нужно изменить размерность для LSTM\n",
        "        x = x.transpose(1, 2)  # Меняем местами размерности (batch_size, num_channels, sequence_length) -> (batch_size, sequence_length, num_channels)\n",
        "\n",
        "        x, _ = self.lstm1(x)\n",
        "        x = self.dropout1(x)\n",
        "\n",
        "        # Берем только последний выход LSTM\n",
        "        x = x[:, -1, :]  # (batch_size, hidden_size)\n",
        "\n",
        "        x = self.fc(x)\n",
        "\n",
        "        return x"
      ],
      "metadata": {
        "id": "L4NbbOSJJsDa"
      },
      "execution_count": null,
      "outputs": []
    },
    {
      "cell_type": "code",
      "source": [
        "model = MyModel()\n",
        "optimizer = optim.Adam(model.parameters(), lr=0.00007)\n",
        "criterion = nn.MSELoss()"
      ],
      "metadata": {
        "id": "KiqqduOMKKxc"
      },
      "execution_count": null,
      "outputs": []
    },
    {
      "cell_type": "code",
      "source": [
        "device = torch.device(\"cuda\" if torch.cuda.is_available() else \"cpu\")"
      ],
      "metadata": {
        "id": "4T886F9hKK0P"
      },
      "execution_count": null,
      "outputs": []
    },
    {
      "cell_type": "code",
      "source": [
        "def train(model, train_loader, val_loader, optimizer, criterion, num_epochs, patience=4, lr_reduce_factor=0.5):\n",
        "    model.to(device)  # Перемещаем модель на GPU\n",
        "\n",
        "    best_val_loss = float('inf')  # Наименьшая валидационная потеря\n",
        "    epochs_without_improvement = 0  # Счетчик эпох без улучшения\n",
        "    best_weights = None  # Переменная для хранения лучших весов\n",
        "\n",
        "    train_losses = []\n",
        "    val_losses = []\n",
        "\n",
        "    for epoch in range(num_epochs):\n",
        "        model.train()  # В режим тренировки\n",
        "        train_loss = 0.0\n",
        "\n",
        "        for inputs, targets in train_loader:\n",
        "            inputs, targets = inputs.to(device), targets.to(device)  # Перемещаем данные на GPU\n",
        "            optimizer.zero_grad()  # Обнуляем градиенты\n",
        "            outputs = model(inputs)  # Прямой проход\n",
        "            loss = criterion(outputs, targets)  # Вычисление потерь\n",
        "            loss.backward()  # Обратный проход\n",
        "            optimizer.step()  # Обновление весов\n",
        "\n",
        "            train_loss += loss.item()  # Суммируем потери для тренировки\n",
        "\n",
        "        train_loss /= len(train_loader)  # Среднее значение по всем батчам\n",
        "        train_losses.append(train_loss)\n",
        "\n",
        "        # Валидация\n",
        "        model.eval()  # В режим валидации\n",
        "        val_loss = 0.0\n",
        "        with torch.no_grad():  # Отключаем градиенты\n",
        "            for inputs, targets in val_loader:\n",
        "                inputs, targets = inputs.to(device), targets.to(device)  # Перемещаем данные на GPU\n",
        "                outputs = model(inputs)\n",
        "                loss = criterion(outputs, targets)\n",
        "                val_loss += loss.item()\n",
        "\n",
        "        val_loss /= len(val_loader)  # Среднее значение по всем батчам\n",
        "        val_losses.append(val_loss)\n",
        "\n",
        "        # Если текущая валидационная потеря лучше, сохраняем веса\n",
        "        if val_loss < best_val_loss:\n",
        "            best_val_loss = val_loss\n",
        "            best_weights = model.state_dict()  # Сохраняем лучшие веса\n",
        "            epochs_without_improvement = 0  # Сбрасываем счетчик\n",
        "        else:\n",
        "            epochs_without_improvement += 1  # Увеличиваем счетчик без улучшений\n",
        "\n",
        "        # Изменяем скорость обучения, если не было улучшения\n",
        "        if epochs_without_improvement > 0 and epochs_without_improvement % 2 == 0:\n",
        "            for param_group in optimizer.param_groups:\n",
        "                param_group['lr'] *= lr_reduce_factor  # Уменьшаем lr в 2 раза\n",
        "\n",
        "        print(f'Epoch {epoch + 1}/{num_epochs}, Train Loss: {train_loss:.4f}, Val Loss: {val_loss:.4f}')\n",
        "\n",
        "        # Проверяем, нужно ли остановить обучение\n",
        "        if epochs_without_improvement >= patience:\n",
        "            print(f'Stopping early at epoch {epoch + 1}. Best Val Loss: {best_val_loss:.4f}')\n",
        "            break\n",
        "\n",
        "    # Восстанавливаем лучшие веса\n",
        "    if best_weights is not None:\n",
        "        model.load_state_dict(best_weights)\n",
        "        print(\"Loaded best weights.\")\n",
        "\n",
        "    return train_losses, val_losses"
      ],
      "metadata": {
        "id": "voHWzCjwKTIB"
      },
      "execution_count": null,
      "outputs": []
    },
    {
      "cell_type": "code",
      "source": [
        "def get_predictions(model, test_loader, device):\n",
        "    model.eval()\n",
        "    predictions = []\n",
        "    true_values = []\n",
        "    with torch.no_grad():\n",
        "        for batch_X, batch_y in test_loader:\n",
        "            batch_X = batch_X.to(device)\n",
        "            outputs = model(batch_X)\n",
        "            predictions.append(outputs.cpu().numpy())\n",
        "            true_values.append(batch_y.cpu().numpy())\n",
        "    predictions = np.concatenate(predictions)\n",
        "    true_values = np.concatenate(true_values)\n",
        "    return predictions, true_values"
      ],
      "metadata": {
        "id": "JlVR71-nKTKY"
      },
      "execution_count": null,
      "outputs": []
    },
    {
      "cell_type": "code",
      "source": [
        "train_losses, val_losses = train(model, train_loader, val_loader, optimizer, criterion, num_epochs=50)"
      ],
      "metadata": {
        "id": "awrcw3CIKTM4",
        "colab": {
          "base_uri": "https://localhost:8080/"
        },
        "outputId": "4f229665-7873-499b-a47d-ba4edb23a754"
      },
      "execution_count": null,
      "outputs": [
        {
          "output_type": "stream",
          "name": "stdout",
          "text": [
            "Epoch 1/50, Train Loss: 0.0014, Val Loss: 0.0004\n",
            "Epoch 2/50, Train Loss: 0.0007, Val Loss: 0.0004\n",
            "Epoch 3/50, Train Loss: 0.0006, Val Loss: 0.0005\n",
            "Epoch 4/50, Train Loss: 0.0005, Val Loss: 0.0003\n",
            "Epoch 5/50, Train Loss: 0.0004, Val Loss: 0.0004\n",
            "Epoch 6/50, Train Loss: 0.0004, Val Loss: 0.0004\n",
            "Epoch 7/50, Train Loss: 0.0003, Val Loss: 0.0004\n",
            "Epoch 8/50, Train Loss: 0.0003, Val Loss: 0.0003\n",
            "Epoch 9/50, Train Loss: 0.0003, Val Loss: 0.0004\n",
            "Epoch 10/50, Train Loss: 0.0003, Val Loss: 0.0004\n",
            "Epoch 11/50, Train Loss: 0.0003, Val Loss: 0.0004\n",
            "Epoch 12/50, Train Loss: 0.0003, Val Loss: 0.0004\n",
            "Stopping early at epoch 12. Best Val Loss: 0.0003\n",
            "Loaded best weights.\n"
          ]
        }
      ]
    },
    {
      "cell_type": "code",
      "source": [
        "plt.plot(train_losses, label='Потери на тренировке')\n",
        "plt.plot(val_losses, label='Потери на валидации')\n",
        "plt.title('Обучение')\n",
        "plt.xlabel('Эпоха')\n",
        "plt.ylabel('Потери')\n",
        "plt.legend()"
      ],
      "metadata": {
        "id": "plAZVLMlJsGP",
        "colab": {
          "base_uri": "https://localhost:8080/",
          "height": 490
        },
        "outputId": "c8501e82-dce8-4762-8d2b-4a9781c9e6df"
      },
      "execution_count": null,
      "outputs": [
        {
          "output_type": "execute_result",
          "data": {
            "text/plain": [
              "<matplotlib.legend.Legend at 0x7d53697f16d0>"
            ]
          },
          "metadata": {},
          "execution_count": 61
        },
        {
          "output_type": "display_data",
          "data": {
            "text/plain": [
              "<Figure size 640x480 with 1 Axes>"
            ],
            "image/png": "[encoded data removed]"
          },
          "metadata": {}
        }
      ]
    },
    {
      "cell_type": "code",
      "source": [
        "predictions, true_values = get_predictions(model, test_loader, device)"
      ],
      "metadata": {
        "id": "fUKUPU8WKZCR"
      },
      "execution_count": null,
      "outputs": []
    },
    {
      "cell_type": "code",
      "source": [
        "mae = mean_absolute_error(true_values, predictions)\n",
        "mape = mean_absolute_percentage_error(true_values, predictions)\n",
        "rmse = root_mean_squared_error(true_values, predictions)\n",
        "r2 = r2_score(true_values, predictions)"
      ],
      "metadata": {
        "id": "J2LhI2HEKZEo"
      },
      "execution_count": null,
      "outputs": []
    },
    {
      "cell_type": "code",
      "source": [
        "print(f\"MAE: {mae}\",\n",
        "      f\"MAPE: {mape}\",\n",
        "      f\"RMSE: {rmse}\",\n",
        "      f\"R2: {r2}\", sep = '\\n')"
      ],
      "metadata": {
        "colab": {
          "base_uri": "https://localhost:8080/"
        },
        "id": "Y3uZ3VsHDSte",
        "outputId": "b12b4f09-1df8-4d40-e76e-1a9e957f40bd"
      },
      "execution_count": null,
      "outputs": [
        {
          "output_type": "stream",
          "name": "stdout",
          "text": [
            "MAE: 0.011945380793065759\n",
            "MAPE: 0.2503045101184131\n",
            "RMSE: 0.028536040172300298\n",
            "R2: 0.8906948317060116\n"
          ]
        }
      ]
    },
    {
      "cell_type": "code",
      "source": [
        "plt.figure(figsize=(6,5))\n",
        "plt.plot(true_values, label=\"true\")\n",
        "plt.plot(predictions, 'r', label=\"prediction\")\n",
        "plt.title('Прогноз модели для каротажа PEF на месторождении Nopims')\n",
        "plt.ylabel('Значение')\n",
        "plt.xlabel('Временной шаг')\n",
        "plt.legend()\n",
        "plt.show()"
      ],
      "metadata": {
        "id": "x8B-JOxjKZG4",
        "colab": {
          "base_uri": "https://localhost:8080/",
          "height": 487
        },
        "outputId": "1a691aa2-9a89-4d60-e428-3d9664ea6119"
      },
      "execution_count": null,
      "outputs": [
        {
          "output_type": "display_data",
          "data": {
            "text/plain": [
              "<Figure size 600x500 with 1 Axes>"
            ],
            "image/png": "[encoded data removed]"
          },
          "metadata": {}
        }
      ]
    },
    {
      "cell_type": "code",
      "source": [
        "np.save('pred_1.npy', predictions)"
      ],
      "metadata": {
        "id": "u4VIo31RKcq6"
      },
      "execution_count": null,
      "outputs": []
    },
    {
      "cell_type": "code",
      "source": [
        "for i in range(9):\n",
        "    print(f\"\\nTraining iteration {i + 1}/9\")\n",
        "\n",
        "    # Создаем новую модель и оптимизатор для каждой итерации\n",
        "    model = MyModel()\n",
        "    optimizer = optim.Adam(model.parameters(), lr=0.00007)\n",
        "    criterion = nn.MSELoss()\n",
        "\n",
        "    # Обучаем модель\n",
        "    train_losses, val_losses = train(model, train_loader, val_loader, optimizer, criterion, num_epochs=50)\n",
        "\n",
        "    # Получаем предсказания на тестовом наборе\n",
        "    predictions, _ = get_predictions(model, test_loader, device)\n",
        "\n",
        "    # Сохраняем предсказания текущей итерации\n",
        "    np.save(f'pred_{i + 2}.npy', predictions)"
      ],
      "metadata": {
        "id": "b2DTzbcnKcs3"
      },
      "execution_count": null,
      "outputs": []
    }
  ]
}