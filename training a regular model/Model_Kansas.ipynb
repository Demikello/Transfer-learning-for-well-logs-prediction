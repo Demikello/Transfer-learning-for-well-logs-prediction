{
  "nbformat": 4,
  "nbformat_minor": 0,
  "metadata": {
    "colab": {
      "provenance": [],
      "gpuType": "T4"
    },
    "kernelspec": {
      "name": "python3",
      "display_name": "Python 3"
    },
    "language_info": {
      "name": "python"
    },
    "accelerator": "GPU"
  },
  "cells": [
    {
      "cell_type": "code",
      "execution_count": null,
      "metadata": {
        "id": "6OOYJBO6MOsg"
      },
      "outputs": [],
      "source": [
        "import torch\n",
        "import torch.nn as nn\n",
        "import torch.nn.functional as F\n",
        "import torch.optim as optim\n",
        "from torch.utils.data import DataLoader, TensorDataset\n",
        "import pandas as pd\n",
        "from sklearn.preprocessing import MinMaxScaler\n",
        "import random as rd\n",
        "import numpy as np\n",
        "import matplotlib.pyplot as plt\n",
        "from google.colab import drive\n",
        "from sklearn.metrics import mean_absolute_error\n",
        "from sklearn.metrics import root_mean_squared_error\n",
        "from sklearn.metrics import mean_absolute_percentage_error\n",
        "from sklearn.metrics import r2_score"
      ]
    },
    {
      "cell_type": "code",
      "source": [
        "drive.mount('/content/drive')"
      ],
      "metadata": {
        "id": "a1Td34itMedq",
        "colab": {
          "base_uri": "https://localhost:8080/"
        },
        "outputId": "ab271b16-64f2-48e6-9b3e-29684abb5d72"
      },
      "execution_count": null,
      "outputs": [
        {
          "output_type": "stream",
          "name": "stdout",
          "text": [
            "Mounted at /content/drive\n"
          ]
        }
      ]
    },
    {
      "cell_type": "code",
      "source": [
        "df_force = pd.read_csv('/content/drive/MyDrive/force_logs.csv')\n",
        "df_taranaki = pd.read_csv('/content/drive/MyDrive/taranaki_logs.csv')\n",
        "df_kansas = pd.read_csv('/content/drive/MyDrive/kansas_logs.csv')"
      ],
      "metadata": {
        "id": "9DkhHyjnMegB"
      },
      "execution_count": null,
      "outputs": []
    },
    {
      "cell_type": "code",
      "source": [
        "df_force = df_force.rename(columns={'UWI': 'WELLNAME'})\n",
        "df_taranaki = df_taranaki.rename(columns={'DENS': 'RHOB', 'NEUT': 'NPHI'})\n",
        "df_kansas = df_kansas.rename(columns={'UWI': 'WELLNAME'})"
      ],
      "metadata": {
        "id": "kvDzQ4iVMeiR"
      },
      "execution_count": null,
      "outputs": []
    },
    {
      "cell_type": "code",
      "source": [
        "df_force.set_index(['WELLNAME', 'DEPT'], inplace = True)\n",
        "df_taranaki.set_index(['WELLNAME', 'DEPT'], inplace = True)\n",
        "df_kansas.set_index(['WELLNAME', 'DEPT'], inplace = True)"
      ],
      "metadata": {
        "id": "lgXEv6ocMek7"
      },
      "execution_count": null,
      "outputs": []
    },
    {
      "cell_type": "code",
      "source": [
        "print(f'Количество скважин Taranaki = {df_taranaki.index.get_level_values(0).nunique()}')\n",
        "print(f'Количество скважин Force = {df_force.index.get_level_values(0).nunique()}')\n",
        "print(f'Количество скважин Kansas = {df_kansas.index.get_level_values(0).nunique()}')"
      ],
      "metadata": {
        "id": "TLkd0T_eMenJ",
        "colab": {
          "base_uri": "https://localhost:8080/"
        },
        "outputId": "4a528fa5-197b-418e-8849-de191a6d2208"
      },
      "execution_count": null,
      "outputs": [
        {
          "output_type": "stream",
          "name": "stdout",
          "text": [
            "Количество скважин Taranaki = 152\n",
            "Количество скважин Force = 110\n",
            "Количество скважин Kansas = 93\n"
          ]
        }
      ]
    },
    {
      "cell_type": "code",
      "source": [
        "X_taranaki = df_taranaki.drop('GR', axis = 1)\n",
        "y_taranaki = df_taranaki['GR']\n",
        "\n",
        "X_kansas = df_kansas.drop('GR', axis = 1)\n",
        "y_kansas = df_kansas['GR']\n",
        "\n",
        "X_force = df_force.drop(['GR'], axis = 1)\n",
        "y_force = df_force['GR']"
      ],
      "metadata": {
        "id": "XihySqjBMepi"
      },
      "execution_count": null,
      "outputs": []
    },
    {
      "cell_type": "code",
      "source": [
        "df_X = pd.concat([X_taranaki, X_kansas, X_force])\n",
        "df_y = pd.concat([y_taranaki, y_kansas, y_force])"
      ],
      "metadata": {
        "id": "MY0EhbJTMer6"
      },
      "execution_count": null,
      "outputs": []
    },
    {
      "cell_type": "code",
      "source": [
        "X = df_X.reset_index()\n",
        "y = df_y.reset_index()\n",
        "\n",
        "scaler_X = MinMaxScaler()\n",
        "scaler_y = MinMaxScaler()\n",
        "\n",
        "normalized_values_X = scaler_X.fit_transform(X[['CALI', 'RHOB', 'DRHO', 'NPHI', 'SP']])\n",
        "normalized_values_y = scaler_y.fit_transform(y[['GR']])\n",
        "\n",
        "X[['CALI', 'RHOB', 'DRHO', 'NPHI', 'SP']] = normalized_values_X\n",
        "y[['GR']] = normalized_values_y\n",
        "\n",
        "X_scaled = X.set_index(['WELLNAME', 'DEPT'])\n",
        "y_scaled = y.set_index(['WELLNAME', 'DEPT'])"
      ],
      "metadata": {
        "id": "mdo4QToFMq3r"
      },
      "execution_count": null,
      "outputs": []
    },
    {
      "cell_type": "code",
      "source": [
        "X_kansas = X_scaled.loc[X_kansas.index.get_level_values(0).unique()]\n",
        "y_kansas = y_scaled.loc[y_kansas.index.get_level_values(0).unique()]"
      ],
      "metadata": {
        "id": "mVQ8EB7uMq6R"
      },
      "execution_count": null,
      "outputs": []
    },
    {
      "cell_type": "code",
      "source": [
        "train_part_size = 0.7\n",
        "\n",
        "rd.seed(10)\n",
        "train_wells_kansas = rd.sample(\n",
        "    X_kansas.index.get_level_values(0).unique().tolist(),\n",
        "    round(len(X_kansas.index.get_level_values(0).unique()) * train_part_size),\n",
        ")\n",
        "\n",
        "val_test_wells_kansas = list(set(X_kansas.index.get_level_values(0).unique().tolist()) - set(train_wells_kansas))\n",
        "val_test_wells_kansas = sorted(val_test_wells_kansas)\n",
        "rd.shuffle(val_test_wells_kansas)\n",
        "\n",
        "rd.seed(10)\n",
        "val_wells_kansas = rd.sample(\n",
        "    val_test_wells_kansas,\n",
        "    round(len(val_test_wells_kansas) * 0.5),)\n",
        "\n",
        "test_wells_kansas = list(set(val_test_wells_kansas) - set(val_wells_kansas))\n",
        "test_wells_kansas = sorted(test_wells_kansas)\n",
        "rd.shuffle(test_wells_kansas)"
      ],
      "metadata": {
        "id": "BtKBUsavMeuA"
      },
      "execution_count": null,
      "outputs": []
    },
    {
      "cell_type": "code",
      "source": [
        "train_X_kansas = X_kansas.loc[train_wells_kansas]\n",
        "train_y_kansas = y_kansas.loc[train_wells_kansas]\n",
        "\n",
        "val_X_kansas = X_kansas.loc[val_wells_kansas]\n",
        "val_y_kansas = y_kansas.loc[val_wells_kansas]\n",
        "\n",
        "test_X_kansas = X_kansas.loc[test_wells_kansas]\n",
        "test_y_kansas = y_kansas.loc[test_wells_kansas]"
      ],
      "metadata": {
        "id": "qbt_-Lt1MewZ"
      },
      "execution_count": null,
      "outputs": []
    },
    {
      "cell_type": "code",
      "source": [
        "def gen_data_per_well(features, target, time_steps=50):\n",
        "    Xs, ys = [], []\n",
        "\n",
        "    # Перебираем уникальные значения скважин\n",
        "    for well_name in features.index.get_level_values('WELLNAME').unique():\n",
        "        # Получаем данные для текущей скважины\n",
        "        well_features = features.xs(well_name, level='WELLNAME')\n",
        "        well_target = target.xs(well_name, level='WELLNAME')\n",
        "\n",
        "        # Генерируем X и y для текущей скважины\n",
        "        for i in range(len(well_features) - time_steps):\n",
        "            Xs.append(well_features.iloc[i:i + time_steps].values)\n",
        "            ys.append(well_target.iloc[i + time_steps - 1])\n",
        "\n",
        "    return np.array(Xs), np.array(ys)"
      ],
      "metadata": {
        "id": "LdLhAey7Mx-T"
      },
      "execution_count": null,
      "outputs": []
    },
    {
      "cell_type": "code",
      "source": [
        "train_X_kansas, train_y_kansas = gen_data_per_well(train_X_kansas, train_y_kansas)\n",
        "val_X_kansas, val_y_kansas = gen_data_per_well(val_X_kansas, val_y_kansas)\n",
        "test_X_kansas, test_y_kansas = gen_data_per_well(test_X_kansas, test_y_kansas)"
      ],
      "metadata": {
        "id": "JPB1GGb0MyAp"
      },
      "execution_count": null,
      "outputs": []
    },
    {
      "cell_type": "code",
      "source": [
        "train_X_kansas_tensor = torch.tensor(train_X_kansas, dtype=torch.float32)\n",
        "train_y_kansas_tensor = torch.tensor(train_y_kansas, dtype=torch.float32)\n",
        "\n",
        "val_X_kansas_tensor = torch.tensor(val_X_kansas, dtype=torch.float32)\n",
        "val_y_kansas_tensor = torch.tensor(val_y_kansas, dtype=torch.float32)\n",
        "\n",
        "test_X_kansas_tensor = torch.tensor(test_X_kansas, dtype=torch.float32)\n",
        "test_y_kansas_tensor = torch.tensor(test_y_kansas, dtype=torch.float32)"
      ],
      "metadata": {
        "id": "dWSdG1xMMyDJ"
      },
      "execution_count": null,
      "outputs": []
    },
    {
      "cell_type": "code",
      "source": [
        "# Создание TensorDataset\n",
        "train_dataset = TensorDataset(train_X_kansas_tensor, train_y_kansas_tensor)\n",
        "val_dataset = TensorDataset(val_X_kansas_tensor, val_y_kansas_tensor)\n",
        "test_dataset = TensorDataset(test_X_kansas_tensor, test_y_kansas_tensor)\n",
        "\n",
        "# Создание DataLoader\n",
        "train_loader = DataLoader(train_dataset, batch_size=128, shuffle=True)\n",
        "val_loader = DataLoader(val_dataset, batch_size=128, shuffle=False)\n",
        "test_loader = DataLoader(test_dataset, batch_size=128, shuffle=False)"
      ],
      "metadata": {
        "id": "zyOHJ7xAM3Si"
      },
      "execution_count": null,
      "outputs": []
    },
    {
      "cell_type": "code",
      "source": [
        "class MyModel(nn.Module):\n",
        "    def __init__(self):\n",
        "        super(MyModel, self).__init__()\n",
        "        self.conv1 = nn.Conv1d(in_channels=5, out_channels=32, kernel_size=5, padding='same')\n",
        "        self.bn1 = nn.BatchNorm1d(32)\n",
        "        self.pool1 = nn.MaxPool1d(kernel_size=2)\n",
        "\n",
        "        self.conv2 = nn.Conv1d(in_channels=32, out_channels=256, kernel_size=3, padding='same')\n",
        "        self.bn2 = nn.BatchNorm1d(256)\n",
        "        self.pool2 = nn.MaxPool1d(kernel_size=2)\n",
        "\n",
        "        self.conv3 = nn.Conv1d(in_channels=256, out_channels=256, kernel_size=3, padding='same')\n",
        "        self.bn3 = nn.BatchNorm1d(256)\n",
        "        self.pool3 = nn.MaxPool1d(kernel_size=2)\n",
        "\n",
        "        self.conv4 = nn.Conv1d(in_channels=256, out_channels=64, kernel_size=5, padding='same')\n",
        "        self.bn4 = nn.BatchNorm1d(64)\n",
        "        self.pool4 = nn.MaxPool1d(kernel_size=2)\n",
        "\n",
        "        self.lstm1 = nn.LSTM(input_size=64, hidden_size=128, batch_first=True)\n",
        "        self.dropout1 = nn.Dropout(0.1435846)\n",
        "\n",
        "        self.lstm2 = nn.LSTM(input_size=128, hidden_size=256, batch_first=True)\n",
        "        self.dropout2 = nn.Dropout(0.0744927)\n",
        "\n",
        "        self.lstm3 = nn.LSTM(input_size=256, hidden_size=128, batch_first=True)\n",
        "        self.dropout3 = nn.Dropout(0.230377)\n",
        "\n",
        "        self.lstm4 = nn.LSTM(input_size=128, hidden_size=64, batch_first=True)\n",
        "        self.dropout4 = nn.Dropout(0.096458)\n",
        "\n",
        "        self.fc = nn.Linear(64, 1)\n",
        "\n",
        "    def forward(self, x):\n",
        "        x = x.permute(0, 2, 1)  # Теперь x имеет форму (batch_size, features_dim, time_steps)\n",
        "        x = self.conv1(x)\n",
        "        x = self.bn1(x)\n",
        "        x = nn.ReLU()(x)\n",
        "        x = self.pool1(x)\n",
        "\n",
        "        x = self.conv2(x)\n",
        "        x = self.bn2(x)\n",
        "        x = nn.ReLU()(x)\n",
        "        x = self.pool2(x)\n",
        "\n",
        "        x = self.conv3(x)\n",
        "        x = self.bn3(x)\n",
        "        x = nn.ReLU()(x)\n",
        "        x = self.pool3(x)\n",
        "\n",
        "        x = self.conv4(x)\n",
        "        x = self.bn4(x)\n",
        "        x = nn.ReLU()(x)\n",
        "        x = self.pool4(x)\n",
        "\n",
        "        # Сначала нужно изменить размерность для LSTM\n",
        "        x = x.transpose(1, 2)  # Меняем местами размерности (batch_size, num_channels, sequence_length) -> (batch_size, sequence_length, num_channels)\n",
        "\n",
        "        x, _ = self.lstm1(x)\n",
        "        x = self.dropout1(x)\n",
        "\n",
        "        x, _ = self.lstm2(x)\n",
        "        x = self.dropout2(x)\n",
        "\n",
        "        x, _ = self.lstm3(x)\n",
        "        x = self.dropout3(x)\n",
        "\n",
        "        x, _ = self.lstm4(x)\n",
        "        x = self.dropout4(x)\n",
        "\n",
        "        # Берем только последний выход LSTM\n",
        "        x = x[:, -1, :]  # (batch_size, hidden_size)\n",
        "\n",
        "        x = self.fc(x)\n",
        "\n",
        "        return x"
      ],
      "metadata": {
        "id": "xBW9x1tkM3Ux"
      },
      "execution_count": null,
      "outputs": []
    },
    {
      "cell_type": "code",
      "source": [
        "model = MyModel()\n",
        "optimizer = optim.Adam(model.parameters(), lr=0.0006)\n",
        "criterion = nn.MSELoss()"
      ],
      "metadata": {
        "id": "HiaZtD2bMeyp"
      },
      "execution_count": null,
      "outputs": []
    },
    {
      "cell_type": "code",
      "source": [
        "device = torch.device(\"cuda\" if torch.cuda.is_available() else \"cpu\")"
      ],
      "metadata": {
        "id": "dUfwnL6fNdKz"
      },
      "execution_count": null,
      "outputs": []
    },
    {
      "cell_type": "code",
      "source": [
        "def train(model, train_loader, val_loader, optimizer, criterion, num_epochs, patience=4, lr_reduce_factor=0.5):\n",
        "    model.to(device)  # Перемещаем модель на GPU\n",
        "\n",
        "    best_val_loss = float('inf')  # Наименьшая валидационная потеря\n",
        "    epochs_without_improvement = 0  # Счетчик эпох без улучшения\n",
        "    best_weights = None  # Переменная для хранения лучших весов\n",
        "\n",
        "    train_losses = []\n",
        "    val_losses = []\n",
        "\n",
        "    for epoch in range(num_epochs):\n",
        "        model.train()  # В режим тренировки\n",
        "        train_loss = 0.0\n",
        "\n",
        "        for inputs, targets in train_loader:\n",
        "            inputs, targets = inputs.to(device), targets.to(device)  # Перемещаем данные на GPU\n",
        "            optimizer.zero_grad()  # Обнуляем градиенты\n",
        "            outputs = model(inputs)  # Прямой проход\n",
        "            loss = criterion(outputs, targets)  # Вычисление потерь\n",
        "            loss.backward()  # Обратный проход\n",
        "            optimizer.step()  # Обновление весов\n",
        "\n",
        "            train_loss += loss.item()  # Суммируем потери для тренировки\n",
        "\n",
        "        train_loss /= len(train_loader)  # Среднее значение по всем батчам\n",
        "        train_losses.append(train_loss)\n",
        "\n",
        "        # Валидация\n",
        "        model.eval()  # В режим валидации\n",
        "        val_loss = 0.0\n",
        "        with torch.no_grad():  # Отключаем градиенты\n",
        "            for inputs, targets in val_loader:\n",
        "                inputs, targets = inputs.to(device), targets.to(device)  # Перемещаем данные на GPU\n",
        "                outputs = model(inputs)\n",
        "                loss = criterion(outputs, targets)\n",
        "                val_loss += loss.item()\n",
        "\n",
        "        val_loss /= len(val_loader)  # Среднее значение по всем батчам\n",
        "        val_losses.append(val_loss)\n",
        "\n",
        "        # Если текущая валидационная потеря лучше, сохраняем веса\n",
        "        if val_loss < best_val_loss:\n",
        "            best_val_loss = val_loss\n",
        "            best_weights = model.state_dict()  # Сохраняем лучшие веса\n",
        "            epochs_without_improvement = 0  # Сбрасываем счетчик\n",
        "        else:\n",
        "            epochs_without_improvement += 1  # Увеличиваем счетчик без улучшений\n",
        "\n",
        "        # Изменяем скорость обучения, если не было улучшения\n",
        "        if epochs_without_improvement > 0 and epochs_without_improvement % 2 == 0:\n",
        "            for param_group in optimizer.param_groups:\n",
        "                param_group['lr'] *= lr_reduce_factor  # Уменьшаем lr в 2 раза\n",
        "\n",
        "        print(f'Epoch {epoch + 1}/{num_epochs}, Train Loss: {train_loss:.4f}, Val Loss: {val_loss:.4f}')\n",
        "\n",
        "        # Проверяем, нужно ли остановить обучение\n",
        "        if epochs_without_improvement >= patience:\n",
        "            print(f'Stopping early at epoch {epoch + 1}. Best Val Loss: {best_val_loss:.4f}')\n",
        "            break\n",
        "\n",
        "    # Восстанавливаем лучшие веса\n",
        "    if best_weights is not None:\n",
        "        model.load_state_dict(best_weights)\n",
        "        print(\"Loaded best weights.\")\n",
        "\n",
        "    return train_losses, val_losses"
      ],
      "metadata": {
        "id": "_3EJheabNdNj"
      },
      "execution_count": null,
      "outputs": []
    },
    {
      "cell_type": "code",
      "source": [
        "def get_predictions(model, test_loader, device):\n",
        "    model.eval()\n",
        "    predictions = []\n",
        "    true_values = []\n",
        "    with torch.no_grad():\n",
        "        for batch_X, batch_y in test_loader:\n",
        "            batch_X = batch_X.to(device)\n",
        "            outputs = model(batch_X)\n",
        "            predictions.append(outputs.cpu().numpy())\n",
        "            true_values.append(batch_y.cpu().numpy())\n",
        "    predictions = np.concatenate(predictions)\n",
        "    true_values = np.concatenate(true_values)\n",
        "    return predictions, true_values"
      ],
      "metadata": {
        "id": "kfoofAdUNfz0"
      },
      "execution_count": null,
      "outputs": []
    },
    {
      "cell_type": "code",
      "source": [
        "train_losses, val_losses = train(model, train_loader, val_loader, optimizer, criterion, num_epochs=50)"
      ],
      "metadata": {
        "id": "uhTr2JzfNf16",
        "colab": {
          "base_uri": "https://localhost:8080/"
        },
        "outputId": "6c1bc718-d7c0-41ae-9f4d-04aa998f821b"
      },
      "execution_count": null,
      "outputs": [
        {
          "output_type": "stream",
          "name": "stdout",
          "text": [
            "Epoch 1/50, Train Loss: 0.0022, Val Loss: 0.0023\n",
            "Epoch 2/50, Train Loss: 0.0016, Val Loss: 0.0021\n",
            "Epoch 3/50, Train Loss: 0.0014, Val Loss: 0.0021\n",
            "Epoch 4/50, Train Loss: 0.0014, Val Loss: 0.0021\n",
            "Epoch 5/50, Train Loss: 0.0013, Val Loss: 0.0021\n",
            "Epoch 6/50, Train Loss: 0.0012, Val Loss: 0.0020\n",
            "Epoch 7/50, Train Loss: 0.0012, Val Loss: 0.0020\n",
            "Epoch 8/50, Train Loss: 0.0012, Val Loss: 0.0020\n",
            "Epoch 9/50, Train Loss: 0.0011, Val Loss: 0.0020\n",
            "Epoch 10/50, Train Loss: 0.0011, Val Loss: 0.0020\n",
            "Epoch 11/50, Train Loss: 0.0010, Val Loss: 0.0020\n",
            "Epoch 12/50, Train Loss: 0.0010, Val Loss: 0.0020\n",
            "Epoch 13/50, Train Loss: 0.0010, Val Loss: 0.0020\n",
            "Epoch 14/50, Train Loss: 0.0010, Val Loss: 0.0021\n",
            "Epoch 15/50, Train Loss: 0.0010, Val Loss: 0.0020\n",
            "Epoch 16/50, Train Loss: 0.0010, Val Loss: 0.0020\n",
            "Stopping early at epoch 16. Best Val Loss: 0.0020\n",
            "Loaded best weights.\n"
          ]
        }
      ]
    },
    {
      "cell_type": "code",
      "source": [
        "plt.plot(train_losses, label='Потери на тренировке')\n",
        "plt.plot(val_losses, label='Потери на валидации')\n",
        "plt.title('Обучение')\n",
        "plt.xlabel('Эпоха')\n",
        "plt.ylabel('Потери')\n",
        "plt.legend()"
      ],
      "metadata": {
        "id": "TEgW9tsaMe1C",
        "colab": {
          "base_uri": "https://localhost:8080/",
          "height": 490
        },
        "outputId": "e493677b-1a8a-4a0b-d786-483629235e21"
      },
      "execution_count": null,
      "outputs": [
        {
          "output_type": "execute_result",
          "data": {
            "text/plain": [
              "<matplotlib.legend.Legend at 0x7ed633106990>"
            ]
          },
          "metadata": {},
          "execution_count": 33
        },
        {
          "output_type": "display_data",
          "data": {
            "text/plain": [
              "<Figure size 640x480 with 1 Axes>"
            ],
            "image/png": "[encoded data removed]"
          },
          "metadata": {}
        }
      ]
    },
    {
      "cell_type": "code",
      "source": [
        "predictions, true_values = get_predictions(model, test_loader, device)"
      ],
      "metadata": {
        "id": "obtcn469NjLC"
      },
      "execution_count": null,
      "outputs": []
    },
    {
      "cell_type": "code",
      "source": [
        "mae = mean_absolute_error(true_values, predictions)\n",
        "mape = mean_absolute_percentage_error(true_values, predictions)\n",
        "rmse = root_mean_squared_error(true_values, predictions)\n",
        "r2 = r2_score(true_values, predictions)"
      ],
      "metadata": {
        "id": "4Huxu5t8NjNZ"
      },
      "execution_count": null,
      "outputs": []
    },
    {
      "cell_type": "code",
      "source": [
        "print(f\"MAE: {mae}\",\n",
        "      f\"MAPE: {mape}\",\n",
        "      f\"RMSE: {rmse}\",\n",
        "      f\"R2: {r2}\", sep = '\\n')"
      ],
      "metadata": {
        "colab": {
          "base_uri": "https://localhost:8080/"
        },
        "id": "e76M8_HAsjCx",
        "outputId": "57a9711c-383f-440f-e6d9-eb2642784df2"
      },
      "execution_count": null,
      "outputs": [
        {
          "output_type": "stream",
          "name": "stdout",
          "text": [
            "MAE: 0.024959290886293655\n",
            "MAPE: 0.3437483953304684\n",
            "RMSE: 0.038685284169491865\n",
            "R2: 0.6910038478717615\n"
          ]
        }
      ]
    },
    {
      "cell_type": "code",
      "source": [
        "plt.figure(figsize=(6,5))\n",
        "plt.plot(true_values, label=\"true\")\n",
        "plt.plot(predictions, 'r', label=\"prediction\")\n",
        "plt.title('Прогноз модели для каротажа GR на месторождении Kansas')\n",
        "plt.ylabel('Значение')\n",
        "plt.xlabel('Временной шаг')\n",
        "plt.legend()\n",
        "plt.show()"
      ],
      "metadata": {
        "id": "0DCwrF2sNoPi",
        "colab": {
          "base_uri": "https://localhost:8080/",
          "height": 487
        },
        "outputId": "a6677ff8-6cda-4607-a42e-c50a93ea4ad9"
      },
      "execution_count": null,
      "outputs": [
        {
          "output_type": "display_data",
          "data": {
            "text/plain": [
              "<Figure size 600x500 with 1 Axes>"
            ],
            "image/png": "[encoded data removed]"
          },
          "metadata": {}
        }
      ]
    },
    {
      "cell_type": "code",
      "source": [
        "np.save('pred_1.npy', predictions)"
      ],
      "metadata": {
        "id": "2ENy8z_wNoRy"
      },
      "execution_count": null,
      "outputs": []
    },
    {
      "cell_type": "code",
      "source": [
        "for i in range(9):\n",
        "    print(f\"\\nTraining iteration {i + 1}/9\")\n",
        "\n",
        "    # Создаем новую модель и оптимизатор для каждой итерации\n",
        "    model = MyModel()\n",
        "    optimizer = optim.Adam(model.parameters(), lr=0.0006)\n",
        "    criterion = nn.MSELoss()\n",
        "\n",
        "    # Обучаем модель\n",
        "    train_losses, val_losses = train(model, train_loader, val_loader, optimizer, criterion, num_epochs=50)\n",
        "\n",
        "    # Получаем предсказания на тестовом наборе\n",
        "    predictions, _ = get_predictions(model, test_loader, device)\n",
        "\n",
        "    # Сохраняем предсказания текущей итерации\n",
        "    np.save(f'pred_{i + 2}.npy', predictions)"
      ],
      "metadata": {
        "id": "ZipE7AW-NjPp"
      },
      "execution_count": null,
      "outputs": []
    }
  ]
}