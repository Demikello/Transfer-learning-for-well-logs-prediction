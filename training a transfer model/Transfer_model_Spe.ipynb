{
  "nbformat": 4,
  "nbformat_minor": 0,
  "metadata": {
    "colab": {
      "provenance": [],
      "gpuType": "T4"
    },
    "kernelspec": {
      "name": "python3",
      "display_name": "Python 3"
    },
    "language_info": {
      "name": "python"
    },
    "accelerator": "GPU"
  },
  "cells": [
    {
      "cell_type": "code",
      "source": [
        "!pip install optuna"
      ],
      "metadata": {
        "id": "3luRx3W-6wFn",
        "colab": {
          "base_uri": "https://localhost:8080/"
        },
        "outputId": "33ffa278-e715-4542-dff0-dc1f1febc3f1"
      },
      "execution_count": null,
      "outputs": [
        {
          "output_type": "stream",
          "name": "stdout",
          "text": [
            "Collecting optuna\n",
            "  Downloading optuna-4.3.0-py3-none-any.whl.metadata (17 kB)\n",
            "Collecting alembic>=1.5.0 (from optuna)\n",
            "  Downloading alembic-1.15.2-py3-none-any.whl.metadata (7.3 kB)\n",
            "Collecting colorlog (from optuna)\n",
            "  Downloading colorlog-6.9.0-py3-none-any.whl.metadata (10 kB)\n",
            "Requirement already satisfied: numpy in /usr/local/lib/python3.11/dist-packages (from optuna) (2.0.2)\n",
            "Requirement already satisfied: packaging>=20.0 in /usr/local/lib/python3.11/dist-packages (from optuna) (24.2)\n",
            "Requirement already satisfied: sqlalchemy>=1.4.2 in /usr/local/lib/python3.11/dist-packages (from optuna) (2.0.40)\n",
            "Requirement already satisfied: tqdm in /usr/local/lib/python3.11/dist-packages (from optuna) (4.67.1)\n",
            "Requirement already satisfied: PyYAML in /usr/local/lib/python3.11/dist-packages (from optuna) (6.0.2)\n",
            "Requirement already satisfied: Mako in /usr/lib/python3/dist-packages (from alembic>=1.5.0->optuna) (1.1.3)\n",
            "Requirement already satisfied: typing-extensions>=4.12 in /usr/local/lib/python3.11/dist-packages (from alembic>=1.5.0->optuna) (4.13.2)\n",
            "Requirement already satisfied: greenlet>=1 in /usr/local/lib/python3.11/dist-packages (from sqlalchemy>=1.4.2->optuna) (3.2.1)\n",
            "Downloading optuna-4.3.0-py3-none-any.whl (386 kB)\n",
            "\u001b[2K   \u001b[90m━━━━━━━━━━━━━━━━━━━━━━━━━━━━━━━━━━━━━━━━\u001b[0m \u001b[32m386.6/386.6 kB\u001b[0m \u001b[31m11.7 MB/s\u001b[0m eta \u001b[36m0:00:00\u001b[0m\n",
            "\u001b[?25hDownloading alembic-1.15.2-py3-none-any.whl (231 kB)\n",
            "\u001b[2K   \u001b[90m━━━━━━━━━━━━━━━━━━━━━━━━━━━━━━━━━━━━━━━━\u001b[0m \u001b[32m231.9/231.9 kB\u001b[0m \u001b[31m9.6 MB/s\u001b[0m eta \u001b[36m0:00:00\u001b[0m\n",
            "\u001b[?25hDownloading colorlog-6.9.0-py3-none-any.whl (11 kB)\n",
            "Installing collected packages: colorlog, alembic, optuna\n",
            "Successfully installed alembic-1.15.2 colorlog-6.9.0 optuna-4.3.0\n"
          ]
        }
      ]
    },
    {
      "cell_type": "code",
      "execution_count": null,
      "metadata": {
        "id": "JeTi_32kjGba"
      },
      "outputs": [],
      "source": [
        "import torch\n",
        "import torch.nn as nn\n",
        "import torch.nn.functional as F\n",
        "import torch.optim as optim\n",
        "from torch.utils.data import DataLoader, TensorDataset\n",
        "import pandas as pd\n",
        "from sklearn.metrics import r2_score\n",
        "from sklearn.preprocessing import MinMaxScaler\n",
        "import random as rd\n",
        "import numpy as np\n",
        "import optuna\n",
        "import matplotlib.pyplot as plt\n",
        "from google.colab import drive\n",
        "from sklearn.metrics import mean_absolute_error\n",
        "from sklearn.metrics import root_mean_squared_error\n",
        "from sklearn.metrics import mean_absolute_percentage_error\n",
        "from sklearn.metrics import r2_score"
      ]
    },
    {
      "cell_type": "code",
      "source": [
        "drive.mount('/content/drive')"
      ],
      "metadata": {
        "colab": {
          "base_uri": "https://localhost:8080/"
        },
        "id": "2m3ZnYQajMYu",
        "outputId": "a4b1721c-c827-466a-ec37-498a881249df"
      },
      "execution_count": null,
      "outputs": [
        {
          "output_type": "stream",
          "name": "stdout",
          "text": [
            "Mounted at /content/drive\n"
          ]
        }
      ]
    },
    {
      "cell_type": "code",
      "source": [
        "df_kansas = pd.read_csv('/content/drive/MyDrive/Kansas_ILD_clear.csv')\n",
        "df_spe = pd.read_csv('/content/drive/MyDrive/SPE_clear.csv')"
      ],
      "metadata": {
        "id": "m_ySZSWijMbV"
      },
      "execution_count": null,
      "outputs": []
    },
    {
      "cell_type": "code",
      "source": [
        "df_kansas.set_index(['UWI', 'DEPT'], inplace = True)\n",
        "df_spe.set_index(['UWI', 'DEPT'], inplace = True)"
      ],
      "metadata": {
        "id": "am0ZTp0tjMd2"
      },
      "execution_count": null,
      "outputs": []
    },
    {
      "cell_type": "code",
      "source": [
        "df_kansas = df_kansas[['GR', 'NPHI', 'ILD', 'DPHI']]\n",
        "df_spe = df_spe[['GR', 'NPHI', 'ILD', 'DPHI']]"
      ],
      "metadata": {
        "id": "kwniOaSojMgW"
      },
      "execution_count": null,
      "outputs": []
    },
    {
      "cell_type": "code",
      "source": [
        "print(f'Количество скважин Kansas = {df_kansas.index.get_level_values(0).nunique()}')\n",
        "print(f'Количество скважин SPE = {df_spe.index.get_level_values(0).nunique()}')"
      ],
      "metadata": {
        "colab": {
          "base_uri": "https://localhost:8080/"
        },
        "id": "v9yBnbObjMiu",
        "outputId": "65ce8dcd-eace-422b-cd3e-0400b4fde5fe"
      },
      "execution_count": null,
      "outputs": [
        {
          "output_type": "stream",
          "name": "stdout",
          "text": [
            "Количество скважин Kansas = 96\n",
            "Количество скважин SPE = 72\n"
          ]
        }
      ]
    },
    {
      "cell_type": "code",
      "source": [
        "X_kansas = df_kansas.drop('DPHI', axis = 1)\n",
        "y_kansas = df_kansas['DPHI']\n",
        "\n",
        "X_spe = df_spe.drop(['DPHI'], axis = 1)\n",
        "y_spe = df_spe['DPHI']"
      ],
      "metadata": {
        "id": "-7NsF7gJjMlG"
      },
      "execution_count": null,
      "outputs": []
    },
    {
      "cell_type": "code",
      "source": [
        "df_X = pd.concat([X_kansas, X_spe])\n",
        "df_y = pd.concat([y_kansas, y_spe])"
      ],
      "metadata": {
        "id": "1oBx0dfyjYzf"
      },
      "execution_count": null,
      "outputs": []
    },
    {
      "cell_type": "code",
      "source": [
        "X = df_X.reset_index()\n",
        "y = df_y.reset_index()\n",
        "\n",
        "scaler_X = MinMaxScaler()\n",
        "scaler_y = MinMaxScaler()\n",
        "\n",
        "normalized_values_X = scaler_X.fit_transform(X[['GR', 'NPHI', 'ILD']])\n",
        "normalized_values_y = scaler_y.fit_transform(y[['DPHI']])\n",
        "\n",
        "X[['GR', 'NPHI', 'ILD']] = normalized_values_X\n",
        "y[['DPHI']] = normalized_values_y\n",
        "\n",
        "X_scaled = X.set_index(['UWI', 'DEPT'])\n",
        "y_scaled = y.set_index(['UWI', 'DEPT'])"
      ],
      "metadata": {
        "id": "ywYwhUTjjY1t"
      },
      "execution_count": null,
      "outputs": []
    },
    {
      "cell_type": "code",
      "source": [
        "X_kansas = X_scaled.loc[X_kansas.index.get_level_values(0).unique()]\n",
        "y_kansas = y_scaled.loc[y_kansas.index.get_level_values(0).unique()]\n",
        "\n",
        "X_spe = X_scaled.loc[X_spe.index.get_level_values(0).unique()]\n",
        "y_spe = y_scaled.loc[y_spe.index.get_level_values(0).unique()]"
      ],
      "metadata": {
        "id": "ai2G1v7BjMnm"
      },
      "execution_count": null,
      "outputs": []
    },
    {
      "cell_type": "code",
      "source": [
        "train_part_size = 0.7\n",
        "\n",
        "# Случайно выберем скважины для тренировочного и тестового наборов\n",
        "rd.seed(8)\n",
        "train_wells_kansas = rd.sample(\n",
        "    X_kansas.index.get_level_values(0).unique().tolist(),\n",
        "    round(len(X_kansas.index.get_level_values(0).unique()) * train_part_size),\n",
        ")\n",
        "\n",
        "val_wells_kansas = list(set(X_kansas.index.get_level_values(0).unique().tolist()) - set(train_wells_kansas))\n",
        "val_wells_kansas = sorted(val_wells_kansas)\n",
        "rd.shuffle(val_wells_kansas)"
      ],
      "metadata": {
        "id": "k9sai1wEjiuf"
      },
      "execution_count": null,
      "outputs": []
    },
    {
      "cell_type": "code",
      "source": [
        "rd.seed(10)\n",
        "train_wells_spe = rd.sample(\n",
        "    X_spe.index.get_level_values(0).unique().tolist(),\n",
        "    round(len(X_spe.index.get_level_values(0).unique()) * train_part_size),\n",
        ")\n",
        "\n",
        "val_test_wells_spe = list(set(X_spe.index.get_level_values(0).unique().tolist()) - set(train_wells_spe))\n",
        "val_test_wells_spe = sorted(val_test_wells_spe)\n",
        "rd.shuffle(val_test_wells_spe)\n",
        "\n",
        "rd.seed(10)\n",
        "val_wells_spe = rd.sample(\n",
        "    val_test_wells_spe,\n",
        "    round(len(val_test_wells_spe) * 0.5),)\n",
        "\n",
        "test_wells_spe = list(set(val_test_wells_spe) - set(val_wells_spe))\n",
        "test_wells_spe = sorted(test_wells_spe)\n",
        "rd.shuffle(test_wells_spe)"
      ],
      "metadata": {
        "id": "1O3D3xfdjiw2"
      },
      "execution_count": null,
      "outputs": []
    },
    {
      "cell_type": "code",
      "source": [
        "train_X_kansas = X_kansas.loc[train_wells_kansas]\n",
        "train_y_kansas = y_kansas.loc[train_wells_kansas]\n",
        "\n",
        "val_X_kansas = X_kansas.loc[val_wells_kansas]\n",
        "val_y_kansas = y_kansas.loc[val_wells_kansas]"
      ],
      "metadata": {
        "id": "IeQMys2cjmE3"
      },
      "execution_count": null,
      "outputs": []
    },
    {
      "cell_type": "code",
      "source": [
        "train_X_spe = X_spe.loc[train_wells_spe]\n",
        "train_y_spe = y_spe.loc[train_wells_spe]\n",
        "\n",
        "val_X_spe = X_spe.loc[val_wells_spe]\n",
        "val_y_spe = y_spe.loc[val_wells_spe]\n",
        "\n",
        "test_X_spe = X_spe.loc[test_wells_spe]\n",
        "test_y_spe = y_spe.loc[test_wells_spe]"
      ],
      "metadata": {
        "id": "Agl_fvq-jmHN"
      },
      "execution_count": null,
      "outputs": []
    },
    {
      "cell_type": "code",
      "source": [
        "def gen_data_per_well(features, target, time_steps=30):\n",
        "    Xs, ys = [], []\n",
        "\n",
        "    # Перебираем уникальные значения скважин\n",
        "    for well_name in features.index.get_level_values('UWI').unique():\n",
        "        # Получаем данные для текущей скважины\n",
        "        well_features = features.xs(well_name, level='UWI')\n",
        "        well_target = target.xs(well_name, level='UWI')\n",
        "\n",
        "        # Генерируем X и y для текущей скважины\n",
        "        for i in range(len(well_features) - time_steps):\n",
        "            Xs.append(well_features.iloc[i:i + time_steps].values)\n",
        "            ys.append(well_target.iloc[i + time_steps - 1])\n",
        "\n",
        "    return np.array(Xs), np.array(ys)"
      ],
      "metadata": {
        "id": "S2nCGW41jMp2"
      },
      "execution_count": null,
      "outputs": []
    },
    {
      "cell_type": "code",
      "source": [
        "train_X_kansas, train_y_kansas = gen_data_per_well(train_X_kansas, train_y_kansas)\n",
        "val_X_kansas, val_y_kansas = gen_data_per_well(val_X_kansas, val_y_kansas)"
      ],
      "metadata": {
        "id": "p6cs88nQjMsN"
      },
      "execution_count": null,
      "outputs": []
    },
    {
      "cell_type": "code",
      "source": [
        "train_X_spe, train_y_spe = gen_data_per_well(train_X_spe, train_y_spe)\n",
        "val_X_spe, val_y_spe = gen_data_per_well(val_X_spe, val_y_spe)\n",
        "test_X_spe, test_y_spe = gen_data_per_well(test_X_spe, test_y_spe)"
      ],
      "metadata": {
        "id": "TGuXc20Bjs2g"
      },
      "execution_count": null,
      "outputs": []
    },
    {
      "cell_type": "code",
      "source": [
        "train_X_kansas_tensor = torch.tensor(train_X_kansas, dtype=torch.float32)\n",
        "train_y_kansas_tensor = torch.tensor(train_y_kansas, dtype=torch.float32)\n",
        "\n",
        "val_X_kansas_tensor = torch.tensor(val_X_kansas, dtype=torch.float32)\n",
        "val_y_kansas_tensor = torch.tensor(val_y_kansas, dtype=torch.float32)"
      ],
      "metadata": {
        "id": "QD3Sv_t2js5G"
      },
      "execution_count": null,
      "outputs": []
    },
    {
      "cell_type": "code",
      "source": [
        "train_X_spe_tensor = torch.tensor(train_X_spe, dtype=torch.float32)\n",
        "train_y_spe_tensor = torch.tensor(train_y_spe, dtype=torch.float32)\n",
        "\n",
        "val_X_spe_tensor = torch.tensor(val_X_spe, dtype=torch.float32)\n",
        "val_y_spe_tensor = torch.tensor(val_y_spe, dtype=torch.float32)\n",
        "\n",
        "test_X_spe_tensor = torch.tensor(test_X_spe, dtype=torch.float32)\n",
        "test_y_spe_tensor = torch.tensor(test_y_spe, dtype=torch.float32)"
      ],
      "metadata": {
        "id": "Az9c3S_SjyYH"
      },
      "execution_count": null,
      "outputs": []
    },
    {
      "cell_type": "code",
      "source": [
        "# Создание TensorDataset\n",
        "train_dataset_kansas = TensorDataset(train_X_kansas_tensor, train_y_kansas_tensor)\n",
        "val_dataset_kansas = TensorDataset(val_X_kansas_tensor, val_y_kansas_tensor)\n",
        "\n",
        "# Создание DataLoader\n",
        "train_loader_kansas = DataLoader(train_dataset_kansas, batch_size=128, shuffle=True)\n",
        "val_loader_kansas = DataLoader(val_dataset_kansas, batch_size=128, shuffle=False)"
      ],
      "metadata": {
        "id": "Yx_g_tbqj76x"
      },
      "execution_count": null,
      "outputs": []
    },
    {
      "cell_type": "code",
      "source": [
        "# Создание TensorDataset\n",
        "train_dataset_spe = TensorDataset(train_X_spe_tensor, train_y_spe_tensor)\n",
        "val_dataset_spe = TensorDataset(val_X_spe_tensor, val_y_spe_tensor)\n",
        "test_dataset_spe = TensorDataset(test_X_spe_tensor, test_y_spe_tensor)\n",
        "\n",
        "# Создание DataLoader\n",
        "train_loader_spe = DataLoader(train_dataset_spe, batch_size=32, shuffle=True)\n",
        "val_loader_spe = DataLoader(val_dataset_spe, batch_size=32, shuffle=False)\n",
        "test_loader_spe = DataLoader(test_dataset_spe, batch_size=32, shuffle=False)"
      ],
      "metadata": {
        "id": "gZTuNuIWjyaY"
      },
      "execution_count": null,
      "outputs": []
    },
    {
      "cell_type": "code",
      "source": [
        "class MyModel(nn.Module):\n",
        "    def __init__(self):\n",
        "        super(MyModel, self).__init__()\n",
        "        self.conv1 = nn.Conv1d(in_channels=3, out_channels=256, kernel_size=3, padding='same')\n",
        "        self.bn1 = nn.BatchNorm1d(256)\n",
        "        self.pool1 = nn.MaxPool1d(kernel_size=2)\n",
        "\n",
        "        self.conv2 = nn.Conv1d(in_channels=256, out_channels=256, kernel_size=3, padding='same')\n",
        "        self.bn2 = nn.BatchNorm1d(256)\n",
        "        self.pool2 = nn.MaxPool1d(kernel_size=2)\n",
        "\n",
        "        self.lstm1 = nn.LSTM(input_size=256, hidden_size=128, batch_first=True)\n",
        "        self.dropout1 = nn.Dropout(0.162636)\n",
        "\n",
        "        self.lstm2 = nn.LSTM(input_size=128, hidden_size=64, batch_first=True)\n",
        "        self.dropout2 = nn.Dropout(0.090567)\n",
        "\n",
        "        self.fc = nn.Linear(64, 1)\n",
        "\n",
        "    def forward(self, x):\n",
        "        x = x.permute(0, 2, 1)  # Теперь x имеет форму (batch_size, features_dim, time_steps)\n",
        "        x = self.conv1(x)\n",
        "        x = self.bn1(x)\n",
        "        x = nn.ReLU()(x)\n",
        "        x = self.pool1(x)\n",
        "\n",
        "        x = self.conv2(x)\n",
        "        x = self.bn2(x)\n",
        "        x = nn.ReLU()(x)\n",
        "        x = self.pool2(x)\n",
        "\n",
        "        # Сначала нужно изменить размерность для LSTM\n",
        "        x = x.transpose(1, 2)  # Меняем местами размерности (batch_size, num_channels, sequence_length) -> (batch_size, sequence_length, num_channels)\n",
        "\n",
        "        x, _ = self.lstm1(x)\n",
        "        x = self.dropout1(x)\n",
        "\n",
        "        x, _ = self.lstm2(x)\n",
        "        x = self.dropout2(x)\n",
        "\n",
        "        # Берем только последний выход LSTM\n",
        "        x = x[:, -1, :]  # (batch_size, hidden_size)\n",
        "\n",
        "        x = self.fc(x)\n",
        "\n",
        "        return x"
      ],
      "metadata": {
        "id": "mgc73MWOjs-Y"
      },
      "execution_count": null,
      "outputs": []
    },
    {
      "cell_type": "code",
      "source": [
        "device = torch.device(\"cuda\" if torch.cuda.is_available() else \"cpu\")"
      ],
      "metadata": {
        "id": "hW-bR1DYkRYx"
      },
      "execution_count": null,
      "outputs": []
    },
    {
      "cell_type": "code",
      "source": [
        "def train(model, train_loader, val_loader, optimizer, criterion, num_epochs, patience=4, lr_reduce_factor=0.5):\n",
        "    model.to(device)  # Перемещаем модель на GPU\n",
        "\n",
        "    best_val_loss = float('inf')  # Наименьшая валидационная потеря\n",
        "    epochs_without_improvement = 0  # Счетчик эпох без улучшения\n",
        "    best_weights = None  # Переменная для хранения лучших весов\n",
        "\n",
        "    train_losses = []\n",
        "    val_losses = []\n",
        "\n",
        "    for epoch in range(num_epochs):\n",
        "        model.train()  # В режим тренировки\n",
        "        train_loss = 0.0\n",
        "\n",
        "        for inputs, targets in train_loader:\n",
        "            inputs, targets = inputs.to(device), targets.to(device)  # Перемещаем данные на GPU\n",
        "            optimizer.zero_grad()  # Обнуляем градиенты\n",
        "            outputs = model(inputs)  # Прямой проход\n",
        "            loss = criterion(outputs, targets)  # Вычисление потерь\n",
        "            loss.backward()  # Обратный проход\n",
        "            optimizer.step()  # Обновление весов\n",
        "\n",
        "            train_loss += loss.item()  # Суммируем потери для тренировки\n",
        "\n",
        "        train_loss /= len(train_loader)  # Среднее значение по всем батчам\n",
        "        train_losses.append(train_loss)\n",
        "\n",
        "        # Валидация\n",
        "        model.eval()  # В режим валидации\n",
        "        val_loss = 0.0\n",
        "        with torch.no_grad():  # Отключаем градиенты\n",
        "            for inputs, targets in val_loader:\n",
        "                inputs, targets = inputs.to(device), targets.to(device)  # Перемещаем данные на GPU\n",
        "                outputs = model(inputs)\n",
        "                loss = criterion(outputs, targets)\n",
        "                val_loss += loss.item()\n",
        "\n",
        "        val_loss /= len(val_loader)  # Среднее значение по всем батчам\n",
        "        val_losses.append(val_loss)\n",
        "\n",
        "        # Если текущая валидационная потеря лучше, сохраняем веса\n",
        "        if val_loss < best_val_loss:\n",
        "            best_val_loss = val_loss\n",
        "            best_weights = model.state_dict()  # Сохраняем лучшие веса\n",
        "            epochs_without_improvement = 0  # Сбрасываем счетчик\n",
        "        else:\n",
        "            epochs_without_improvement += 1  # Увеличиваем счетчик без улучшений\n",
        "\n",
        "        # Изменяем скорость обучения, если не было улучшения\n",
        "        if epochs_without_improvement > 0 and epochs_without_improvement % 2 == 0:\n",
        "            for param_group in optimizer.param_groups:\n",
        "                param_group['lr'] *= lr_reduce_factor  # Уменьшаем lr в 2 раза\n",
        "\n",
        "        print(f'Epoch {epoch + 1}/{num_epochs}, Train Loss: {train_loss:.4f}, Val Loss: {val_loss:.4f}')\n",
        "\n",
        "        # Проверяем, нужно ли остановить обучение\n",
        "        if epochs_without_improvement >= patience:\n",
        "            print(f'Stopping early at epoch {epoch + 1}. Best Val Loss: {best_val_loss:.4f}')\n",
        "            break\n",
        "\n",
        "    # Восстанавливаем лучшие веса\n",
        "    if best_weights is not None:\n",
        "        model.load_state_dict(best_weights)\n",
        "        print(\"Loaded best weights.\")\n",
        "\n",
        "    return train_losses, val_losses"
      ],
      "metadata": {
        "id": "3GFIoO31kRa-"
      },
      "execution_count": null,
      "outputs": []
    },
    {
      "cell_type": "code",
      "source": [
        "def get_predictions(model, test_loader, device):\n",
        "    model.eval()\n",
        "    predictions = []\n",
        "    true_values = []\n",
        "    with torch.no_grad():\n",
        "        for batch_X, batch_y in test_loader:\n",
        "            batch_X = batch_X.to(device)\n",
        "            outputs = model(batch_X)\n",
        "            predictions.append(outputs.cpu().numpy())\n",
        "            true_values.append(batch_y.cpu().numpy())\n",
        "    predictions = np.concatenate(predictions)\n",
        "    true_values = np.concatenate(true_values)\n",
        "    return predictions, true_values"
      ],
      "metadata": {
        "id": "xoQ2CB6TkRdf"
      },
      "execution_count": null,
      "outputs": []
    },
    {
      "cell_type": "code",
      "source": [
        "def objective(trial):\n",
        "    lr = trial.suggest_loguniform('lr', 1e-6, 1e-4)  # Определите диапазон для lr\n",
        "\n",
        "    model = MyModel()\n",
        "\n",
        "    optimizer = optim.Adam(model.parameters(), lr=lr)\n",
        "    criterion = nn.MSELoss()\n",
        "\n",
        "    # Обучаем модель\n",
        "    train_losses, val_losses = train(model, train_loader_kansas, val_loader_kansas, optimizer, criterion, num_epochs=50)\n",
        "\n",
        "    predictions, true_values = get_predictions(model, val_loader_kansas, device)\n",
        "\n",
        "    r2 = r2_score(true_values, predictions)\n",
        "\n",
        "    return r2\n",
        "\n",
        "study = optuna.create_study(direction='maximize')\n",
        "study.optimize(objective, n_trials=50)"
      ],
      "metadata": {
        "id": "G89N-YOGkk5g"
      },
      "execution_count": null,
      "outputs": []
    },
    {
      "cell_type": "code",
      "source": [
        "print(\"Лучшие гиперпараметры:\", study.best_params)\n",
        "print(\"Лучшее значение R^2:\", study.best_value)"
      ],
      "metadata": {
        "id": "UvDE_ES07x0H"
      },
      "execution_count": null,
      "outputs": []
    },
    {
      "cell_type": "code",
      "source": [
        "model = MyModel()\n",
        "optimizer = optim.Adam(model.parameters(), lr=0.00009)\n",
        "criterion = nn.MSELoss()"
      ],
      "metadata": {
        "id": "3E8YhfjFkTN-"
      },
      "execution_count": null,
      "outputs": []
    },
    {
      "cell_type": "code",
      "source": [
        "train_losses, val_losses = train(model, train_loader_kansas, val_loader_kansas, optimizer, criterion, num_epochs=50)"
      ],
      "metadata": {
        "colab": {
          "base_uri": "https://localhost:8080/"
        },
        "id": "d2PCK4A9ktBA",
        "outputId": "7fafe5de-f5ec-4f6d-f55d-9396cb8d3fdd"
      },
      "execution_count": null,
      "outputs": [
        {
          "output_type": "stream",
          "name": "stdout",
          "text": [
            "Epoch 1/50, Train Loss: 0.0021, Val Loss: 0.0015\n",
            "Epoch 2/50, Train Loss: 0.0017, Val Loss: 0.0015\n",
            "Epoch 3/50, Train Loss: 0.0016, Val Loss: 0.0014\n",
            "Epoch 4/50, Train Loss: 0.0016, Val Loss: 0.0014\n",
            "Epoch 5/50, Train Loss: 0.0015, Val Loss: 0.0015\n",
            "Epoch 6/50, Train Loss: 0.0015, Val Loss: 0.0014\n",
            "Epoch 7/50, Train Loss: 0.0014, Val Loss: 0.0014\n",
            "Epoch 8/50, Train Loss: 0.0014, Val Loss: 0.0014\n",
            "Epoch 9/50, Train Loss: 0.0013, Val Loss: 0.0014\n",
            "Epoch 10/50, Train Loss: 0.0013, Val Loss: 0.0014\n",
            "Epoch 11/50, Train Loss: 0.0013, Val Loss: 0.0014\n",
            "Epoch 12/50, Train Loss: 0.0013, Val Loss: 0.0014\n",
            "Epoch 13/50, Train Loss: 0.0012, Val Loss: 0.0014\n",
            "Epoch 14/50, Train Loss: 0.0012, Val Loss: 0.0014\n",
            "Epoch 15/50, Train Loss: 0.0012, Val Loss: 0.0014\n",
            "Epoch 16/50, Train Loss: 0.0012, Val Loss: 0.0014\n",
            "Stopping early at epoch 16. Best Val Loss: 0.0014\n",
            "Loaded best weights.\n"
          ]
        }
      ]
    },
    {
      "cell_type": "code",
      "source": [
        "plt.plot(train_losses, label='Потери на тренировке')\n",
        "plt.plot(val_losses, label='Потери на валидации')\n",
        "plt.title('Обучение')\n",
        "plt.xlabel('Эпоха')\n",
        "plt.ylabel('Потери')\n",
        "plt.legend()"
      ],
      "metadata": {
        "colab": {
          "base_uri": "https://localhost:8080/",
          "height": 490
        },
        "id": "tgc2TrYbppNb",
        "outputId": "e4f26a08-92a0-4c52-89de-0dac1bec495d"
      },
      "execution_count": null,
      "outputs": [
        {
          "output_type": "execute_result",
          "data": {
            "text/plain": [
              "<matplotlib.legend.Legend at 0x7b676613bc50>"
            ]
          },
          "metadata": {},
          "execution_count": 29
        },
        {
          "output_type": "display_data",
          "data": {
            "text/plain": [
              "<Figure size 640x480 with 1 Axes>"
            ],
            "image/png": "[encoded data removed]"
          },
          "metadata": {}
        }
      ]
    },
    {
      "cell_type": "code",
      "source": [
        "torch.save(model, 'model_kansas.pth')"
      ],
      "metadata": {
        "id": "offqqjTiktDW"
      },
      "execution_count": null,
      "outputs": []
    },
    {
      "cell_type": "code",
      "source": [
        "def objective(trial):\n",
        "    # Для каждой итерации вы будете брать значение скорости обучения из Optuna\n",
        "    lr = trial.suggest_loguniform('lr', 1e-6, 1e-4)  # Определите диапазон для lr\n",
        "\n",
        "    # Загружаем и конструируем модель\n",
        "    model = torch.load('model_kansas.pth', weights_only=False)\n",
        "\n",
        "    for name, param in model.named_parameters():\n",
        "        if 'conv' in name or 'bn' in name:\n",
        "            param.requires_grad = False\n",
        "\n",
        "    optimizer = optim.Adam(model.parameters(), lr=lr)\n",
        "    criterion = nn.MSELoss()\n",
        "\n",
        "    # Обучаем модель\n",
        "    train_losses, val_losses = train(model, train_loader_spe, val_loader_spe, optimizer, criterion, num_epochs=50)\n",
        "\n",
        "    predictions, true_values = get_predictions(model, test_loader_spe, device)\n",
        "\n",
        "    r2 = r2_score(true_values, predictions)\n",
        "\n",
        "    return r2\n",
        "\n",
        "study = optuna.create_study(direction='maximize')\n",
        "study.optimize(objective, n_trials=50)"
      ],
      "metadata": {
        "id": "OoGOw8kJ8E-m"
      },
      "execution_count": null,
      "outputs": []
    },
    {
      "cell_type": "code",
      "source": [
        "print(\"Лучшие гиперпараметры:\", study.best_params)\n",
        "print(\"Лучшее значение R^2:\", study.best_value)"
      ],
      "metadata": {
        "id": "POpCsoTo85-B"
      },
      "execution_count": null,
      "outputs": []
    },
    {
      "cell_type": "code",
      "source": [
        "model = torch.load('model_kansas.pth', weights_only=False)"
      ],
      "metadata": {
        "id": "Ren_86eT8-rY"
      },
      "execution_count": null,
      "outputs": []
    },
    {
      "cell_type": "code",
      "source": [
        "for name, param in model.named_parameters():\n",
        "    if 'conv' in name or 'bn' in name:\n",
        "        param.requires_grad = False"
      ],
      "metadata": {
        "id": "h2Av6DeBlEOn"
      },
      "execution_count": null,
      "outputs": []
    },
    {
      "cell_type": "code",
      "source": [
        "for name, param in model.named_parameters():\n",
        "    if param.requires_grad:\n",
        "        print(name)"
      ],
      "metadata": {
        "colab": {
          "base_uri": "https://localhost:8080/"
        },
        "id": "gYVOWs-PlERP",
        "outputId": "5b48448d-fa9b-4f67-968b-bacfed189ae5"
      },
      "execution_count": null,
      "outputs": [
        {
          "output_type": "stream",
          "name": "stdout",
          "text": [
            "lstm1.weight_ih_l0\n",
            "lstm1.weight_hh_l0\n",
            "lstm1.bias_ih_l0\n",
            "lstm1.bias_hh_l0\n",
            "lstm2.weight_ih_l0\n",
            "lstm2.weight_hh_l0\n",
            "lstm2.bias_ih_l0\n",
            "lstm2.bias_hh_l0\n",
            "fc.weight\n",
            "fc.bias\n"
          ]
        }
      ]
    },
    {
      "cell_type": "code",
      "source": [
        "optimizer = optim.Adam(model.parameters(), lr=0.00001)\n",
        "criterion = nn.MSELoss()"
      ],
      "metadata": {
        "id": "LMdLeyEIphmL"
      },
      "execution_count": null,
      "outputs": []
    },
    {
      "cell_type": "code",
      "source": [
        "train_losses, val_losses = train(model, train_loader_spe, val_loader_spe, optimizer, criterion, num_epochs=50)"
      ],
      "metadata": {
        "colab": {
          "base_uri": "https://localhost:8080/"
        },
        "id": "D1sAIIntphoq",
        "outputId": "9aa8f584-0173-40af-a773-32b6e839938e"
      },
      "execution_count": null,
      "outputs": [
        {
          "output_type": "stream",
          "name": "stdout",
          "text": [
            "Epoch 1/50, Train Loss: 0.0026, Val Loss: 0.0018\n",
            "Epoch 2/50, Train Loss: 0.0021, Val Loss: 0.0017\n",
            "Epoch 3/50, Train Loss: 0.0020, Val Loss: 0.0017\n",
            "Epoch 4/50, Train Loss: 0.0020, Val Loss: 0.0017\n",
            "Epoch 5/50, Train Loss: 0.0020, Val Loss: 0.0016\n",
            "Epoch 6/50, Train Loss: 0.0019, Val Loss: 0.0016\n",
            "Epoch 7/50, Train Loss: 0.0019, Val Loss: 0.0016\n",
            "Epoch 8/50, Train Loss: 0.0019, Val Loss: 0.0016\n",
            "Epoch 9/50, Train Loss: 0.0019, Val Loss: 0.0015\n",
            "Epoch 10/50, Train Loss: 0.0019, Val Loss: 0.0015\n",
            "Epoch 11/50, Train Loss: 0.0018, Val Loss: 0.0015\n",
            "Epoch 12/50, Train Loss: 0.0018, Val Loss: 0.0015\n",
            "Epoch 13/50, Train Loss: 0.0018, Val Loss: 0.0015\n",
            "Epoch 14/50, Train Loss: 0.0018, Val Loss: 0.0015\n",
            "Epoch 15/50, Train Loss: 0.0018, Val Loss: 0.0015\n",
            "Epoch 16/50, Train Loss: 0.0018, Val Loss: 0.0015\n",
            "Epoch 17/50, Train Loss: 0.0018, Val Loss: 0.0015\n",
            "Stopping early at epoch 17. Best Val Loss: 0.0015\n",
            "Loaded best weights.\n"
          ]
        }
      ]
    },
    {
      "cell_type": "code",
      "source": [
        "plt.plot(train_losses, label='Потери на тренировке')\n",
        "plt.plot(val_losses, label='Потери на валидации')\n",
        "plt.title('Обучение')\n",
        "plt.xlabel('Эпоха')\n",
        "plt.ylabel('Потери')\n",
        "plt.legend()"
      ],
      "metadata": {
        "colab": {
          "base_uri": "https://localhost:8080/",
          "height": 490
        },
        "id": "ivRWT9iBtwdL",
        "outputId": "8cee98c3-b22f-4b7a-8320-ae4944473b75"
      },
      "execution_count": null,
      "outputs": [
        {
          "output_type": "execute_result",
          "data": {
            "text/plain": [
              "<matplotlib.legend.Legend at 0x78b0f1edd3d0>"
            ]
          },
          "metadata": {},
          "execution_count": 28
        },
        {
          "output_type": "display_data",
          "data": {
            "text/plain": [
              "<Figure size 640x480 with 1 Axes>"
            ],
            "image/png": "[encoded data removed]"
          },
          "metadata": {}
        }
      ]
    },
    {
      "cell_type": "code",
      "source": [
        "predictions, true_values = get_predictions(model, test_loader_spe, device)"
      ],
      "metadata": {
        "id": "XZShup9lphtz"
      },
      "execution_count": null,
      "outputs": []
    },
    {
      "cell_type": "code",
      "source": [
        "mae = mean_absolute_error(true_values, predictions)\n",
        "mape = mean_absolute_percentage_error(true_values, predictions)\n",
        "rmse = root_mean_squared_error(true_values, predictions)\n",
        "r2 = r2_score(true_values, predictions)"
      ],
      "metadata": {
        "id": "5AY117VQtPPX"
      },
      "execution_count": null,
      "outputs": []
    },
    {
      "cell_type": "code",
      "source": [
        "print(f\"MAE: {mae}\",\n",
        "      f\"MAPE: {mape}\",\n",
        "      f\"RMSE: {rmse}\",\n",
        "      f\"R2: {r2}\", sep = '\\n')"
      ],
      "metadata": {
        "colab": {
          "base_uri": "https://localhost:8080/"
        },
        "id": "f8ZDIvE7t55b",
        "outputId": "dad41150-0e2f-4131-952d-8fbf3d593632"
      },
      "execution_count": null,
      "outputs": [
        {
          "output_type": "stream",
          "name": "stdout",
          "text": [
            "MAE: 0.02953608268929462\n",
            "MAPE: 0.0635279148812949\n",
            "RMSE: 0.03943009121295966\n",
            "R2: 0.5847699206131121\n"
          ]
        }
      ]
    },
    {
      "cell_type": "code",
      "source": [
        "plt.figure(figsize=(6,5))\n",
        "plt.plot(true_values, label=\"true\")\n",
        "plt.plot(predictions, 'r', label=\"prediction\")\n",
        "plt.title('Прогноз модели с переносом знаний для каротажа DPHI на месторождении Spe')\n",
        "plt.ylabel('Значение')\n",
        "plt.xlabel('Временной шаг')\n",
        "plt.legend()\n",
        "plt.show()"
      ],
      "metadata": {
        "colab": {
          "base_uri": "https://localhost:8080/",
          "height": 487
        },
        "id": "fOvZZi-fptGi",
        "outputId": "e1f954b7-a4bb-4e40-ce1d-a1a63882b146"
      },
      "execution_count": null,
      "outputs": [
        {
          "output_type": "display_data",
          "data": {
            "text/plain": [
              "<Figure size 600x500 with 1 Axes>"
            ],
            "image/png": "[encoded data removed]"
          },
          "metadata": {}
        }
      ]
    },
    {
      "cell_type": "code",
      "source": [
        "np.save('trans_pred_1.npy', predictions)"
      ],
      "metadata": {
        "id": "4BkQiaQzptJc"
      },
      "execution_count": null,
      "outputs": []
    },
    {
      "cell_type": "code",
      "source": [
        "for i in range(9):\n",
        "    print(f\"\\nTraining iteration {i + 1}/9\")\n",
        "\n",
        "    # Создаем новую модель и оптимизатор для каждой итерации\n",
        "    model = torch.load('model_kansas.pth', weights_only=False)\n",
        "\n",
        "    for name, param in model.named_parameters():\n",
        "        if 'conv' in name or 'bn' in name:\n",
        "            param.requires_grad = False\n",
        "\n",
        "    optimizer = optim.Adam(model.parameters(), lr=0.00001)\n",
        "    criterion = nn.MSELoss()\n",
        "\n",
        "    # Обучаем модель\n",
        "    train_losses, val_losses = train(model, train_loader_spe, val_loader_spe, optimizer, criterion, num_epochs=50)\n",
        "\n",
        "    # Получаем предсказания на тестовом наборе\n",
        "    predictions, _ = get_predictions(model, test_loader_spe, device)\n",
        "\n",
        "    # Сохраняем предсказания текущей итерации\n",
        "    np.save(f'trans_pred_{i + 2}.npy', predictions)"
      ],
      "metadata": {
        "id": "Ya_POBQ3pxuE"
      },
      "execution_count": null,
      "outputs": []
    }
  ]
}