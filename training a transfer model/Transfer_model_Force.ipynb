{
  "nbformat": 4,
  "nbformat_minor": 0,
  "metadata": {
    "colab": {
      "provenance": [],
      "gpuType": "T4"
    },
    "kernelspec": {
      "name": "python3",
      "display_name": "Python 3"
    },
    "language_info": {
      "name": "python"
    },
    "accelerator": "GPU"
  },
  "cells": [
    {
      "cell_type": "code",
      "execution_count": null,
      "metadata": {
        "id": "xXx77eNHPP_P",
        "colab": {
          "base_uri": "https://localhost:8080/"
        },
        "outputId": "c63cb956-c900-4d22-c5f6-32fe4eec0b1a"
      },
      "outputs": [
        {
          "output_type": "stream",
          "name": "stdout",
          "text": [
            "Collecting optuna\n",
            "  Downloading optuna-4.3.0-py3-none-any.whl.metadata (17 kB)\n",
            "Collecting alembic>=1.5.0 (from optuna)\n",
            "  Downloading alembic-1.15.2-py3-none-any.whl.metadata (7.3 kB)\n",
            "Collecting colorlog (from optuna)\n",
            "  Downloading colorlog-6.9.0-py3-none-any.whl.metadata (10 kB)\n",
            "Requirement already satisfied: numpy in /usr/local/lib/python3.11/dist-packages (from optuna) (2.0.2)\n",
            "Requirement already satisfied: packaging>=20.0 in /usr/local/lib/python3.11/dist-packages (from optuna) (24.2)\n",
            "Requirement already satisfied: sqlalchemy>=1.4.2 in /usr/local/lib/python3.11/dist-packages (from optuna) (2.0.40)\n",
            "Requirement already satisfied: tqdm in /usr/local/lib/python3.11/dist-packages (from optuna) (4.67.1)\n",
            "Requirement already satisfied: PyYAML in /usr/local/lib/python3.11/dist-packages (from optuna) (6.0.2)\n",
            "Requirement already satisfied: Mako in /usr/lib/python3/dist-packages (from alembic>=1.5.0->optuna) (1.1.3)\n",
            "Requirement already satisfied: typing-extensions>=4.12 in /usr/local/lib/python3.11/dist-packages (from alembic>=1.5.0->optuna) (4.13.2)\n",
            "Requirement already satisfied: greenlet>=1 in /usr/local/lib/python3.11/dist-packages (from sqlalchemy>=1.4.2->optuna) (3.2.1)\n",
            "Downloading optuna-4.3.0-py3-none-any.whl (386 kB)\n",
            "\u001b[2K   \u001b[90m━━━━━━━━━━━━━━━━━━━━━━━━━━━━━━━━━━━━━━━━\u001b[0m \u001b[32m386.6/386.6 kB\u001b[0m \u001b[31m7.6 MB/s\u001b[0m eta \u001b[36m0:00:00\u001b[0m\n",
            "\u001b[?25hDownloading alembic-1.15.2-py3-none-any.whl (231 kB)\n",
            "\u001b[2K   \u001b[90m━━━━━━━━━━━━━━━━━━━━━━━━━━━━━━━━━━━━━━━━\u001b[0m \u001b[32m231.9/231.9 kB\u001b[0m \u001b[31m14.4 MB/s\u001b[0m eta \u001b[36m0:00:00\u001b[0m\n",
            "\u001b[?25hDownloading colorlog-6.9.0-py3-none-any.whl (11 kB)\n",
            "Installing collected packages: colorlog, alembic, optuna\n",
            "Successfully installed alembic-1.15.2 colorlog-6.9.0 optuna-4.3.0\n"
          ]
        }
      ],
      "source": [
        "!pip install optuna"
      ]
    },
    {
      "cell_type": "code",
      "source": [
        "import torch\n",
        "import torch.nn as nn\n",
        "import torch.nn.functional as F\n",
        "import torch.optim as optim\n",
        "from torch.utils.data import DataLoader, TensorDataset\n",
        "import pandas as pd\n",
        "from sklearn.metrics import r2_score\n",
        "from sklearn.preprocessing import MinMaxScaler\n",
        "import random as rd\n",
        "import numpy as np\n",
        "import optuna\n",
        "import matplotlib.pyplot as plt\n",
        "from google.colab import drive\n",
        "from sklearn.metrics import mean_absolute_error\n",
        "from sklearn.metrics import root_mean_squared_error\n",
        "from sklearn.metrics import mean_absolute_percentage_error\n",
        "from sklearn.metrics import r2_score"
      ],
      "metadata": {
        "id": "fSpUJMxAPW3I"
      },
      "execution_count": null,
      "outputs": []
    },
    {
      "cell_type": "code",
      "source": [
        "drive.mount('/content/drive')"
      ],
      "metadata": {
        "id": "85sb89OhPW6y",
        "colab": {
          "base_uri": "https://localhost:8080/"
        },
        "outputId": "934c9e5b-a405-442f-83cf-97ce573810dc"
      },
      "execution_count": null,
      "outputs": [
        {
          "output_type": "stream",
          "name": "stdout",
          "text": [
            "Mounted at /content/drive\n"
          ]
        }
      ]
    },
    {
      "cell_type": "code",
      "source": [
        "df_taranaki = pd.read_csv('/content/drive/MyDrive/taranaki_logs.csv')\n",
        "df_force = pd.read_csv('/content/drive/MyDrive/force_logs.csv')"
      ],
      "metadata": {
        "id": "Ezy5FAFBPW8G"
      },
      "execution_count": null,
      "outputs": []
    },
    {
      "cell_type": "code",
      "source": [
        "df_taranaki = df_taranaki.rename(columns={'DENS': 'RHOB', 'NEUT': 'NPHI'})\n",
        "df_force = df_force.rename(columns={'UWI': 'WELLNAME'})"
      ],
      "metadata": {
        "id": "Iyj5vOV5PW-c"
      },
      "execution_count": null,
      "outputs": []
    },
    {
      "cell_type": "code",
      "source": [
        "df_taranaki.set_index(['WELLNAME', 'DEPT'], inplace = True)\n",
        "df_force.set_index(['WELLNAME', 'DEPT'], inplace = True)"
      ],
      "metadata": {
        "id": "zj39TuU7PXBi"
      },
      "execution_count": null,
      "outputs": []
    },
    {
      "cell_type": "code",
      "source": [
        "print(f'Количество скважин Taranaki = {df_taranaki.index.get_level_values(0).nunique()}')\n",
        "print(f'Количество скважин Force = {df_force.index.get_level_values(0).nunique()}')"
      ],
      "metadata": {
        "id": "LaHYs7DoPXDR",
        "colab": {
          "base_uri": "https://localhost:8080/"
        },
        "outputId": "42197052-2cca-4a26-bc6b-8f28b5153563"
      },
      "execution_count": null,
      "outputs": [
        {
          "output_type": "stream",
          "name": "stdout",
          "text": [
            "Количество скважин Taranaki = 152\n",
            "Количество скважин Force = 110\n"
          ]
        }
      ]
    },
    {
      "cell_type": "code",
      "source": [
        "X_taranaki = df_taranaki.drop('RHOB', axis = 1)\n",
        "y_taranaki = df_taranaki['RHOB']\n",
        "\n",
        "X_force = df_force.drop('RHOB', axis = 1)\n",
        "y_force = df_force['RHOB']"
      ],
      "metadata": {
        "id": "jZ_w-TBrPXFo"
      },
      "execution_count": null,
      "outputs": []
    },
    {
      "cell_type": "code",
      "source": [
        "df_X = pd.concat([X_taranaki, X_force])\n",
        "df_y = pd.concat([y_taranaki, y_force])"
      ],
      "metadata": {
        "id": "LluSCGEEPmiA"
      },
      "execution_count": null,
      "outputs": []
    },
    {
      "cell_type": "code",
      "source": [
        "X = df_X.reset_index()\n",
        "y = df_y.reset_index()\n",
        "\n",
        "scaler_X = MinMaxScaler()\n",
        "scaler_y = MinMaxScaler()\n",
        "\n",
        "normalized_values_X = scaler_X.fit_transform(X[['GR', 'CALI', 'DRHO', 'NPHI', 'SP']])\n",
        "normalized_values_y = scaler_y.fit_transform(y[['RHOB']])\n",
        "\n",
        "X[['GR', 'CALI', 'DRHO', 'NPHI', 'SP']] = normalized_values_X\n",
        "y[['RHOB']] = normalized_values_y\n",
        "\n",
        "X_scaled = X.set_index(['WELLNAME', 'DEPT'])\n",
        "y_scaled = y.set_index(['WELLNAME', 'DEPT'])"
      ],
      "metadata": {
        "id": "oKs4ob8fPmkj"
      },
      "execution_count": null,
      "outputs": []
    },
    {
      "cell_type": "code",
      "source": [
        "X_taranaki = X_scaled.loc[X_taranaki.index.get_level_values(0).unique()]\n",
        "y_taranaki = y_scaled.loc[y_taranaki.index.get_level_values(0).unique()]\n",
        "\n",
        "X_force = X_scaled.loc[X_force.index.get_level_values(0).unique()]\n",
        "y_force = y_scaled.loc[y_force.index.get_level_values(0).unique()]"
      ],
      "metadata": {
        "id": "ik5sPHZ6Ppu3"
      },
      "execution_count": null,
      "outputs": []
    },
    {
      "cell_type": "code",
      "source": [
        "train_part_size = 0.7\n",
        "\n",
        "rd.seed(17)\n",
        "train_wells_taranaki = rd.sample(\n",
        "    X_taranaki.index.get_level_values(0).unique().tolist(),\n",
        "    round(len(X_taranaki.index.get_level_values(0).unique()) * train_part_size),\n",
        ")\n",
        "\n",
        "val_wells_taranaki = list(set(X_taranaki.index.get_level_values(0).unique().tolist()) - set(train_wells_taranaki))\n",
        "val_wells_taranaki = sorted(val_wells_taranaki)\n",
        "rd.shuffle(val_wells_taranaki)"
      ],
      "metadata": {
        "id": "IecGKcScPpxC"
      },
      "execution_count": null,
      "outputs": []
    },
    {
      "cell_type": "code",
      "source": [
        "rd.seed(1)\n",
        "train_wells_force = rd.sample(\n",
        "    X_force.index.get_level_values(0).unique().tolist(),\n",
        "    round(len(X_force.index.get_level_values(0).unique()) * train_part_size),\n",
        ")\n",
        "\n",
        "val_test_wells_force = list(set(X_force.index.get_level_values(0).unique().tolist()) - set(train_wells_force))\n",
        "val_test_wells_force = sorted(val_test_wells_force)\n",
        "rd.shuffle(val_test_wells_force)\n",
        "\n",
        "rd.seed(1)\n",
        "val_wells_force = rd.sample(\n",
        "    val_test_wells_force,\n",
        "    round(len(val_test_wells_force) * 0.5),)\n",
        "\n",
        "test_wells_force = list(set(val_test_wells_force) - set(val_wells_force))\n",
        "test_wells_force = sorted(test_wells_force)\n",
        "rd.shuffle(test_wells_force)"
      ],
      "metadata": {
        "id": "e2lNnrLiPmmw"
      },
      "execution_count": null,
      "outputs": []
    },
    {
      "cell_type": "code",
      "source": [
        "train_X_taranaki = X_taranaki.loc[train_wells_taranaki]\n",
        "train_y_taranaki = y_taranaki.loc[train_wells_taranaki]\n",
        "\n",
        "val_X_taranaki = X_taranaki.loc[val_wells_taranaki]\n",
        "val_y_taranaki = y_taranaki.loc[val_wells_taranaki]"
      ],
      "metadata": {
        "id": "Fwgc-j2YPvmy"
      },
      "execution_count": null,
      "outputs": []
    },
    {
      "cell_type": "code",
      "source": [
        "train_X_force = X_force.loc[train_wells_force]\n",
        "train_y_force = y_force.loc[train_wells_force]\n",
        "\n",
        "val_X_force = X_force.loc[val_wells_force]\n",
        "val_y_force = y_force.loc[val_wells_force]\n",
        "\n",
        "test_X_force = X_force.loc[test_wells_force]\n",
        "test_y_force = y_force.loc[test_wells_force]"
      ],
      "metadata": {
        "id": "qQH9YmAkPvpO"
      },
      "execution_count": null,
      "outputs": []
    },
    {
      "cell_type": "code",
      "source": [
        "def gen_data_per_well(features, target, time_steps=50):\n",
        "    Xs, ys = [], []\n",
        "\n",
        "    # Перебираем уникальные значения скважин\n",
        "    for well_name in features.index.get_level_values('WELLNAME').unique():\n",
        "        # Получаем данные для текущей скважины\n",
        "        well_features = features.xs(well_name, level='WELLNAME')\n",
        "        well_target = target.xs(well_name, level='WELLNAME')\n",
        "\n",
        "        # Генерируем X и y для текущей скважины\n",
        "        for i in range(len(well_features) - time_steps):\n",
        "            Xs.append(well_features.iloc[i:i + time_steps].values)\n",
        "            ys.append(well_target.iloc[i + time_steps - 1])\n",
        "\n",
        "    return np.array(Xs), np.array(ys)"
      ],
      "metadata": {
        "id": "NySaWVrEPmpS"
      },
      "execution_count": null,
      "outputs": []
    },
    {
      "cell_type": "code",
      "source": [
        "train_X_taranaki, train_y_taranaki = gen_data_per_well(train_X_taranaki, train_y_taranaki)\n",
        "val_X_taranaki, val_y_taranaki = gen_data_per_well(val_X_taranaki, val_y_taranaki)"
      ],
      "metadata": {
        "id": "GVavnHsqP1t5"
      },
      "execution_count": null,
      "outputs": []
    },
    {
      "cell_type": "code",
      "source": [
        "train_X_force, train_y_force = gen_data_per_well(train_X_force, train_y_force)\n",
        "val_X_force, val_y_force = gen_data_per_well(val_X_force, val_y_force)\n",
        "test_X_force, test_y_force = gen_data_per_well(test_X_force, test_y_force)"
      ],
      "metadata": {
        "id": "o-zV3rWrP1wh"
      },
      "execution_count": null,
      "outputs": []
    },
    {
      "cell_type": "code",
      "source": [
        "train_X_taranaki_tensor = torch.tensor(train_X_taranaki, dtype=torch.float32)\n",
        "train_y_taranaki_tensor = torch.tensor(train_y_taranaki, dtype=torch.float32)\n",
        "\n",
        "val_X_taranaki_tensor = torch.tensor(val_X_taranaki, dtype=torch.float32)\n",
        "val_y_taranaki_tensor = torch.tensor(val_y_taranaki, dtype=torch.float32)"
      ],
      "metadata": {
        "id": "3xfPctC5P5oZ"
      },
      "execution_count": null,
      "outputs": []
    },
    {
      "cell_type": "code",
      "source": [
        "train_X_force_tensor = torch.tensor(train_X_force, dtype=torch.float32)\n",
        "train_y_force_tensor = torch.tensor(train_y_force, dtype=torch.float32)\n",
        "\n",
        "val_X_force_tensor = torch.tensor(val_X_force, dtype=torch.float32)\n",
        "val_y_force_tensor = torch.tensor(val_y_force, dtype=torch.float32)\n",
        "\n",
        "test_X_force_tensor = torch.tensor(test_X_force, dtype=torch.float32)\n",
        "test_y_force_tensor = torch.tensor(test_y_force, dtype=torch.float32)"
      ],
      "metadata": {
        "id": "3Y6md8iRP5q4"
      },
      "execution_count": null,
      "outputs": []
    },
    {
      "cell_type": "code",
      "source": [
        "# Создание TensorDataset\n",
        "train_dataset_taranaki = TensorDataset(train_X_taranaki_tensor, train_y_taranaki_tensor)\n",
        "val_dataset_taranaki = TensorDataset(val_X_taranaki_tensor, val_y_taranaki_tensor)\n",
        "\n",
        "# Создание DataLoader\n",
        "train_loader_taranaki = DataLoader(train_dataset_taranaki, batch_size=128, shuffle=True)\n",
        "val_loader_taranaki = DataLoader(val_dataset_taranaki, batch_size=128, shuffle=False)"
      ],
      "metadata": {
        "id": "WmWiCxNnPXID"
      },
      "execution_count": null,
      "outputs": []
    },
    {
      "cell_type": "code",
      "source": [
        "# Создание TensorDataset\n",
        "train_dataset_force = TensorDataset(train_X_force_tensor, train_y_force_tensor)\n",
        "val_dataset_force = TensorDataset(val_X_force_tensor, val_y_force_tensor)\n",
        "test_dataset_force = TensorDataset(test_X_force_tensor, test_y_force_tensor)\n",
        "\n",
        "# Создание DataLoader\n",
        "train_loader_force = DataLoader(train_dataset_force, batch_size=32, shuffle=True)\n",
        "val_loader_force = DataLoader(val_dataset_force, batch_size=32, shuffle=False)\n",
        "test_loader_force = DataLoader(test_dataset_force, batch_size=32, shuffle=False)"
      ],
      "metadata": {
        "id": "GXz4VZQNPXKR"
      },
      "execution_count": null,
      "outputs": []
    },
    {
      "cell_type": "code",
      "source": [
        "class MyModel(nn.Module):\n",
        "    def __init__(self):\n",
        "        super(MyModel, self).__init__()\n",
        "        self.conv1 = nn.Conv1d(in_channels=5, out_channels=256, kernel_size=5, padding='same')\n",
        "        self.bn1 = nn.BatchNorm1d(256)\n",
        "        self.pool1 = nn.MaxPool1d(kernel_size=2)\n",
        "\n",
        "        self.conv2 = nn.Conv1d(in_channels=256, out_channels=32, kernel_size=3, padding='same')\n",
        "        self.bn2 = nn.BatchNorm1d(32)\n",
        "        self.pool2 = nn.MaxPool1d(kernel_size=2)\n",
        "\n",
        "        self.conv3 = nn.Conv1d(in_channels=32, out_channels=32, kernel_size=2, padding='same')\n",
        "        self.bn3 = nn.BatchNorm1d(32)\n",
        "        self.pool3 = nn.MaxPool1d(kernel_size=2)\n",
        "\n",
        "        self.conv4 = nn.Conv1d(in_channels=32, out_channels=64, kernel_size=3, padding='same')\n",
        "        self.bn4 = nn.BatchNorm1d(64)\n",
        "        self.pool4 = nn.MaxPool1d(kernel_size=2)\n",
        "\n",
        "        self.lstm1 = nn.LSTM(input_size=64, hidden_size=128, batch_first=True)\n",
        "        self.dropout1 = nn.Dropout(0.156165)\n",
        "\n",
        "        self.lstm2 = nn.LSTM(input_size=128, hidden_size=32, batch_first=True)\n",
        "        self.dropout2 = nn.Dropout(0.015023)\n",
        "\n",
        "        self.fc = nn.Linear(32, 1)\n",
        "\n",
        "    def forward(self, x):\n",
        "        x = x.permute(0, 2, 1)  # Теперь x имеет форму (batch_size, features_dim, time_steps)\n",
        "        x = self.conv1(x)\n",
        "        x = self.bn1(x)\n",
        "        x = nn.ReLU()(x)\n",
        "        x = self.pool1(x)\n",
        "\n",
        "        x = self.conv2(x)\n",
        "        x = self.bn2(x)\n",
        "        x = nn.ReLU()(x)\n",
        "        x = self.pool2(x)\n",
        "\n",
        "        x = self.conv3(x)\n",
        "        x = self.bn3(x)\n",
        "        x = nn.ReLU()(x)\n",
        "        x = self.pool3(x)\n",
        "\n",
        "        x = self.conv4(x)\n",
        "        x = self.bn4(x)\n",
        "        x = nn.ReLU()(x)\n",
        "        x = self.pool4(x)\n",
        "\n",
        "        # Сначала нужно изменить размерность для LSTM\n",
        "        x = x.transpose(1, 2)  # Меняем местами размерности (batch_size, num_channels, sequence_length) -> (batch_size, sequence_length, num_channels)\n",
        "\n",
        "        x, _ = self.lstm1(x)\n",
        "        x = self.dropout1(x)\n",
        "\n",
        "        x, _ = self.lstm2(x)\n",
        "        x = self.dropout2(x)\n",
        "\n",
        "        # Берем только последний выход LSTM\n",
        "        x = x[:, -1, :]  # (batch_size, hidden_size)\n",
        "\n",
        "        x = self.fc(x)\n",
        "\n",
        "        return x"
      ],
      "metadata": {
        "id": "qFVhXspdQiA6"
      },
      "execution_count": null,
      "outputs": []
    },
    {
      "cell_type": "code",
      "source": [
        "device = torch.device(\"cuda\" if torch.cuda.is_available() else \"cpu\")"
      ],
      "metadata": {
        "id": "tKifBwRJQiDd"
      },
      "execution_count": null,
      "outputs": []
    },
    {
      "cell_type": "code",
      "source": [
        "def train(model, train_loader, val_loader, optimizer, criterion, num_epochs, patience=4, lr_reduce_factor=0.5):\n",
        "    model.to(device)  # Перемещаем модель на GPU\n",
        "\n",
        "    best_val_loss = float('inf')  # Наименьшая валидационная потеря\n",
        "    epochs_without_improvement = 0  # Счетчик эпох без улучшения\n",
        "    best_weights = None  # Переменная для хранения лучших весов\n",
        "\n",
        "    train_losses = []\n",
        "    val_losses = []\n",
        "\n",
        "    for epoch in range(num_epochs):\n",
        "        model.train()  # В режим тренировки\n",
        "        train_loss = 0.0\n",
        "\n",
        "        for inputs, targets in train_loader:\n",
        "            inputs, targets = inputs.to(device), targets.to(device)  # Перемещаем данные на GPU\n",
        "            optimizer.zero_grad()  # Обнуляем градиенты\n",
        "            outputs = model(inputs)  # Прямой проход\n",
        "            loss = criterion(outputs, targets)  # Вычисление потерь\n",
        "            loss.backward()  # Обратный проход\n",
        "            optimizer.step()  # Обновление весов\n",
        "\n",
        "            train_loss += loss.item()  # Суммируем потери для тренировки\n",
        "\n",
        "        train_loss /= len(train_loader)  # Среднее значение по всем батчам\n",
        "        train_losses.append(train_loss)\n",
        "\n",
        "        # Валидация\n",
        "        model.eval()  # В режим валидации\n",
        "        val_loss = 0.0\n",
        "        with torch.no_grad():  # Отключаем градиенты\n",
        "            for inputs, targets in val_loader:\n",
        "                inputs, targets = inputs.to(device), targets.to(device)  # Перемещаем данные на GPU\n",
        "                outputs = model(inputs)\n",
        "                loss = criterion(outputs, targets)\n",
        "                val_loss += loss.item()\n",
        "\n",
        "        val_loss /= len(val_loader)  # Среднее значение по всем батчам\n",
        "        val_losses.append(val_loss)\n",
        "\n",
        "        # Если текущая валидационная потеря лучше, сохраняем веса\n",
        "        if val_loss < best_val_loss:\n",
        "            best_val_loss = val_loss\n",
        "            best_weights = model.state_dict()  # Сохраняем лучшие веса\n",
        "            epochs_without_improvement = 0  # Сбрасываем счетчик\n",
        "        else:\n",
        "            epochs_without_improvement += 1  # Увеличиваем счетчик без улучшений\n",
        "\n",
        "        # Изменяем скорость обучения, если не было улучшения\n",
        "        if epochs_without_improvement > 0 and epochs_without_improvement % 2 == 0:\n",
        "            for param_group in optimizer.param_groups:\n",
        "                param_group['lr'] *= lr_reduce_factor  # Уменьшаем lr в 2 раза\n",
        "\n",
        "        print(f'Epoch {epoch + 1}/{num_epochs}, Train Loss: {train_loss:.4f}, Val Loss: {val_loss:.4f}')\n",
        "\n",
        "        # Проверяем, нужно ли остановить обучение\n",
        "        if epochs_without_improvement >= patience:\n",
        "            print(f'Stopping early at epoch {epoch + 1}. Best Val Loss: {best_val_loss:.4f}')\n",
        "            break\n",
        "\n",
        "    # Восстанавливаем лучшие веса\n",
        "    if best_weights is not None:\n",
        "        model.load_state_dict(best_weights)\n",
        "        print(\"Loaded best weights.\")\n",
        "\n",
        "    return train_losses, val_losses"
      ],
      "metadata": {
        "id": "YGONugP9QoQ7"
      },
      "execution_count": null,
      "outputs": []
    },
    {
      "cell_type": "code",
      "source": [
        "def get_predictions(model, test_loader, device):\n",
        "    model.eval()\n",
        "    predictions = []\n",
        "    true_values = []\n",
        "    with torch.no_grad():\n",
        "        for batch_X, batch_y in test_loader:\n",
        "            batch_X = batch_X.to(device)\n",
        "            outputs = model(batch_X)\n",
        "            predictions.append(outputs.cpu().numpy())\n",
        "            true_values.append(batch_y.cpu().numpy())\n",
        "    predictions = np.concatenate(predictions)\n",
        "    true_values = np.concatenate(true_values)\n",
        "    return predictions, true_values"
      ],
      "metadata": {
        "id": "AtrZY5lrQiGD"
      },
      "execution_count": null,
      "outputs": []
    },
    {
      "cell_type": "code",
      "source": [
        "def objective(trial):\n",
        "    lr = trial.suggest_loguniform('lr', 1e-6, 1e-4)  # Определите диапазон для lr\n",
        "\n",
        "    model = MyModel()\n",
        "\n",
        "    optimizer = optim.Adam(model.parameters(), lr=lr)\n",
        "    criterion = nn.MSELoss()\n",
        "\n",
        "    # Обучаем модель\n",
        "    train_losses, val_losses = train(model, train_loader_taranaki, val_loader_taranaki, optimizer, criterion, num_epochs=50)\n",
        "\n",
        "    predictions, true_values = get_predictions(model, val_loader_taranaki, device)\n",
        "\n",
        "    r2 = r2_score(true_values, predictions)\n",
        "\n",
        "    return r2\n",
        "\n",
        "study = optuna.create_study(direction='maximize')\n",
        "study.optimize(objective, n_trials=50)"
      ],
      "metadata": {
        "id": "KtD-GPN2Qr-y"
      },
      "execution_count": null,
      "outputs": []
    },
    {
      "cell_type": "code",
      "source": [
        "print(\"Лучшие гиперпараметры:\", study.best_params)\n",
        "print(\"Лучшее значение R^2:\", study.best_value)"
      ],
      "metadata": {
        "id": "_g1bSN79QsBh"
      },
      "execution_count": null,
      "outputs": []
    },
    {
      "cell_type": "code",
      "source": [
        "model = MyModel()\n",
        "optimizer = optim.Adam(model.parameters(), lr=0.00004)\n",
        "criterion = nn.MSELoss()"
      ],
      "metadata": {
        "id": "v-BRK8EVQ_wc"
      },
      "execution_count": null,
      "outputs": []
    },
    {
      "cell_type": "code",
      "source": [
        "train_losses, val_losses = train(model, train_loader_taranaki, val_loader_taranaki, optimizer, criterion, num_epochs=50)"
      ],
      "metadata": {
        "id": "JAjTKEGbQ_za",
        "colab": {
          "base_uri": "https://localhost:8080/"
        },
        "outputId": "6cd47051-fa06-4818-ae01-81dd904bfbe1"
      },
      "execution_count": null,
      "outputs": [
        {
          "output_type": "stream",
          "name": "stderr",
          "text": [
            "/usr/local/lib/python3.11/dist-packages/torch/nn/modules/conv.py:370: UserWarning: Using padding='same' with even kernel lengths and odd dilation may require a zero-padded copy of the input be created (Triggered internally at /pytorch/aten/src/ATen/native/Convolution.cpp:1036.)\n",
            "  return F.conv1d(\n"
          ]
        },
        {
          "output_type": "stream",
          "name": "stdout",
          "text": [
            "Epoch 1/50, Train Loss: 0.0040, Val Loss: 0.0013\n",
            "Epoch 2/50, Train Loss: 0.0009, Val Loss: 0.0013\n",
            "Epoch 3/50, Train Loss: 0.0008, Val Loss: 0.0014\n",
            "Epoch 4/50, Train Loss: 0.0007, Val Loss: 0.0013\n",
            "Epoch 5/50, Train Loss: 0.0007, Val Loss: 0.0014\n",
            "Epoch 6/50, Train Loss: 0.0006, Val Loss: 0.0014\n",
            "Epoch 7/50, Train Loss: 0.0006, Val Loss: 0.0014\n",
            "Epoch 8/50, Train Loss: 0.0006, Val Loss: 0.0013\n",
            "Stopping early at epoch 8. Best Val Loss: 0.0013\n",
            "Loaded best weights.\n"
          ]
        }
      ]
    },
    {
      "cell_type": "code",
      "source": [
        "plt.plot(train_losses, label='Потери на тренировке')\n",
        "plt.plot(val_losses, label='Потери на валидации')\n",
        "plt.title('Обучение')\n",
        "plt.xlabel('Эпоха')\n",
        "plt.ylabel('Потери')\n",
        "plt.legend()"
      ],
      "metadata": {
        "id": "aaFOS6rHQBi4",
        "colab": {
          "base_uri": "https://localhost:8080/",
          "height": 490
        },
        "outputId": "bb21a309-4f93-4657-d26f-1bec6c6d12ea"
      },
      "execution_count": null,
      "outputs": [
        {
          "output_type": "execute_result",
          "data": {
            "text/plain": [
              "<matplotlib.legend.Legend at 0x79686cdb3a90>"
            ]
          },
          "metadata": {},
          "execution_count": 29
        },
        {
          "output_type": "display_data",
          "data": {
            "text/plain": [
              "<Figure size 640x480 with 1 Axes>"
            ],
            "image/png": "[encoded data removed]"
          },
          "metadata": {}
        }
      ]
    },
    {
      "cell_type": "code",
      "source": [
        "torch.save(model, 'model_taranaki_2.pth')"
      ],
      "metadata": {
        "id": "rSp00Uh1RGsG"
      },
      "execution_count": null,
      "outputs": []
    },
    {
      "cell_type": "code",
      "source": [
        "def objective(trial):\n",
        "    # Для каждой итерации вы будете брать значение скорости обучения из Optuna\n",
        "    lr = trial.suggest_loguniform('lr', 1e-6, 1e-4)  # Определите диапазон для lr\n",
        "\n",
        "    # Загружаем и конструируем модель\n",
        "    model = torch.load('model_taranaki_2.pth', weights_only=False)\n",
        "\n",
        "    for name, param in model.named_parameters():\n",
        "        if 'conv' in name or 'bn' in name:\n",
        "            param.requires_grad = False\n",
        "\n",
        "    optimizer = optim.Adam(model.parameters(), lr=lr)\n",
        "    criterion = nn.MSELoss()\n",
        "\n",
        "    # Обучаем модель\n",
        "    train_losses, val_losses = train(model, train_loader_force, val_loader_force, optimizer, criterion, num_epochs=50)\n",
        "\n",
        "    predictions, true_values = get_predictions(model, test_loader_force, device)\n",
        "\n",
        "    r2 = r2_score(true_values, predictions)\n",
        "\n",
        "    return r2\n",
        "\n",
        "study = optuna.create_study(direction='maximize')\n",
        "study.optimize(objective, n_trials=50)"
      ],
      "metadata": {
        "id": "cM7w1lMjRGuc"
      },
      "execution_count": null,
      "outputs": []
    },
    {
      "cell_type": "code",
      "source": [
        "print(\"Лучшие гиперпараметры:\", study.best_params)\n",
        "print(\"Лучшее значение R^2:\", study.best_value)"
      ],
      "metadata": {
        "id": "A0FDXX4NRRaL"
      },
      "execution_count": null,
      "outputs": []
    },
    {
      "cell_type": "code",
      "source": [
        "model = torch.load('model_taranaki_2.pth', weights_only=False)"
      ],
      "metadata": {
        "id": "cxa2M6PZRUHM"
      },
      "execution_count": null,
      "outputs": []
    },
    {
      "cell_type": "code",
      "source": [
        "for name, param in model.named_parameters():\n",
        "    if 'conv' in name or 'bn' in name:\n",
        "        param.requires_grad = False"
      ],
      "metadata": {
        "id": "THCVufO6RUKM"
      },
      "execution_count": null,
      "outputs": []
    },
    {
      "cell_type": "code",
      "source": [
        "for name, param in model.named_parameters():\n",
        "    if param.requires_grad:\n",
        "        print(name)"
      ],
      "metadata": {
        "id": "TJH18t9nRcBu",
        "colab": {
          "base_uri": "https://localhost:8080/"
        },
        "outputId": "91f2a81f-485f-4f89-aceb-e90fe52cb54d"
      },
      "execution_count": null,
      "outputs": [
        {
          "output_type": "stream",
          "name": "stdout",
          "text": [
            "lstm1.weight_ih_l0\n",
            "lstm1.weight_hh_l0\n",
            "lstm1.bias_ih_l0\n",
            "lstm1.bias_hh_l0\n",
            "lstm2.weight_ih_l0\n",
            "lstm2.weight_hh_l0\n",
            "lstm2.bias_ih_l0\n",
            "lstm2.bias_hh_l0\n",
            "fc.weight\n",
            "fc.bias\n"
          ]
        }
      ]
    },
    {
      "cell_type": "code",
      "source": [
        "optimizer = optim.Adam(model.parameters(), lr=0.00003)\n",
        "criterion = nn.MSELoss()"
      ],
      "metadata": {
        "id": "SznRT2v_RcEO"
      },
      "execution_count": null,
      "outputs": []
    },
    {
      "cell_type": "code",
      "source": [
        "train_losses, val_losses = train(model, train_loader_force, val_loader_force, optimizer, criterion, num_epochs=50)"
      ],
      "metadata": {
        "id": "8gKNSpZ0QBl7",
        "colab": {
          "base_uri": "https://localhost:8080/"
        },
        "outputId": "ca70dd68-dc97-4a78-f989-62e6893c6dc2"
      },
      "execution_count": null,
      "outputs": [
        {
          "output_type": "stream",
          "name": "stdout",
          "text": [
            "Epoch 1/50, Train Loss: 0.0027, Val Loss: 0.0029\n",
            "Epoch 2/50, Train Loss: 0.0025, Val Loss: 0.0027\n",
            "Epoch 3/50, Train Loss: 0.0024, Val Loss: 0.0026\n",
            "Epoch 4/50, Train Loss: 0.0024, Val Loss: 0.0026\n",
            "Epoch 5/50, Train Loss: 0.0023, Val Loss: 0.0026\n",
            "Epoch 6/50, Train Loss: 0.0023, Val Loss: 0.0026\n",
            "Epoch 7/50, Train Loss: 0.0022, Val Loss: 0.0026\n",
            "Epoch 8/50, Train Loss: 0.0022, Val Loss: 0.0025\n",
            "Epoch 9/50, Train Loss: 0.0022, Val Loss: 0.0025\n",
            "Epoch 10/50, Train Loss: 0.0022, Val Loss: 0.0026\n",
            "Epoch 11/50, Train Loss: 0.0022, Val Loss: 0.0025\n",
            "Epoch 12/50, Train Loss: 0.0021, Val Loss: 0.0025\n",
            "Epoch 13/50, Train Loss: 0.0022, Val Loss: 0.0025\n",
            "Stopping early at epoch 13. Best Val Loss: 0.0025\n",
            "Loaded best weights.\n"
          ]
        }
      ]
    },
    {
      "cell_type": "code",
      "source": [
        "plt.plot(train_losses, label='Потери на тренировке')\n",
        "plt.plot(val_losses, label='Потери на валидации')\n",
        "plt.title('Обучение')\n",
        "plt.xlabel('Эпоха')\n",
        "plt.ylabel('Потери')\n",
        "plt.legend()"
      ],
      "metadata": {
        "id": "Dpd3AZ8DPXM5",
        "colab": {
          "base_uri": "https://localhost:8080/",
          "height": 490
        },
        "outputId": "f0d87102-6bfa-4c45-89d1-16752147f7c1"
      },
      "execution_count": null,
      "outputs": [
        {
          "output_type": "execute_result",
          "data": {
            "text/plain": [
              "<matplotlib.legend.Legend at 0x796861f53a90>"
            ]
          },
          "metadata": {},
          "execution_count": 48
        },
        {
          "output_type": "display_data",
          "data": {
            "text/plain": [
              "<Figure size 640x480 with 1 Axes>"
            ],
            "image/png": "[encoded data removed]"
          },
          "metadata": {}
        }
      ]
    },
    {
      "cell_type": "code",
      "source": [
        "torch.save(model, 'model_trans_force.pth')"
      ],
      "metadata": {
        "id": "qzbSEUAnRjUV"
      },
      "execution_count": null,
      "outputs": []
    },
    {
      "cell_type": "code",
      "source": [
        "def objective(trial):\n",
        "    # Для каждой итерации вы будете брать значение скорости обучения из Optuna\n",
        "    lr = trial.suggest_loguniform('lr', 1e-6, 1e-4)  # Определите диапазон для lr\n",
        "\n",
        "    # Загружаем и конструируем модель\n",
        "    model = torch.load('model_trans_force.pth', weights_only=False)\n",
        "\n",
        "    for name, param in model.named_parameters():\n",
        "        if 'conv' in name or 'bn' in name:\n",
        "            param.requires_grad = True\n",
        "\n",
        "    optimizer = optim.Adam(model.parameters(), lr=lr)\n",
        "    criterion = nn.MSELoss()\n",
        "\n",
        "    # Обучаем модель\n",
        "    train_losses, val_losses = train(model, train_loader_force, val_loader_force, optimizer, criterion, num_epochs=50)\n",
        "\n",
        "    predictions, true_values = get_predictions(model, test_loader_force, device)\n",
        "\n",
        "    r2 = r2_score(true_values, predictions)\n",
        "\n",
        "    return r2\n",
        "\n",
        "study = optuna.create_study(direction='maximize')\n",
        "study.optimize(objective, n_trials=50)"
      ],
      "metadata": {
        "id": "zC62GqxERjWY"
      },
      "execution_count": null,
      "outputs": []
    },
    {
      "cell_type": "code",
      "source": [
        "print(\"Лучшие гиперпараметры:\", study.best_params)\n",
        "print(\"Лучшее значение R^2:\", study.best_value)"
      ],
      "metadata": {
        "id": "xPjzlbEDRjZt"
      },
      "execution_count": null,
      "outputs": []
    },
    {
      "cell_type": "code",
      "source": [
        "model = torch.load('model_trans_force.pth', weights_only=False)"
      ],
      "metadata": {
        "id": "nETPwD5vS7gP"
      },
      "execution_count": null,
      "outputs": []
    },
    {
      "cell_type": "code",
      "source": [
        "for name, param in model.named_parameters():\n",
        "    if 'conv' in name or 'bn' in name:\n",
        "        param.requires_grad = True"
      ],
      "metadata": {
        "id": "4nWROQlqS7jV"
      },
      "execution_count": null,
      "outputs": []
    },
    {
      "cell_type": "code",
      "source": [
        "for name, param in model.named_parameters():\n",
        "    if param.requires_grad:\n",
        "        print(name)"
      ],
      "metadata": {
        "colab": {
          "base_uri": "https://localhost:8080/"
        },
        "id": "JkYfV300Yy5D",
        "outputId": "f8b23e42-5add-49e6-ee41-0ddf456dbf14"
      },
      "execution_count": null,
      "outputs": [
        {
          "output_type": "stream",
          "name": "stdout",
          "text": [
            "conv1.weight\n",
            "conv1.bias\n",
            "bn1.weight\n",
            "bn1.bias\n",
            "conv2.weight\n",
            "conv2.bias\n",
            "bn2.weight\n",
            "bn2.bias\n",
            "conv3.weight\n",
            "conv3.bias\n",
            "bn3.weight\n",
            "bn3.bias\n",
            "conv4.weight\n",
            "conv4.bias\n",
            "bn4.weight\n",
            "bn4.bias\n",
            "lstm1.weight_ih_l0\n",
            "lstm1.weight_hh_l0\n",
            "lstm1.bias_ih_l0\n",
            "lstm1.bias_hh_l0\n",
            "lstm2.weight_ih_l0\n",
            "lstm2.weight_hh_l0\n",
            "lstm2.bias_ih_l0\n",
            "lstm2.bias_hh_l0\n",
            "fc.weight\n",
            "fc.bias\n"
          ]
        }
      ]
    },
    {
      "cell_type": "code",
      "source": [
        "optimizer = optim.Adam(model.parameters(), lr=0.000009)\n",
        "criterion = nn.MSELoss()"
      ],
      "metadata": {
        "id": "xKGhbgA5S7lc"
      },
      "execution_count": null,
      "outputs": []
    },
    {
      "cell_type": "code",
      "source": [
        "train_losses, val_losses = train(model, train_loader_force, val_loader_force, optimizer, criterion, num_epochs=50)"
      ],
      "metadata": {
        "id": "bm94TuHES7os",
        "colab": {
          "base_uri": "https://localhost:8080/"
        },
        "outputId": "27bacf7b-1b44-4442-bfe9-795806f1ac50"
      },
      "execution_count": null,
      "outputs": [
        {
          "output_type": "stream",
          "name": "stdout",
          "text": [
            "Epoch 1/50, Train Loss: 0.0020, Val Loss: 0.0026\n",
            "Epoch 2/50, Train Loss: 0.0019, Val Loss: 0.0025\n",
            "Epoch 3/50, Train Loss: 0.0019, Val Loss: 0.0026\n",
            "Epoch 4/50, Train Loss: 0.0018, Val Loss: 0.0025\n",
            "Epoch 5/50, Train Loss: 0.0018, Val Loss: 0.0025\n",
            "Epoch 6/50, Train Loss: 0.0018, Val Loss: 0.0026\n",
            "Stopping early at epoch 6. Best Val Loss: 0.0025\n",
            "Loaded best weights.\n"
          ]
        }
      ]
    },
    {
      "cell_type": "code",
      "source": [
        "plt.plot(train_losses, label='Потери на тренировке')\n",
        "plt.plot(val_losses, label='Потери на валидации')\n",
        "plt.title('Обучение')\n",
        "plt.xlabel('Эпоха')\n",
        "plt.ylabel('Потери')\n",
        "plt.legend()"
      ],
      "metadata": {
        "id": "4uMf9nFVTbUB",
        "colab": {
          "base_uri": "https://localhost:8080/",
          "height": 490
        },
        "outputId": "b15a00d0-07b7-4c47-f335-d3f0ba9ea85f"
      },
      "execution_count": null,
      "outputs": [
        {
          "output_type": "execute_result",
          "data": {
            "text/plain": [
              "<matplotlib.legend.Legend at 0x796862039890>"
            ]
          },
          "metadata": {},
          "execution_count": 73
        },
        {
          "output_type": "display_data",
          "data": {
            "text/plain": [
              "<Figure size 640x480 with 1 Axes>"
            ],
            "image/png": "[encoded data removed]"
          },
          "metadata": {}
        }
      ]
    },
    {
      "cell_type": "code",
      "source": [
        "predictions, true_values = get_predictions(model, test_loader_force, device)"
      ],
      "metadata": {
        "id": "HUyg1dGyTbWu"
      },
      "execution_count": null,
      "outputs": []
    },
    {
      "cell_type": "code",
      "source": [
        "mae = mean_absolute_error(true_values, predictions)\n",
        "mape = mean_absolute_percentage_error(true_values, predictions)\n",
        "rmse = root_mean_squared_error(true_values, predictions)\n",
        "r2 = r2_score(true_values, predictions)"
      ],
      "metadata": {
        "id": "XCpRGAv6S7qo"
      },
      "execution_count": null,
      "outputs": []
    },
    {
      "cell_type": "code",
      "source": [
        "print(f\"MAE: {mae}\",\n",
        "      f\"MAPE: {mape}\",\n",
        "      f\"RMSE: {rmse}\",\n",
        "      f\"R2: {r2}\", sep = '\\n')"
      ],
      "metadata": {
        "colab": {
          "base_uri": "https://localhost:8080/"
        },
        "id": "Eq0S1tjNb7r9",
        "outputId": "ca95fe87-3b7d-4753-b265-666940703bca"
      },
      "execution_count": null,
      "outputs": [
        {
          "output_type": "stream",
          "name": "stdout",
          "text": [
            "MAE: 0.036252618853163894\n",
            "MAPE: 0.07367758631497019\n",
            "RMSE: 0.0475887824515713\n",
            "R2: 0.6260081890752046\n"
          ]
        }
      ]
    },
    {
      "cell_type": "code",
      "source": [
        "plt.figure(figsize=(6,5))\n",
        "plt.plot(true_values, label=\"true\")\n",
        "plt.plot(predictions, 'r', label=\"prediction\")\n",
        "plt.title('Прогноз модели с переносом знаний для каротажа RHOB на месторождении Force')\n",
        "plt.ylabel('Значение')\n",
        "plt.xlabel('Временной шаг')\n",
        "plt.legend()\n",
        "plt.show()"
      ],
      "metadata": {
        "id": "3qlieAtTTeCy",
        "colab": {
          "base_uri": "https://localhost:8080/",
          "height": 487
        },
        "outputId": "f9013f89-e3b1-462b-d886-5699dd52ea79"
      },
      "execution_count": null,
      "outputs": [
        {
          "output_type": "display_data",
          "data": {
            "text/plain": [
              "<Figure size 600x500 with 1 Axes>"
            ],
            "image/png": "[encoded data removed]"
          },
          "metadata": {}
        }
      ]
    },
    {
      "cell_type": "code",
      "source": [
        "np.save('trans_pred_1.npy', predictions)"
      ],
      "metadata": {
        "id": "6nijE78jTeFK"
      },
      "execution_count": null,
      "outputs": []
    },
    {
      "cell_type": "code",
      "source": [
        "for i in range(9):\n",
        "    print(f\"\\nTraining iteration {i + 1}/9\")\n",
        "\n",
        "    # Создаем новую модель и оптимизатор для каждой итерации\n",
        "    model = torch.load('model_taranaki_2.pth', weights_only=False)\n",
        "\n",
        "    for name, param in model.named_parameters():\n",
        "        if 'conv' in name or 'bn' in name:\n",
        "            param.requires_grad = False\n",
        "\n",
        "    optimizer = optim.Adam(model.parameters(), lr=0.00003)\n",
        "    criterion = nn.MSELoss()\n",
        "\n",
        "    # Обучаем модель\n",
        "    train_losses, val_losses = train(model, train_loader_force, val_loader_force, optimizer, criterion, num_epochs=50)\n",
        "\n",
        "    for name, param in model.named_parameters():\n",
        "        if 'conv' in name or 'bn' in name:\n",
        "            param.requires_grad = True\n",
        "\n",
        "    optimizer = optim.Adam(model.parameters(), lr=0.000009)\n",
        "    criterion = nn.MSELoss()\n",
        "\n",
        "    train_losses, val_losses = train(model, train_loader_force, val_loader_force, optimizer, criterion, num_epochs=50)\n",
        "\n",
        "    # Получаем предсказания на тестовом наборе\n",
        "    predictions, _ = get_predictions(model, test_loader_force, device)\n",
        "\n",
        "    # Сохраняем предсказания текущей итерации\n",
        "    np.save(f'trans_pred_{i + 2}.npy', predictions)"
      ],
      "metadata": {
        "id": "tCbjUB3gS7tO"
      },
      "execution_count": null,
      "outputs": []
    }
  ]
}