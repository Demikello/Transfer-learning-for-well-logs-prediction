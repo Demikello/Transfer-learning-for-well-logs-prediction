{
  "nbformat": 4,
  "nbformat_minor": 0,
  "metadata": {
    "colab": {
      "provenance": [],
      "gpuType": "T4"
    },
    "kernelspec": {
      "name": "python3",
      "display_name": "Python 3"
    },
    "language_info": {
      "name": "python"
    },
    "accelerator": "GPU"
  },
  "cells": [
    {
      "cell_type": "code",
      "execution_count": null,
      "metadata": {
        "id": "saIptQkYwkxE",
        "colab": {
          "base_uri": "https://localhost:8080/"
        },
        "outputId": "15d7bcc0-1c02-4823-af30-ab13d0c24f1d"
      },
      "outputs": [
        {
          "output_type": "stream",
          "name": "stdout",
          "text": [
            "Collecting optuna\n",
            "  Downloading optuna-4.3.0-py3-none-any.whl.metadata (17 kB)\n",
            "Collecting alembic>=1.5.0 (from optuna)\n",
            "  Downloading alembic-1.15.2-py3-none-any.whl.metadata (7.3 kB)\n",
            "Collecting colorlog (from optuna)\n",
            "  Downloading colorlog-6.9.0-py3-none-any.whl.metadata (10 kB)\n",
            "Requirement already satisfied: numpy in /usr/local/lib/python3.11/dist-packages (from optuna) (2.0.2)\n",
            "Requirement already satisfied: packaging>=20.0 in /usr/local/lib/python3.11/dist-packages (from optuna) (24.2)\n",
            "Requirement already satisfied: sqlalchemy>=1.4.2 in /usr/local/lib/python3.11/dist-packages (from optuna) (2.0.40)\n",
            "Requirement already satisfied: tqdm in /usr/local/lib/python3.11/dist-packages (from optuna) (4.67.1)\n",
            "Requirement already satisfied: PyYAML in /usr/local/lib/python3.11/dist-packages (from optuna) (6.0.2)\n",
            "Requirement already satisfied: Mako in /usr/lib/python3/dist-packages (from alembic>=1.5.0->optuna) (1.1.3)\n",
            "Requirement already satisfied: typing-extensions>=4.12 in /usr/local/lib/python3.11/dist-packages (from alembic>=1.5.0->optuna) (4.13.2)\n",
            "Requirement already satisfied: greenlet>=1 in /usr/local/lib/python3.11/dist-packages (from sqlalchemy>=1.4.2->optuna) (3.2.1)\n",
            "Downloading optuna-4.3.0-py3-none-any.whl (386 kB)\n",
            "\u001b[2K   \u001b[90m━━━━━━━━━━━━━━━━━━━━━━━━━━━━━━━━━━━━━━━━\u001b[0m \u001b[32m386.6/386.6 kB\u001b[0m \u001b[31m8.0 MB/s\u001b[0m eta \u001b[36m0:00:00\u001b[0m\n",
            "\u001b[?25hDownloading alembic-1.15.2-py3-none-any.whl (231 kB)\n",
            "\u001b[2K   \u001b[90m━━━━━━━━━━━━━━━━━━━━━━━━━━━━━━━━━━━━━━━━\u001b[0m \u001b[32m231.9/231.9 kB\u001b[0m \u001b[31m15.1 MB/s\u001b[0m eta \u001b[36m0:00:00\u001b[0m\n",
            "\u001b[?25hDownloading colorlog-6.9.0-py3-none-any.whl (11 kB)\n",
            "Installing collected packages: colorlog, alembic, optuna\n",
            "Successfully installed alembic-1.15.2 colorlog-6.9.0 optuna-4.3.0\n"
          ]
        }
      ],
      "source": [
        "!pip install optuna"
      ]
    },
    {
      "cell_type": "code",
      "source": [
        "import torch\n",
        "import torch.nn as nn\n",
        "import torch.nn.functional as F\n",
        "import torch.optim as optim\n",
        "from torch.utils.data import DataLoader, TensorDataset\n",
        "import pandas as pd\n",
        "from sklearn.metrics import r2_score\n",
        "from sklearn.preprocessing import MinMaxScaler\n",
        "import random as rd\n",
        "import numpy as np\n",
        "import optuna\n",
        "import matplotlib.pyplot as plt\n",
        "from google.colab import drive\n",
        "from sklearn.metrics import mean_absolute_error\n",
        "from sklearn.metrics import root_mean_squared_error\n",
        "from sklearn.metrics import mean_absolute_percentage_error\n",
        "from sklearn.metrics import r2_score"
      ],
      "metadata": {
        "id": "P8Jhrwj5xU_o"
      },
      "execution_count": null,
      "outputs": []
    },
    {
      "cell_type": "code",
      "source": [
        "drive.mount('/content/drive')"
      ],
      "metadata": {
        "id": "wJ-lylzbxVB8",
        "colab": {
          "base_uri": "https://localhost:8080/"
        },
        "outputId": "e8aaf15a-ecf6-447f-b40b-3c8d7da7a8f4"
      },
      "execution_count": null,
      "outputs": [
        {
          "output_type": "stream",
          "name": "stdout",
          "text": [
            "Mounted at /content/drive\n"
          ]
        }
      ]
    },
    {
      "cell_type": "code",
      "source": [
        "df_taranaki = pd.read_csv('/content/drive/MyDrive/taranaki_logs.csv')\n",
        "df_kansas = pd.read_csv('/content/drive/MyDrive/kansas_logs.csv')"
      ],
      "metadata": {
        "id": "LxS94uUrxVFO"
      },
      "execution_count": null,
      "outputs": []
    },
    {
      "cell_type": "code",
      "source": [
        "df_taranaki = df_taranaki.rename(columns={'DENS': 'RHOB', 'NEUT': 'NPHI'})\n",
        "df_kansas = df_kansas.rename(columns={'UWI': 'WELLNAME'})"
      ],
      "metadata": {
        "id": "nst_B5TfxVH3"
      },
      "execution_count": null,
      "outputs": []
    },
    {
      "cell_type": "code",
      "source": [
        "df_taranaki.set_index(['WELLNAME', 'DEPT'], inplace = True)\n",
        "df_kansas.set_index(['WELLNAME', 'DEPT'], inplace = True)"
      ],
      "metadata": {
        "id": "lISgsRxhxVKN"
      },
      "execution_count": null,
      "outputs": []
    },
    {
      "cell_type": "code",
      "source": [
        "print(f'Количество скважин Taranaki = {df_taranaki.index.get_level_values(0).nunique()}')\n",
        "print(f'Количество скважин Kansas = {df_kansas.index.get_level_values(0).nunique()}')"
      ],
      "metadata": {
        "id": "1xdKZuLGxVMg",
        "colab": {
          "base_uri": "https://localhost:8080/"
        },
        "outputId": "5a2ee1be-9186-469e-960b-463e44417405"
      },
      "execution_count": null,
      "outputs": [
        {
          "output_type": "stream",
          "name": "stdout",
          "text": [
            "Количество скважин Taranaki = 152\n",
            "Количество скважин Kansas = 93\n"
          ]
        }
      ]
    },
    {
      "cell_type": "code",
      "source": [
        "X_taranaki = df_taranaki.drop('NPHI', axis = 1)\n",
        "y_taranaki = df_taranaki['NPHI']\n",
        "\n",
        "X_kansas = df_kansas.drop('NPHI', axis = 1)\n",
        "y_kansas = df_kansas['NPHI']"
      ],
      "metadata": {
        "id": "0itOaGYrxVO3"
      },
      "execution_count": null,
      "outputs": []
    },
    {
      "cell_type": "code",
      "source": [
        "df_X = pd.concat([X_taranaki, X_kansas])\n",
        "df_y = pd.concat([y_taranaki, y_kansas])"
      ],
      "metadata": {
        "id": "V1SjTE0JxVQ_"
      },
      "execution_count": null,
      "outputs": []
    },
    {
      "cell_type": "code",
      "source": [
        "X = df_X.reset_index()\n",
        "y = df_y.reset_index()\n",
        "\n",
        "scaler_X = MinMaxScaler()\n",
        "scaler_y = MinMaxScaler()\n",
        "\n",
        "normalized_values_X = scaler_X.fit_transform(X[['CALI', 'RHOB', 'DRHO', 'GR', 'SP']])\n",
        "normalized_values_y = scaler_y.fit_transform(y[['NPHI']])\n",
        "\n",
        "X[['CALI', 'RHOB', 'DRHO', 'GR', 'SP']] = normalized_values_X\n",
        "y[['NPHI']] = normalized_values_y\n",
        "\n",
        "X_scaled = X.set_index(['WELLNAME', 'DEPT'])\n",
        "y_scaled = y.set_index(['WELLNAME', 'DEPT'])"
      ],
      "metadata": {
        "id": "CAQ3IIbxxi-d"
      },
      "execution_count": null,
      "outputs": []
    },
    {
      "cell_type": "code",
      "source": [
        "X_taranaki = X_scaled.loc[X_taranaki.index.get_level_values(0).unique()]\n",
        "y_taranaki = y_scaled.loc[y_taranaki.index.get_level_values(0).unique()]\n",
        "\n",
        "X_kansas = X_scaled.loc[X_kansas.index.get_level_values(0).unique()]\n",
        "y_kansas = y_scaled.loc[y_kansas.index.get_level_values(0).unique()]"
      ],
      "metadata": {
        "id": "ZDTBrmEyxVTL"
      },
      "execution_count": null,
      "outputs": []
    },
    {
      "cell_type": "code",
      "source": [
        "train_part_size = 0.7\n",
        "\n",
        "# Случайно выберем скважины для тренировочного и тестового наборов\n",
        "rd.seed(17)\n",
        "train_wells_kansas = rd.sample(\n",
        "    X_kansas.index.get_level_values(0).unique().tolist(),\n",
        "    round(len(X_kansas.index.get_level_values(0).unique()) * train_part_size),\n",
        ")\n",
        "\n",
        "val_wells_kansas = list(set(X_kansas.index.get_level_values(0).unique().tolist()) - set(train_wells_kansas))\n",
        "val_wells_kansas = sorted(val_wells_kansas)\n",
        "rd.shuffle(val_wells_kansas)"
      ],
      "metadata": {
        "id": "F7uWflD1xVU9"
      },
      "execution_count": null,
      "outputs": []
    },
    {
      "cell_type": "code",
      "source": [
        "rd.seed(5)\n",
        "train_wells_taranaki = rd.sample(\n",
        "    X_taranaki.index.get_level_values(0).unique().tolist(),\n",
        "    round(len(X_taranaki.index.get_level_values(0).unique()) * train_part_size),\n",
        ")\n",
        "\n",
        "val_test_wells_taranaki = list(set(X_taranaki.index.get_level_values(0).unique().tolist()) - set(train_wells_taranaki))\n",
        "val_test_wells_taranaki = sorted(val_test_wells_taranaki)\n",
        "rd.shuffle(val_test_wells_taranaki)\n",
        "\n",
        "rd.seed(5)\n",
        "val_wells_taranaki = rd.sample(\n",
        "    val_test_wells_taranaki,\n",
        "    round(len(val_test_wells_taranaki) * 0.5),)\n",
        "\n",
        "test_wells_taranaki = list(set(val_test_wells_taranaki) - set(val_wells_taranaki))\n",
        "test_wells_taranaki = sorted(test_wells_taranaki)\n",
        "rd.shuffle(test_wells_taranaki)"
      ],
      "metadata": {
        "id": "EFAKlYzUxVW9"
      },
      "execution_count": null,
      "outputs": []
    },
    {
      "cell_type": "code",
      "source": [
        "train_X_kansas = X_kansas.loc[train_wells_kansas]\n",
        "train_y_kansas = y_kansas.loc[train_wells_kansas]\n",
        "\n",
        "val_X_kansas = X_kansas.loc[val_wells_kansas]\n",
        "val_y_kansas = y_kansas.loc[val_wells_kansas]"
      ],
      "metadata": {
        "id": "xDmlNEQNxVY4"
      },
      "execution_count": null,
      "outputs": []
    },
    {
      "cell_type": "code",
      "source": [
        "train_X_taranaki = X_taranaki.loc[train_wells_taranaki]\n",
        "train_y_taranaki = y_taranaki.loc[train_wells_taranaki]\n",
        "\n",
        "val_X_taranaki = X_taranaki.loc[val_wells_taranaki]\n",
        "val_y_taranaki = y_taranaki.loc[val_wells_taranaki]\n",
        "\n",
        "test_X_taranaki = X_taranaki.loc[test_wells_taranaki]\n",
        "test_y_taranaki = y_taranaki.loc[test_wells_taranaki]"
      ],
      "metadata": {
        "id": "94Y412tZxVbJ"
      },
      "execution_count": null,
      "outputs": []
    },
    {
      "cell_type": "code",
      "source": [
        "def gen_data_per_well(features, target, time_steps=50):\n",
        "    Xs, ys = [], []\n",
        "\n",
        "    # Перебираем уникальные значения скважин\n",
        "    for well_name in features.index.get_level_values('WELLNAME').unique():\n",
        "        # Получаем данные для текущей скважины\n",
        "        well_features = features.xs(well_name, level='WELLNAME')\n",
        "        well_target = target.xs(well_name, level='WELLNAME')\n",
        "\n",
        "        # Генерируем X и y для текущей скважины\n",
        "        for i in range(len(well_features) - time_steps):\n",
        "            Xs.append(well_features.iloc[i:i + time_steps].values)\n",
        "            ys.append(well_target.iloc[i + time_steps - 1])\n",
        "\n",
        "    return np.array(Xs), np.array(ys)"
      ],
      "metadata": {
        "id": "OYkTfApxxrX_"
      },
      "execution_count": null,
      "outputs": []
    },
    {
      "cell_type": "code",
      "source": [
        "train_X_kansas, train_y_kansas = gen_data_per_well(train_X_kansas, train_y_kansas)\n",
        "val_X_kansas, val_y_kansas = gen_data_per_well(val_X_kansas, val_y_kansas)"
      ],
      "metadata": {
        "id": "MHani4m7xtAl"
      },
      "execution_count": null,
      "outputs": []
    },
    {
      "cell_type": "code",
      "source": [
        "train_X_taranaki, train_y_taranaki = gen_data_per_well(train_X_taranaki, train_y_taranaki)\n",
        "val_X_taranaki, val_y_taranaki = gen_data_per_well(val_X_taranaki, val_y_taranaki)\n",
        "test_X_taranaki, test_y_taranaki = gen_data_per_well(test_X_taranaki, test_y_taranaki)"
      ],
      "metadata": {
        "id": "GMS6hPYZxtDP"
      },
      "execution_count": null,
      "outputs": []
    },
    {
      "cell_type": "code",
      "source": [
        "train_X_kansas_tensor = torch.tensor(train_X_kansas, dtype=torch.float32)\n",
        "train_y_kansas_tensor = torch.tensor(train_y_kansas, dtype=torch.float32)\n",
        "\n",
        "val_X_kansas_tensor = torch.tensor(val_X_kansas, dtype=torch.float32)\n",
        "val_y_kansas_tensor = torch.tensor(val_y_kansas, dtype=torch.float32)"
      ],
      "metadata": {
        "id": "nLTlt7oNxtFr"
      },
      "execution_count": null,
      "outputs": []
    },
    {
      "cell_type": "code",
      "source": [
        "train_X_taranaki_tensor = torch.tensor(train_X_taranaki, dtype=torch.float32)\n",
        "train_y_taranaki_tensor = torch.tensor(train_y_taranaki, dtype=torch.float32)\n",
        "\n",
        "val_X_taranaki_tensor = torch.tensor(val_X_taranaki, dtype=torch.float32)\n",
        "val_y_taranaki_tensor = torch.tensor(val_y_taranaki, dtype=torch.float32)\n",
        "\n",
        "test_X_taranaki_tensor = torch.tensor(test_X_taranaki, dtype=torch.float32)\n",
        "test_y_taranaki_tensor = torch.tensor(test_y_taranaki, dtype=torch.float32)"
      ],
      "metadata": {
        "id": "UZ18frkuxraP"
      },
      "execution_count": null,
      "outputs": []
    },
    {
      "cell_type": "code",
      "source": [
        "# Создание TensorDataset\n",
        "train_dataset_kansas = TensorDataset(train_X_kansas_tensor, train_y_kansas_tensor)\n",
        "val_dataset_kansas = TensorDataset(val_X_kansas_tensor, val_y_kansas_tensor)\n",
        "\n",
        "# Создание DataLoader\n",
        "train_loader_kansas = DataLoader(train_dataset_kansas, batch_size=256, shuffle=True)\n",
        "val_loader_kansas = DataLoader(val_dataset_kansas, batch_size=256, shuffle=False)"
      ],
      "metadata": {
        "id": "uZ28kuRbx-YQ"
      },
      "execution_count": null,
      "outputs": []
    },
    {
      "cell_type": "code",
      "source": [
        "# Создание TensorDataset\n",
        "train_dataset_taranaki = TensorDataset(train_X_taranaki_tensor, train_y_taranaki_tensor)\n",
        "val_dataset_taranaki = TensorDataset(val_X_taranaki_tensor, val_y_taranaki_tensor)\n",
        "test_dataset_taranaki = TensorDataset(test_X_taranaki_tensor, test_y_taranaki_tensor)\n",
        "\n",
        "# Создание DataLoader\n",
        "train_loader_taranaki = DataLoader(train_dataset_taranaki, batch_size=256, shuffle=True)\n",
        "val_loader_taranaki = DataLoader(val_dataset_taranaki, batch_size=256, shuffle=False)\n",
        "test_loader_taranaki = DataLoader(test_dataset_taranaki, batch_size=256, shuffle=False)"
      ],
      "metadata": {
        "id": "RVZkegAUx-eX"
      },
      "execution_count": null,
      "outputs": []
    },
    {
      "cell_type": "code",
      "source": [
        "class MyModel(nn.Module):\n",
        "    def __init__(self):\n",
        "        super(MyModel, self).__init__()\n",
        "        self.conv1 = nn.Conv1d(in_channels=5, out_channels=256, kernel_size=3, padding='same')\n",
        "        self.bn1 = nn.BatchNorm1d(256)\n",
        "        self.pool1 = nn.MaxPool1d(kernel_size=2)\n",
        "\n",
        "        self.conv2 = nn.Conv1d(in_channels=256, out_channels=64, kernel_size=5, padding='same')\n",
        "        self.bn2 = nn.BatchNorm1d(64)\n",
        "        self.pool2 = nn.MaxPool1d(kernel_size=2)\n",
        "\n",
        "        self.conv3 = nn.Conv1d(in_channels=64, out_channels=32, kernel_size=5, padding='same')\n",
        "        self.bn3 = nn.BatchNorm1d(32)\n",
        "        self.pool3 = nn.MaxPool1d(kernel_size=2)\n",
        "\n",
        "        self.conv4 = nn.Conv1d(in_channels=32, out_channels=64, kernel_size=5, padding='same')\n",
        "        self.bn4 = nn.BatchNorm1d(64)\n",
        "        self.pool4 = nn.MaxPool1d(kernel_size=2)\n",
        "\n",
        "        self.lstm1 = nn.LSTM(input_size=64, hidden_size=128, batch_first=True)\n",
        "        self.dropout1 = nn.Dropout(0.079622469)\n",
        "\n",
        "        self.lstm2 = nn.LSTM(input_size=128, hidden_size=128, batch_first=True)\n",
        "        self.dropout2 = nn.Dropout(0.206204401)\n",
        "\n",
        "        self.lstm3 = nn.LSTM(input_size=128, hidden_size=64, batch_first=True)\n",
        "        self.dropout3 = nn.Dropout(0.08695)\n",
        "\n",
        "        self.fc = nn.Linear(64, 1)\n",
        "\n",
        "    def forward(self, x):\n",
        "        x = x.permute(0, 2, 1)  # Теперь x имеет форму (batch_size, features_dim, time_steps)\n",
        "        x = self.conv1(x)\n",
        "        x = self.bn1(x)\n",
        "        x = nn.ReLU()(x)\n",
        "        x = self.pool1(x)\n",
        "\n",
        "        x = self.conv2(x)\n",
        "        x = self.bn2(x)\n",
        "        x = nn.ReLU()(x)\n",
        "        x = self.pool2(x)\n",
        "\n",
        "        x = self.conv3(x)\n",
        "        x = self.bn3(x)\n",
        "        x = nn.ReLU()(x)\n",
        "        x = self.pool3(x)\n",
        "\n",
        "        x = self.conv4(x)\n",
        "        x = self.bn4(x)\n",
        "        x = nn.ReLU()(x)\n",
        "        x = self.pool4(x)\n",
        "\n",
        "        # Сначала нужно изменить размерность для LSTM\n",
        "        x = x.transpose(1, 2)  # Меняем местами размерности (batch_size, num_channels, sequence_length) -> (batch_size, sequence_length, num_channels)\n",
        "\n",
        "        x, _ = self.lstm1(x)\n",
        "        x = self.dropout1(x)\n",
        "\n",
        "        x, _ = self.lstm2(x)\n",
        "        x = self.dropout2(x)\n",
        "\n",
        "        x, _ = self.lstm3(x)\n",
        "        x = self.dropout3(x)\n",
        "\n",
        "        # Берем только последний выход LSTM\n",
        "        x = x[:, -1, :]  # (batch_size, hidden_size)\n",
        "\n",
        "        x = self.fc(x)\n",
        "\n",
        "        return x"
      ],
      "metadata": {
        "id": "u6LK7yoZyh5g"
      },
      "execution_count": null,
      "outputs": []
    },
    {
      "cell_type": "code",
      "source": [
        "device = torch.device(\"cuda\" if torch.cuda.is_available() else \"cpu\")"
      ],
      "metadata": {
        "id": "rV_1raRnymVS"
      },
      "execution_count": null,
      "outputs": []
    },
    {
      "cell_type": "code",
      "source": [
        "def train(model, train_loader, val_loader, optimizer, criterion, num_epochs, patience=4, lr_reduce_factor=0.5):\n",
        "    model.to(device)  # Перемещаем модель на GPU\n",
        "\n",
        "    best_val_loss = float('inf')  # Наименьшая валидационная потеря\n",
        "    epochs_without_improvement = 0  # Счетчик эпох без улучшения\n",
        "    best_weights = None  # Переменная для хранения лучших весов\n",
        "\n",
        "    train_losses = []\n",
        "    val_losses = []\n",
        "\n",
        "    for epoch in range(num_epochs):\n",
        "        model.train()  # В режим тренировки\n",
        "        train_loss = 0.0\n",
        "\n",
        "        for inputs, targets in train_loader:\n",
        "            inputs, targets = inputs.to(device), targets.to(device)  # Перемещаем данные на GPU\n",
        "            optimizer.zero_grad()  # Обнуляем градиенты\n",
        "            outputs = model(inputs)  # Прямой проход\n",
        "            loss = criterion(outputs, targets)  # Вычисление потерь\n",
        "            loss.backward()  # Обратный проход\n",
        "            optimizer.step()  # Обновление весов\n",
        "\n",
        "            train_loss += loss.item()  # Суммируем потери для тренировки\n",
        "\n",
        "        train_loss /= len(train_loader)  # Среднее значение по всем батчам\n",
        "        train_losses.append(train_loss)\n",
        "\n",
        "        # Валидация\n",
        "        model.eval()  # В режим валидации\n",
        "        val_loss = 0.0\n",
        "        with torch.no_grad():  # Отключаем градиенты\n",
        "            for inputs, targets in val_loader:\n",
        "                inputs, targets = inputs.to(device), targets.to(device)  # Перемещаем данные на GPU\n",
        "                outputs = model(inputs)\n",
        "                loss = criterion(outputs, targets)\n",
        "                val_loss += loss.item()\n",
        "\n",
        "        val_loss /= len(val_loader)  # Среднее значение по всем батчам\n",
        "        val_losses.append(val_loss)\n",
        "\n",
        "        # Если текущая валидационная потеря лучше, сохраняем веса\n",
        "        if val_loss < best_val_loss:\n",
        "            best_val_loss = val_loss\n",
        "            best_weights = model.state_dict()  # Сохраняем лучшие веса\n",
        "            epochs_without_improvement = 0  # Сбрасываем счетчик\n",
        "        else:\n",
        "            epochs_without_improvement += 1  # Увеличиваем счетчик без улучшений\n",
        "\n",
        "        # Изменяем скорость обучения, если не было улучшения\n",
        "        if epochs_without_improvement > 0 and epochs_without_improvement % 2 == 0:\n",
        "            for param_group in optimizer.param_groups:\n",
        "                param_group['lr'] *= lr_reduce_factor  # Уменьшаем lr в 2 раза\n",
        "\n",
        "        print(f'Epoch {epoch + 1}/{num_epochs}, Train Loss: {train_loss:.4f}, Val Loss: {val_loss:.4f}')\n",
        "\n",
        "        # Проверяем, нужно ли остановить обучение\n",
        "        if epochs_without_improvement >= patience:\n",
        "            print(f'Stopping early at epoch {epoch + 1}. Best Val Loss: {best_val_loss:.4f}')\n",
        "            break\n",
        "\n",
        "    # Восстанавливаем лучшие веса\n",
        "    if best_weights is not None:\n",
        "        model.load_state_dict(best_weights)\n",
        "        print(\"Loaded best weights.\")\n",
        "\n",
        "    return train_losses, val_losses"
      ],
      "metadata": {
        "id": "hBF-aW47ymXZ"
      },
      "execution_count": null,
      "outputs": []
    },
    {
      "cell_type": "code",
      "source": [
        "def get_predictions(model, test_loader, device):\n",
        "    model.eval()\n",
        "    predictions = []\n",
        "    true_values = []\n",
        "    with torch.no_grad():\n",
        "        for batch_X, batch_y in test_loader:\n",
        "            batch_X = batch_X.to(device)\n",
        "            outputs = model(batch_X)\n",
        "            predictions.append(outputs.cpu().numpy())\n",
        "            true_values.append(batch_y.cpu().numpy())\n",
        "    predictions = np.concatenate(predictions)\n",
        "    true_values = np.concatenate(true_values)\n",
        "    return predictions, true_values"
      ],
      "metadata": {
        "id": "U4EcE6F5yh79"
      },
      "execution_count": null,
      "outputs": []
    },
    {
      "cell_type": "code",
      "source": [
        "def objective(trial):\n",
        "    lr = trial.suggest_loguniform('lr', 1e-6, 1e-4)  # Определите диапазон для lr\n",
        "\n",
        "    model = MyModel()\n",
        "\n",
        "    optimizer = optim.Adam(model.parameters(), lr=lr)\n",
        "    criterion = nn.MSELoss()\n",
        "\n",
        "    # Обучаем модель\n",
        "    train_losses, val_losses = train(model, train_loader_kansas, val_loader_kansas, optimizer, criterion, num_epochs=50)\n",
        "\n",
        "    predictions, true_values = get_predictions(model, val_loader_kansas, device)\n",
        "\n",
        "    r2 = r2_score(true_values, predictions)\n",
        "\n",
        "    return r2\n",
        "\n",
        "study = optuna.create_study(direction='maximize')\n",
        "study.optimize(objective, n_trials=50)"
      ],
      "metadata": {
        "id": "J7C2NdLSyse3"
      },
      "execution_count": null,
      "outputs": []
    },
    {
      "cell_type": "code",
      "source": [
        "print(\"Лучшие гиперпараметры:\", study.best_params)\n",
        "print(\"Лучшее значение R^2:\", study.best_value)"
      ],
      "metadata": {
        "id": "rIFampWJyshX"
      },
      "execution_count": null,
      "outputs": []
    },
    {
      "cell_type": "code",
      "source": [
        "model = MyModel()\n",
        "optimizer = optim.Adam(model.parameters(), lr=0.0001)\n",
        "criterion = nn.MSELoss()"
      ],
      "metadata": {
        "id": "o0SESFlIxVdT"
      },
      "execution_count": null,
      "outputs": []
    },
    {
      "cell_type": "code",
      "source": [
        "train_losses, val_losses = train(model, train_loader_kansas, val_loader_kansas, optimizer, criterion, num_epochs=50)"
      ],
      "metadata": {
        "id": "oOEQkRSBy96R",
        "colab": {
          "base_uri": "https://localhost:8080/"
        },
        "outputId": "6056209f-9e83-464e-ce32-b17b9b2437bc"
      },
      "execution_count": null,
      "outputs": [
        {
          "output_type": "stream",
          "name": "stdout",
          "text": [
            "Epoch 1/50, Train Loss: 0.0142, Val Loss: 0.0020\n",
            "Epoch 2/50, Train Loss: 0.0020, Val Loss: 0.0018\n",
            "Epoch 3/50, Train Loss: 0.0018, Val Loss: 0.0017\n",
            "Epoch 4/50, Train Loss: 0.0017, Val Loss: 0.0017\n",
            "Epoch 5/50, Train Loss: 0.0016, Val Loss: 0.0017\n",
            "Epoch 6/50, Train Loss: 0.0016, Val Loss: 0.0016\n",
            "Epoch 7/50, Train Loss: 0.0015, Val Loss: 0.0016\n",
            "Epoch 8/50, Train Loss: 0.0015, Val Loss: 0.0016\n",
            "Epoch 9/50, Train Loss: 0.0014, Val Loss: 0.0017\n",
            "Epoch 10/50, Train Loss: 0.0014, Val Loss: 0.0016\n",
            "Epoch 11/50, Train Loss: 0.0014, Val Loss: 0.0016\n",
            "Epoch 12/50, Train Loss: 0.0013, Val Loss: 0.0016\n",
            "Epoch 13/50, Train Loss: 0.0013, Val Loss: 0.0016\n",
            "Epoch 14/50, Train Loss: 0.0013, Val Loss: 0.0016\n",
            "Epoch 15/50, Train Loss: 0.0013, Val Loss: 0.0016\n",
            "Epoch 16/50, Train Loss: 0.0013, Val Loss: 0.0016\n",
            "Epoch 17/50, Train Loss: 0.0013, Val Loss: 0.0016\n",
            "Epoch 18/50, Train Loss: 0.0013, Val Loss: 0.0016\n",
            "Epoch 19/50, Train Loss: 0.0013, Val Loss: 0.0016\n",
            "Epoch 20/50, Train Loss: 0.0013, Val Loss: 0.0016\n",
            "Epoch 21/50, Train Loss: 0.0013, Val Loss: 0.0016\n",
            "Stopping early at epoch 21. Best Val Loss: 0.0016\n",
            "Loaded best weights.\n"
          ]
        }
      ]
    },
    {
      "cell_type": "code",
      "source": [
        "plt.plot(train_losses, label='Потери на тренировке')\n",
        "plt.plot(val_losses, label='Потери на валидации')\n",
        "plt.title('Обучение')\n",
        "plt.xlabel('Эпоха')\n",
        "plt.ylabel('Потери')\n",
        "plt.legend()"
      ],
      "metadata": {
        "id": "B4ZRYh9Ry98q",
        "colab": {
          "base_uri": "https://localhost:8080/",
          "height": 490
        },
        "outputId": "67b67b94-31dc-4eed-9600-355409d9fb71"
      },
      "execution_count": null,
      "outputs": [
        {
          "output_type": "execute_result",
          "data": {
            "text/plain": [
              "<matplotlib.legend.Legend at 0x7e5aa87daf10>"
            ]
          },
          "metadata": {},
          "execution_count": 43
        },
        {
          "output_type": "display_data",
          "data": {
            "text/plain": [
              "<Figure size 640x480 with 1 Axes>"
            ],
            "image/png": "[encoded data removed]"
          },
          "metadata": {}
        }
      ]
    },
    {
      "cell_type": "code",
      "source": [
        "torch.save(model, 'model_kansas_2.pth')"
      ],
      "metadata": {
        "id": "9EKOtfHgzCsA"
      },
      "execution_count": null,
      "outputs": []
    },
    {
      "cell_type": "code",
      "source": [
        "def objective(trial):\n",
        "    # Для каждой итерации вы будете брать значение скорости обучения из Optuna\n",
        "    lr = trial.suggest_loguniform('lr', 1e-6, 1e-4)  # Определите диапазон для lr\n",
        "\n",
        "    # Загружаем и конструируем модель\n",
        "    model = torch.load('model_kansas_2.pth', weights_only=False)\n",
        "\n",
        "    for name, param in model.named_parameters():\n",
        "        if 'conv' in name or 'bn' in name:\n",
        "            param.requires_grad = False\n",
        "\n",
        "    for param in model.conv4.parameters():\n",
        "        param.requires_grad = True\n",
        "\n",
        "    for param in model.bn4.parameters():\n",
        "        param.requires_grad = True\n",
        "\n",
        "    optimizer = optim.Adam(model.parameters(), lr=lr)\n",
        "    criterion = nn.MSELoss()\n",
        "\n",
        "    # Обучаем модель\n",
        "    train_losses, val_losses = train(model, train_loader_taranaki, val_loader_taranaki, optimizer, criterion, num_epochs=50)\n",
        "\n",
        "    predictions, true_values = get_predictions(model, test_loader_taranaki, device)\n",
        "\n",
        "    r2 = r2_score(true_values, predictions)\n",
        "\n",
        "    return r2\n",
        "\n",
        "study = optuna.create_study(direction='maximize')\n",
        "study.optimize(objective, n_trials=50)"
      ],
      "metadata": {
        "id": "jGxC3ccBzCqB"
      },
      "execution_count": null,
      "outputs": []
    },
    {
      "cell_type": "code",
      "source": [
        "print(\"Лучшие гиперпараметры:\", study.best_params)\n",
        "print(\"Лучшее значение R^2:\", study.best_value)"
      ],
      "metadata": {
        "id": "_jKTOXOX023c"
      },
      "execution_count": null,
      "outputs": []
    },
    {
      "cell_type": "code",
      "source": [
        "model = torch.load('model_kansas_2.pth', weights_only=False)"
      ],
      "metadata": {
        "id": "JOsVgiUa0y9s"
      },
      "execution_count": null,
      "outputs": []
    },
    {
      "cell_type": "code",
      "source": [
        "for name, param in model.named_parameters():\n",
        "    if 'conv' in name or 'bn' in name:\n",
        "        param.requires_grad = False\n",
        "\n",
        "for param in model.conv4.parameters():\n",
        "    param.requires_grad = True\n",
        "\n",
        "for param in model.bn4.parameters():\n",
        "    param.requires_grad = True"
      ],
      "metadata": {
        "id": "WtC91Hnt0zAJ"
      },
      "execution_count": null,
      "outputs": []
    },
    {
      "cell_type": "code",
      "source": [
        "for name, param in model.named_parameters():\n",
        "    if param.requires_grad:\n",
        "        print(name)"
      ],
      "metadata": {
        "colab": {
          "base_uri": "https://localhost:8080/"
        },
        "id": "z2xiHpyr8SGf",
        "outputId": "7d706753-12d7-4b61-ef30-299aa266bcce"
      },
      "execution_count": null,
      "outputs": [
        {
          "output_type": "stream",
          "name": "stdout",
          "text": [
            "conv4.weight\n",
            "conv4.bias\n",
            "bn4.weight\n",
            "bn4.bias\n",
            "lstm1.weight_ih_l0\n",
            "lstm1.weight_hh_l0\n",
            "lstm1.bias_ih_l0\n",
            "lstm1.bias_hh_l0\n",
            "lstm2.weight_ih_l0\n",
            "lstm2.weight_hh_l0\n",
            "lstm2.bias_ih_l0\n",
            "lstm2.bias_hh_l0\n",
            "lstm3.weight_ih_l0\n",
            "lstm3.weight_hh_l0\n",
            "lstm3.bias_ih_l0\n",
            "lstm3.bias_hh_l0\n",
            "fc.weight\n",
            "fc.bias\n"
          ]
        }
      ]
    },
    {
      "cell_type": "code",
      "source": [
        "optimizer = optim.Adam(model.parameters(), lr=0.00002)\n",
        "criterion = nn.MSELoss()"
      ],
      "metadata": {
        "id": "UJsaW5DV03RV"
      },
      "execution_count": null,
      "outputs": []
    },
    {
      "cell_type": "code",
      "source": [
        "train_losses, val_losses = train(model, train_loader_taranaki, val_loader_taranaki, optimizer, criterion, num_epochs=50)"
      ],
      "metadata": {
        "id": "mjdaFfRM03Tl",
        "colab": {
          "base_uri": "https://localhost:8080/"
        },
        "outputId": "5320a7b8-a850-48ab-da2f-e2fb15dee179"
      },
      "execution_count": null,
      "outputs": [
        {
          "output_type": "stream",
          "name": "stdout",
          "text": [
            "Epoch 1/50, Train Loss: 0.0035, Val Loss: 0.0031\n",
            "Epoch 2/50, Train Loss: 0.0027, Val Loss: 0.0030\n",
            "Epoch 3/50, Train Loss: 0.0024, Val Loss: 0.0030\n",
            "Epoch 4/50, Train Loss: 0.0023, Val Loss: 0.0030\n",
            "Epoch 5/50, Train Loss: 0.0022, Val Loss: 0.0030\n",
            "Epoch 6/50, Train Loss: 0.0021, Val Loss: 0.0028\n",
            "Epoch 7/50, Train Loss: 0.0021, Val Loss: 0.0029\n",
            "Epoch 8/50, Train Loss: 0.0020, Val Loss: 0.0029\n",
            "Epoch 9/50, Train Loss: 0.0020, Val Loss: 0.0029\n",
            "Epoch 10/50, Train Loss: 0.0019, Val Loss: 0.0029\n",
            "Stopping early at epoch 10. Best Val Loss: 0.0028\n",
            "Loaded best weights.\n"
          ]
        }
      ]
    },
    {
      "cell_type": "code",
      "source": [
        "plt.plot(train_losses, label='Потери на тренировке')\n",
        "plt.plot(val_losses, label='Потери на валидации')\n",
        "plt.title('Обучение')\n",
        "plt.xlabel('Эпоха')\n",
        "plt.ylabel('Потери')\n",
        "plt.legend()"
      ],
      "metadata": {
        "id": "JHQFlMZM1Je2",
        "colab": {
          "base_uri": "https://localhost:8080/",
          "height": 490
        },
        "outputId": "7b19d82b-37a0-41e7-bbdd-243161dbfe90"
      },
      "execution_count": null,
      "outputs": [
        {
          "output_type": "execute_result",
          "data": {
            "text/plain": [
              "<matplotlib.legend.Legend at 0x7e5abdb02f10>"
            ]
          },
          "metadata": {},
          "execution_count": 55
        },
        {
          "output_type": "display_data",
          "data": {
            "text/plain": [
              "<Figure size 640x480 with 1 Axes>"
            ],
            "image/png": "[encoded data removed]"
          },
          "metadata": {}
        }
      ]
    },
    {
      "cell_type": "code",
      "source": [
        "predictions, true_values = get_predictions(model, test_loader_taranaki, device)"
      ],
      "metadata": {
        "id": "GQPmdLLn1JhX"
      },
      "execution_count": null,
      "outputs": []
    },
    {
      "cell_type": "code",
      "source": [
        "mae = mean_absolute_error(true_values, predictions)\n",
        "mape = mean_absolute_percentage_error(true_values, predictions)\n",
        "rmse = root_mean_squared_error(true_values, predictions)\n",
        "r2 = r2_score(true_values, predictions)"
      ],
      "metadata": {
        "id": "kuRKOYRo1Mt8"
      },
      "execution_count": null,
      "outputs": []
    },
    {
      "cell_type": "code",
      "source": [
        "print(f\"MAE: {mae}\",\n",
        "      f\"MAPE: {mape}\",\n",
        "      f\"RMSE: {rmse}\",\n",
        "      f\"R2: {r2}\", sep = '\\n')"
      ],
      "metadata": {
        "colab": {
          "base_uri": "https://localhost:8080/"
        },
        "id": "ixBnnSIr-Sdu",
        "outputId": "7860d34a-2b92-4d61-c3b7-1986a66d5ced"
      },
      "execution_count": null,
      "outputs": [
        {
          "output_type": "stream",
          "name": "stdout",
          "text": [
            "MAE: 0.04707570907330566\n",
            "MAPE: 0.5321264829848176\n",
            "RMSE: 0.06226832865494169\n",
            "R2: 0.6295533432398516\n"
          ]
        }
      ]
    },
    {
      "cell_type": "code",
      "source": [
        "plt.figure(figsize=(6,5))\n",
        "plt.plot(true_values, label=\"true\")\n",
        "plt.plot(predictions, 'r', label=\"prediction\")\n",
        "plt.title('Прогноз модели с переносом знаний для каротажа NPHI на месторождении Taranaki')\n",
        "plt.ylabel('Значение')\n",
        "plt.xlabel('Временной шаг')\n",
        "plt.legend()\n",
        "plt.show()"
      ],
      "metadata": {
        "id": "BsfSvYKc1Mz9",
        "colab": {
          "base_uri": "https://localhost:8080/",
          "height": 487
        },
        "outputId": "ac6f24a2-b24c-4832-ff96-fb9dadea978a"
      },
      "execution_count": null,
      "outputs": [
        {
          "output_type": "display_data",
          "data": {
            "text/plain": [
              "<Figure size 600x500 with 1 Axes>"
            ],
            "image/png": "[encoded data removed]"
          },
          "metadata": {}
        }
      ]
    },
    {
      "cell_type": "code",
      "source": [
        "np.save('trans_pred_1.npy', predictions)"
      ],
      "metadata": {
        "id": "VsMOlRPQ1O09"
      },
      "execution_count": null,
      "outputs": []
    },
    {
      "cell_type": "code",
      "source": [
        "for i in range(9):\n",
        "    print(f\"\\nTraining iteration {i + 1}/9\")\n",
        "\n",
        "    # Создаем новую модель и оптимизатор для каждой итерации\n",
        "    model = torch.load('model_kansas_2.pth', weights_only=False)\n",
        "\n",
        "    for name, param in model.named_parameters():\n",
        "        if 'conv' in name or 'bn' in name:\n",
        "            param.requires_grad = False\n",
        "\n",
        "    for param in model.conv4.parameters():\n",
        "        param.requires_grad = True\n",
        "\n",
        "    for param in model.bn4.parameters():\n",
        "        param.requires_grad = True\n",
        "\n",
        "    optimizer = optim.Adam(model.parameters(), lr=0.00002)\n",
        "    criterion = nn.MSELoss()\n",
        "\n",
        "    # Обучаем модель\n",
        "    train_losses, val_losses = train(model, train_loader_taranaki, val_loader_taranaki, optimizer, criterion, num_epochs=50)\n",
        "\n",
        "    # Получаем предсказания на тестовом наборе\n",
        "    predictions, _ = get_predictions(model, test_loader_taranaki, device)\n",
        "\n",
        "    # Сохраняем предсказания текущей итерации\n",
        "    np.save(f'trans_pred_{i + 2}.npy', predictions)"
      ],
      "metadata": {
        "id": "qlIxM4lR03V7"
      },
      "execution_count": null,
      "outputs": []
    }
  ]
}