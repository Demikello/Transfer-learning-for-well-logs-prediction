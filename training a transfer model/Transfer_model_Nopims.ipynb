{
  "nbformat": 4,
  "nbformat_minor": 0,
  "metadata": {
    "colab": {
      "provenance": [],
      "gpuType": "T4"
    },
    "kernelspec": {
      "name": "python3",
      "display_name": "Python 3"
    },
    "language_info": {
      "name": "python"
    },
    "accelerator": "GPU"
  },
  "cells": [
    {
      "cell_type": "code",
      "execution_count": null,
      "metadata": {
        "id": "HYFz-SnN9pbf",
        "colab": {
          "base_uri": "https://localhost:8080/"
        },
        "outputId": "9e5cbb0a-fb7b-4073-9e86-d274223b2426"
      },
      "outputs": [
        {
          "output_type": "stream",
          "name": "stdout",
          "text": [
            "Collecting optuna\n",
            "  Downloading optuna-4.3.0-py3-none-any.whl.metadata (17 kB)\n",
            "Collecting alembic>=1.5.0 (from optuna)\n",
            "  Downloading alembic-1.15.2-py3-none-any.whl.metadata (7.3 kB)\n",
            "Collecting colorlog (from optuna)\n",
            "  Downloading colorlog-6.9.0-py3-none-any.whl.metadata (10 kB)\n",
            "Requirement already satisfied: numpy in /usr/local/lib/python3.11/dist-packages (from optuna) (2.0.2)\n",
            "Requirement already satisfied: packaging>=20.0 in /usr/local/lib/python3.11/dist-packages (from optuna) (24.2)\n",
            "Requirement already satisfied: sqlalchemy>=1.4.2 in /usr/local/lib/python3.11/dist-packages (from optuna) (2.0.40)\n",
            "Requirement already satisfied: tqdm in /usr/local/lib/python3.11/dist-packages (from optuna) (4.67.1)\n",
            "Requirement already satisfied: PyYAML in /usr/local/lib/python3.11/dist-packages (from optuna) (6.0.2)\n",
            "Requirement already satisfied: Mako in /usr/lib/python3/dist-packages (from alembic>=1.5.0->optuna) (1.1.3)\n",
            "Requirement already satisfied: typing-extensions>=4.12 in /usr/local/lib/python3.11/dist-packages (from alembic>=1.5.0->optuna) (4.13.2)\n",
            "Requirement already satisfied: greenlet>=1 in /usr/local/lib/python3.11/dist-packages (from sqlalchemy>=1.4.2->optuna) (3.2.1)\n",
            "Downloading optuna-4.3.0-py3-none-any.whl (386 kB)\n",
            "\u001b[2K   \u001b[90m━━━━━━━━━━━━━━━━━━━━━━━━━━━━━━━━━━━━━━━━\u001b[0m \u001b[32m386.6/386.6 kB\u001b[0m \u001b[31m16.8 MB/s\u001b[0m eta \u001b[36m0:00:00\u001b[0m\n",
            "\u001b[?25hDownloading alembic-1.15.2-py3-none-any.whl (231 kB)\n",
            "\u001b[2K   \u001b[90m━━━━━━━━━━━━━━━━━━━━━━━━━━━━━━━━━━━━━━━━\u001b[0m \u001b[32m231.9/231.9 kB\u001b[0m \u001b[31m10.9 MB/s\u001b[0m eta \u001b[36m0:00:00\u001b[0m\n",
            "\u001b[?25hDownloading colorlog-6.9.0-py3-none-any.whl (11 kB)\n",
            "Installing collected packages: colorlog, alembic, optuna\n",
            "Successfully installed alembic-1.15.2 colorlog-6.9.0 optuna-4.3.0\n"
          ]
        }
      ],
      "source": [
        "!pip install optuna"
      ]
    },
    {
      "cell_type": "code",
      "source": [
        "import torch\n",
        "import torch.nn as nn\n",
        "import torch.nn.functional as F\n",
        "import torch.optim as optim\n",
        "from torch.utils.data import DataLoader, TensorDataset\n",
        "import pandas as pd\n",
        "from sklearn.metrics import r2_score\n",
        "from sklearn.preprocessing import MinMaxScaler\n",
        "import random as rd\n",
        "import numpy as np\n",
        "import optuna\n",
        "import matplotlib.pyplot as plt\n",
        "from google.colab import drive\n",
        "from sklearn.metrics import mean_absolute_error\n",
        "from sklearn.metrics import root_mean_squared_error\n",
        "from sklearn.metrics import mean_absolute_percentage_error\n",
        "from sklearn.metrics import r2_score"
      ],
      "metadata": {
        "id": "mLct0ukHC9vu"
      },
      "execution_count": null,
      "outputs": []
    },
    {
      "cell_type": "code",
      "source": [
        "drive.mount('/content/drive')"
      ],
      "metadata": {
        "id": "9HjJmsmJC91S",
        "colab": {
          "base_uri": "https://localhost:8080/"
        },
        "outputId": "b4055614-144f-4328-cbf0-2aa67b89f3bc"
      },
      "execution_count": null,
      "outputs": [
        {
          "output_type": "stream",
          "name": "stdout",
          "text": [
            "Mounted at /content/drive\n"
          ]
        }
      ]
    },
    {
      "cell_type": "code",
      "source": [
        "df_taranaki = pd.read_csv('/content/drive/MyDrive/Taranaki_PEF_clear.csv')\n",
        "df_nopims = pd.read_csv('/content/drive/MyDrive/NOPIMS_clear.csv')"
      ],
      "metadata": {
        "id": "fr3WGfqKDBFM"
      },
      "execution_count": null,
      "outputs": []
    },
    {
      "cell_type": "code",
      "source": [
        "df_taranaki = df_taranaki.rename(columns={'WELLNAME': 'UWI', 'DENS': 'RHOB'})"
      ],
      "metadata": {
        "id": "eTqQEwTqDBH0"
      },
      "execution_count": null,
      "outputs": []
    },
    {
      "cell_type": "code",
      "source": [
        "df_taranaki.set_index(['UWI', 'DEPT'], inplace = True)\n",
        "df_nopims.set_index(['UWI', 'DEPT'], inplace = True)"
      ],
      "metadata": {
        "id": "XqunQP4MC92l"
      },
      "execution_count": null,
      "outputs": []
    },
    {
      "cell_type": "code",
      "source": [
        "df_taranaki = df_taranaki[['RHOB', 'DRHO', 'GR', 'PEF']]\n",
        "df_nopims = df_nopims[['RHOB', 'DRHO', 'GR', 'PEF']]"
      ],
      "metadata": {
        "id": "1Hc13ZV1DEv8"
      },
      "execution_count": null,
      "outputs": []
    },
    {
      "cell_type": "code",
      "source": [
        "print(f'Количество скважин Taranaki = {df_taranaki.index.get_level_values(0).nunique()}')\n",
        "print(f'Количество скважин Nopims = {df_nopims.index.get_level_values(0).nunique()}')"
      ],
      "metadata": {
        "id": "Q82ZbQd0DEy0",
        "colab": {
          "base_uri": "https://localhost:8080/"
        },
        "outputId": "726d116c-d550-4273-f290-b95311099697"
      },
      "execution_count": null,
      "outputs": [
        {
          "output_type": "stream",
          "name": "stdout",
          "text": [
            "Количество скважин Taranaki = 115\n",
            "Количество скважин Nopims = 20\n"
          ]
        }
      ]
    },
    {
      "cell_type": "code",
      "source": [
        "X_taranaki = df_taranaki.drop(['PEF'], axis = 1)\n",
        "y_taranaki = df_taranaki['PEF']\n",
        "\n",
        "X_nopims = df_nopims.drop(['PEF'], axis = 1)\n",
        "y_nopims = df_nopims['PEF']"
      ],
      "metadata": {
        "id": "muHXKzZ7C93x"
      },
      "execution_count": null,
      "outputs": []
    },
    {
      "cell_type": "code",
      "source": [
        "df_X = pd.concat([X_taranaki, X_nopims])\n",
        "df_y = pd.concat([y_taranaki, y_nopims])"
      ],
      "metadata": {
        "id": "ENtEQHtkFDL3"
      },
      "execution_count": null,
      "outputs": []
    },
    {
      "cell_type": "code",
      "source": [
        "X = df_X.reset_index()\n",
        "y = df_y.reset_index()\n",
        "\n",
        "scaler_X = MinMaxScaler()\n",
        "scaler_y = MinMaxScaler()\n",
        "\n",
        "normalized_values_X = scaler_X.fit_transform(X[['RHOB', 'DRHO', 'GR']])\n",
        "normalized_values_y = scaler_y.fit_transform(y[['PEF']])\n",
        "\n",
        "X[['RHOB', 'DRHO', 'GR']] = normalized_values_X\n",
        "y[['PEF']] = normalized_values_y\n",
        "\n",
        "X_scaled = X.set_index(['UWI', 'DEPT'])\n",
        "y_scaled = y.set_index(['UWI', 'DEPT'])"
      ],
      "metadata": {
        "id": "AH3PnjLcFDOg"
      },
      "execution_count": null,
      "outputs": []
    },
    {
      "cell_type": "code",
      "source": [
        "X_taranaki = X_scaled.loc[X_taranaki.index.get_level_values(0).unique()]\n",
        "y_taranaki = y_scaled.loc[y_taranaki.index.get_level_values(0).unique()]\n",
        "\n",
        "X_nopims = X_scaled.loc[X_nopims.index.get_level_values(0).unique()]\n",
        "y_nopims = y_scaled.loc[y_nopims.index.get_level_values(0).unique()]"
      ],
      "metadata": {
        "id": "1EvyfS2qFGJv"
      },
      "execution_count": null,
      "outputs": []
    },
    {
      "cell_type": "code",
      "source": [
        "train_part_size = 0.7\n",
        "\n",
        "rd.seed(16)\n",
        "train_wells_taranaki = rd.sample(\n",
        "    X_taranaki.index.get_level_values(0).unique().tolist(),\n",
        "    round(len(X_taranaki.index.get_level_values(0).unique()) * train_part_size),\n",
        ")\n",
        "\n",
        "val_wells_taranaki = list(set(X_taranaki.index.get_level_values(0).unique().tolist()) - set(train_wells_taranaki))\n",
        "val_wells_taranaki = sorted(val_wells_taranaki)\n",
        "rd.shuffle(val_wells_taranaki)"
      ],
      "metadata": {
        "id": "wUE6tf6_FGML"
      },
      "execution_count": null,
      "outputs": []
    },
    {
      "cell_type": "code",
      "source": [
        "rd.seed(12)\n",
        "train_wells_nopims = rd.sample(\n",
        "    X_nopims.index.get_level_values(0).unique().tolist(),\n",
        "    round(len(X_nopims.index.get_level_values(0).unique()) * train_part_size),\n",
        ")\n",
        "\n",
        "val_test_wells_nopims = list(set(X_nopims.index.get_level_values(0).unique().tolist()) - set(train_wells_nopims))\n",
        "val_test_wells_nopims = sorted(val_test_wells_nopims)\n",
        "rd.shuffle(val_test_wells_nopims)\n",
        "\n",
        "rd.seed(12)\n",
        "val_wells_nopims = rd.sample(\n",
        "    val_test_wells_nopims,\n",
        "    round(len(val_test_wells_nopims) * 0.5),)\n",
        "\n",
        "test_wells_nopims = list(set(val_test_wells_nopims) - set(val_wells_nopims))\n",
        "test_wells_nopims = sorted(test_wells_nopims)\n",
        "rd.shuffle(test_wells_nopims)"
      ],
      "metadata": {
        "id": "zDyBFVM3FGOT"
      },
      "execution_count": null,
      "outputs": []
    },
    {
      "cell_type": "code",
      "source": [
        "train_X_taranaki = X_taranaki.loc[train_wells_taranaki]\n",
        "train_y_taranaki = y_taranaki.loc[train_wells_taranaki]\n",
        "\n",
        "val_X_taranaki = X_taranaki.loc[val_wells_taranaki]\n",
        "val_y_taranaki = y_taranaki.loc[val_wells_taranaki]"
      ],
      "metadata": {
        "id": "q8FOWYcDFMiI"
      },
      "execution_count": null,
      "outputs": []
    },
    {
      "cell_type": "code",
      "source": [
        "train_X_nopims = X_nopims.loc[train_wells_nopims]\n",
        "train_y_nopims = y_nopims.loc[train_wells_nopims]\n",
        "\n",
        "val_X_nopims = X_nopims.loc[val_wells_nopims]\n",
        "val_y_nopims = y_nopims.loc[val_wells_nopims]\n",
        "\n",
        "test_X_nopims = X_nopims.loc[test_wells_nopims]\n",
        "test_y_nopims = y_nopims.loc[test_wells_nopims]"
      ],
      "metadata": {
        "id": "kxjPSYZfFN-o"
      },
      "execution_count": null,
      "outputs": []
    },
    {
      "cell_type": "code",
      "source": [
        "def gen_data_per_well(features, target, time_steps=50):\n",
        "    Xs, ys = [], []\n",
        "\n",
        "    # Перебираем уникальные значения скважин\n",
        "    for well_name in features.index.get_level_values('UWI').unique():\n",
        "        # Получаем данные для текущей скважины\n",
        "        well_features = features.xs(well_name, level='UWI')\n",
        "        well_target = target.xs(well_name, level='UWI')\n",
        "\n",
        "        # Генерируем X и y для текущей скважины\n",
        "        for i in range(len(well_features) - time_steps):\n",
        "            Xs.append(well_features.iloc[i:i + time_steps].values)\n",
        "            ys.append(well_target.iloc[i + time_steps - 1])\n",
        "\n",
        "    return np.array(Xs), np.array(ys)"
      ],
      "metadata": {
        "id": "hQhwN-VKFOBO"
      },
      "execution_count": null,
      "outputs": []
    },
    {
      "cell_type": "code",
      "source": [
        "train_X_taranaki, train_y_taranaki = gen_data_per_well(train_X_taranaki, train_y_taranaki)\n",
        "val_X_taranaki, val_y_taranaki = gen_data_per_well(val_X_taranaki, val_y_taranaki)"
      ],
      "metadata": {
        "id": "ghrENx0kFODY"
      },
      "execution_count": null,
      "outputs": []
    },
    {
      "cell_type": "code",
      "source": [
        "train_X_nopims, train_y_nopims = gen_data_per_well(train_X_nopims, train_y_nopims)\n",
        "val_X_nopims, val_y_nopims = gen_data_per_well(val_X_nopims, val_y_nopims)\n",
        "test_X_nopims, test_y_nopims = gen_data_per_well(test_X_nopims, test_y_nopims)"
      ],
      "metadata": {
        "id": "m1SKh6VpFWLi"
      },
      "execution_count": null,
      "outputs": []
    },
    {
      "cell_type": "code",
      "source": [
        "train_X_taranaki_tensor = torch.tensor(train_X_taranaki, dtype=torch.float32)\n",
        "train_y_taranaki_tensor = torch.tensor(train_y_taranaki, dtype=torch.float32)\n",
        "\n",
        "val_X_taranaki_tensor = torch.tensor(val_X_taranaki, dtype=torch.float32)\n",
        "val_y_taranaki_tensor = torch.tensor(val_y_taranaki, dtype=torch.float32)"
      ],
      "metadata": {
        "id": "6JXkhMAMFWOd"
      },
      "execution_count": null,
      "outputs": []
    },
    {
      "cell_type": "code",
      "source": [
        "train_X_nopims_tensor = torch.tensor(train_X_nopims, dtype=torch.float32)\n",
        "train_y_nopims_tensor = torch.tensor(train_y_nopims, dtype=torch.float32)\n",
        "\n",
        "val_X_nopims_tensor = torch.tensor(val_X_nopims, dtype=torch.float32)\n",
        "val_y_nopims_tensor = torch.tensor(val_y_nopims, dtype=torch.float32)\n",
        "\n",
        "test_X_nopims_tensor = torch.tensor(test_X_nopims, dtype=torch.float32)\n",
        "test_y_nopims_tensor = torch.tensor(test_y_nopims, dtype=torch.float32)"
      ],
      "metadata": {
        "id": "Z-y7ypK8FWSY"
      },
      "execution_count": null,
      "outputs": []
    },
    {
      "cell_type": "code",
      "source": [
        "# Создание TensorDataset\n",
        "train_dataset_taranaki = TensorDataset(train_X_taranaki_tensor, train_y_taranaki_tensor)\n",
        "val_dataset_taranaki = TensorDataset(val_X_taranaki_tensor, val_y_taranaki_tensor)\n",
        "\n",
        "# Создание DataLoader\n",
        "train_loader_taranaki = DataLoader(train_dataset_taranaki, batch_size=128, shuffle=True)\n",
        "val_loader_taranaki = DataLoader(val_dataset_taranaki, batch_size=128, shuffle=False)"
      ],
      "metadata": {
        "id": "JEmHa1d6FGQ7"
      },
      "execution_count": null,
      "outputs": []
    },
    {
      "cell_type": "code",
      "source": [
        "# Создание TensorDataset\n",
        "train_dataset_nopims = TensorDataset(train_X_nopims_tensor, train_y_nopims_tensor)\n",
        "val_dataset_nopims = TensorDataset(val_X_nopims_tensor, val_y_nopims_tensor)\n",
        "test_dataset_nopims = TensorDataset(test_X_nopims_tensor, test_y_nopims_tensor)\n",
        "\n",
        "# Создание DataLoader\n",
        "train_loader_nopims = DataLoader(train_dataset_nopims, batch_size=64, shuffle=True)\n",
        "val_loader_nopims = DataLoader(val_dataset_nopims, batch_size=64, shuffle=False)\n",
        "test_loader_nopims = DataLoader(test_dataset_nopims, batch_size=64, shuffle=False)"
      ],
      "metadata": {
        "id": "HDsGZ2gfFqV6"
      },
      "execution_count": null,
      "outputs": []
    },
    {
      "cell_type": "code",
      "source": [
        "class MyModel(nn.Module):\n",
        "    def __init__(self):\n",
        "        super(MyModel, self).__init__()\n",
        "        self.conv1 = nn.Conv1d(in_channels=3, out_channels=256, kernel_size=3, padding='same')\n",
        "        self.bn1 = nn.BatchNorm1d(256)\n",
        "        self.pool1 = nn.MaxPool1d(kernel_size=2)\n",
        "\n",
        "        self.conv2 = nn.Conv1d(in_channels=256, out_channels=256, kernel_size=5, padding='same')\n",
        "        self.bn2 = nn.BatchNorm1d(256)\n",
        "        self.pool2 = nn.MaxPool1d(kernel_size=2)\n",
        "\n",
        "        self.conv3 = nn.Conv1d(in_channels=256, out_channels=256, kernel_size=2, padding='same')\n",
        "        self.bn3 = nn.BatchNorm1d(256)\n",
        "        self.pool3 = nn.MaxPool1d(kernel_size=2)\n",
        "\n",
        "        self.lstm1 = nn.LSTM(input_size=256, hidden_size=128, batch_first=True)\n",
        "        self.dropout1 = nn.Dropout(0.267619)\n",
        "\n",
        "        self.fc = nn.Linear(128, 1)\n",
        "\n",
        "    def forward(self, x):\n",
        "        x = x.permute(0, 2, 1)  # Теперь x имеет форму (batch_size, features_dim, time_steps)\n",
        "        x = self.conv1(x)\n",
        "        x = self.bn1(x)\n",
        "        x = nn.ReLU()(x)\n",
        "        x = self.pool1(x)\n",
        "\n",
        "        x = self.conv2(x)\n",
        "        x = self.bn2(x)\n",
        "        x = nn.ReLU()(x)\n",
        "        x = self.pool2(x)\n",
        "\n",
        "        x = self.conv3(x)\n",
        "        x = self.bn3(x)\n",
        "        x = nn.ReLU()(x)\n",
        "        x = self.pool3(x)\n",
        "\n",
        "        # Сначала нужно изменить размерность для LSTM\n",
        "        x = x.transpose(1, 2)  # Меняем местами размерности (batch_size, num_channels, sequence_length) -> (batch_size, sequence_length, num_channels)\n",
        "\n",
        "        x, _ = self.lstm1(x)\n",
        "        x = self.dropout1(x)\n",
        "\n",
        "        # Берем только последний выход LSTM\n",
        "        x = x[:, -1, :]  # (batch_size, hidden_size)\n",
        "\n",
        "        x = self.fc(x)\n",
        "\n",
        "        return x"
      ],
      "metadata": {
        "id": "7DBojDUWFqYs"
      },
      "execution_count": null,
      "outputs": []
    },
    {
      "cell_type": "code",
      "source": [
        "device = torch.device(\"cuda\" if torch.cuda.is_available() else \"cpu\")"
      ],
      "metadata": {
        "id": "_lkVi3dVGTlz"
      },
      "execution_count": null,
      "outputs": []
    },
    {
      "cell_type": "code",
      "source": [
        "def train(model, train_loader, val_loader, optimizer, criterion, num_epochs, patience=4, lr_reduce_factor=0.5):\n",
        "    model.to(device)  # Перемещаем модель на GPU\n",
        "\n",
        "    best_val_loss = float('inf')  # Наименьшая валидационная потеря\n",
        "    epochs_without_improvement = 0  # Счетчик эпох без улучшения\n",
        "    best_weights = None  # Переменная для хранения лучших весов\n",
        "\n",
        "    train_losses = []\n",
        "    val_losses = []\n",
        "\n",
        "    for epoch in range(num_epochs):\n",
        "        model.train()  # В режим тренировки\n",
        "        train_loss = 0.0\n",
        "\n",
        "        for inputs, targets in train_loader:\n",
        "            inputs, targets = inputs.to(device), targets.to(device)  # Перемещаем данные на GPU\n",
        "            optimizer.zero_grad()  # Обнуляем градиенты\n",
        "            outputs = model(inputs)  # Прямой проход\n",
        "            loss = criterion(outputs, targets)  # Вычисление потерь\n",
        "            loss.backward()  # Обратный проход\n",
        "            optimizer.step()  # Обновление весов\n",
        "\n",
        "            train_loss += loss.item()  # Суммируем потери для тренировки\n",
        "\n",
        "        train_loss /= len(train_loader)  # Среднее значение по всем батчам\n",
        "        train_losses.append(train_loss)\n",
        "\n",
        "        # Валидация\n",
        "        model.eval()  # В режим валидации\n",
        "        val_loss = 0.0\n",
        "        with torch.no_grad():  # Отключаем градиенты\n",
        "            for inputs, targets in val_loader:\n",
        "                inputs, targets = inputs.to(device), targets.to(device)  # Перемещаем данные на GPU\n",
        "                outputs = model(inputs)\n",
        "                loss = criterion(outputs, targets)\n",
        "                val_loss += loss.item()\n",
        "\n",
        "        val_loss /= len(val_loader)  # Среднее значение по всем батчам\n",
        "        val_losses.append(val_loss)\n",
        "\n",
        "        # Если текущая валидационная потеря лучше, сохраняем веса\n",
        "        if val_loss < best_val_loss:\n",
        "            best_val_loss = val_loss\n",
        "            best_weights = model.state_dict()  # Сохраняем лучшие веса\n",
        "            epochs_without_improvement = 0  # Сбрасываем счетчик\n",
        "        else:\n",
        "            epochs_without_improvement += 1  # Увеличиваем счетчик без улучшений\n",
        "\n",
        "        # Изменяем скорость обучения, если не было улучшения\n",
        "        if epochs_without_improvement > 0 and epochs_without_improvement % 2 == 0:\n",
        "            for param_group in optimizer.param_groups:\n",
        "                param_group['lr'] *= lr_reduce_factor  # Уменьшаем lr в 2 раза\n",
        "\n",
        "        print(f'Epoch {epoch + 1}/{num_epochs}, Train Loss: {train_loss:.4f}, Val Loss: {val_loss:.4f}')\n",
        "\n",
        "        # Проверяем, нужно ли остановить обучение\n",
        "        if epochs_without_improvement >= patience:\n",
        "            print(f'Stopping early at epoch {epoch + 1}. Best Val Loss: {best_val_loss:.4f}')\n",
        "            break\n",
        "\n",
        "    # Восстанавливаем лучшие веса\n",
        "    if best_weights is not None:\n",
        "        model.load_state_dict(best_weights)\n",
        "        print(\"Loaded best weights.\")\n",
        "\n",
        "    return train_losses, val_losses"
      ],
      "metadata": {
        "id": "UrFNVMP_GTol"
      },
      "execution_count": null,
      "outputs": []
    },
    {
      "cell_type": "code",
      "source": [
        "def get_predictions(model, test_loader, device):\n",
        "    model.eval()\n",
        "    predictions = []\n",
        "    true_values = []\n",
        "    with torch.no_grad():\n",
        "        for batch_X, batch_y in test_loader:\n",
        "            batch_X = batch_X.to(device)\n",
        "            outputs = model(batch_X)\n",
        "            predictions.append(outputs.cpu().numpy())\n",
        "            true_values.append(batch_y.cpu().numpy())\n",
        "    predictions = np.concatenate(predictions)\n",
        "    true_values = np.concatenate(true_values)\n",
        "    return predictions, true_values"
      ],
      "metadata": {
        "id": "NZ4Mvrb_FqbC"
      },
      "execution_count": null,
      "outputs": []
    },
    {
      "cell_type": "code",
      "source": [
        "def objective(trial):\n",
        "    # Для каждой итерации вы будете брать значение скорости обучения из Optuna\n",
        "    lr = trial.suggest_loguniform('lr', 1e-6, 1e-4)  # Определите диапазон для lr\n",
        "\n",
        "    model = MyModel()\n",
        "\n",
        "    optimizer = optim.Adam(model.parameters(), lr=lr)\n",
        "    criterion = nn.MSELoss()\n",
        "\n",
        "    # Обучаем модель\n",
        "    train_losses, val_losses = train(model, train_loader_taranaki, val_loader_taranaki, optimizer, criterion, num_epochs=50)\n",
        "\n",
        "    predictions, true_values = get_predictions(model, val_loader_taranaki, device)\n",
        "\n",
        "    r2 = r2_score(true_values, predictions)\n",
        "\n",
        "    return r2\n",
        "\n",
        "study = optuna.create_study(direction='maximize')\n",
        "study.optimize(objective, n_trials=50)"
      ],
      "metadata": {
        "id": "WmxpU0KwGZ4b"
      },
      "execution_count": null,
      "outputs": []
    },
    {
      "cell_type": "code",
      "source": [
        "print(\"Лучшие гиперпараметры:\", study.best_params)\n",
        "print(\"Лучшее значение R^2:\", study.best_value)"
      ],
      "metadata": {
        "id": "4vZI-XA2GZ7N"
      },
      "execution_count": null,
      "outputs": []
    },
    {
      "cell_type": "code",
      "source": [
        "model = MyModel()\n",
        "optimizer = optim.Adam(model.parameters(), lr=0.00002)\n",
        "criterion = nn.MSELoss()"
      ],
      "metadata": {
        "id": "E2HYSsAlGlfS"
      },
      "execution_count": null,
      "outputs": []
    },
    {
      "cell_type": "code",
      "source": [
        "train_losses, val_losses = train(model, train_loader_taranaki, val_loader_taranaki, optimizer, criterion, num_epochs=50)"
      ],
      "metadata": {
        "id": "CYNIrecOGlh0",
        "colab": {
          "base_uri": "https://localhost:8080/"
        },
        "outputId": "56606689-7e49-42ed-ee01-37f5ea8e42df"
      },
      "execution_count": null,
      "outputs": [
        {
          "output_type": "stream",
          "name": "stdout",
          "text": [
            "Epoch 1/50, Train Loss: 0.0004, Val Loss: 0.0002\n",
            "Epoch 2/50, Train Loss: 0.0001, Val Loss: 0.0002\n",
            "Epoch 3/50, Train Loss: 0.0001, Val Loss: 0.0002\n",
            "Epoch 4/50, Train Loss: 0.0001, Val Loss: 0.0002\n",
            "Epoch 5/50, Train Loss: 0.0001, Val Loss: 0.0002\n",
            "Epoch 6/50, Train Loss: 0.0001, Val Loss: 0.0002\n",
            "Epoch 7/50, Train Loss: 0.0001, Val Loss: 0.0002\n",
            "Epoch 8/50, Train Loss: 0.0001, Val Loss: 0.0002\n",
            "Stopping early at epoch 8. Best Val Loss: 0.0002\n",
            "Loaded best weights.\n"
          ]
        }
      ]
    },
    {
      "cell_type": "code",
      "source": [
        "plt.plot(train_losses, label='Потери на тренировке')\n",
        "plt.plot(val_losses, label='Потери на валидации')\n",
        "plt.title('Обучение')\n",
        "plt.xlabel('Эпоха')\n",
        "plt.ylabel('Потери')\n",
        "plt.legend()"
      ],
      "metadata": {
        "id": "f3PfmhjIGllH",
        "colab": {
          "base_uri": "https://localhost:8080/",
          "height": 490
        },
        "outputId": "0bfa730f-f93e-44de-eaf4-8dbf6eade55d"
      },
      "execution_count": null,
      "outputs": [
        {
          "output_type": "execute_result",
          "data": {
            "text/plain": [
              "<matplotlib.legend.Legend at 0x7c820980c8d0>"
            ]
          },
          "metadata": {},
          "execution_count": 34
        },
        {
          "output_type": "display_data",
          "data": {
            "text/plain": [
              "<Figure size 640x480 with 1 Axes>"
            ],
            "image/png": "[encoded data removed]"
          },
          "metadata": {}
        }
      ]
    },
    {
      "cell_type": "code",
      "source": [
        "torch.save(model, 'model_taranaki.pth')"
      ],
      "metadata": {
        "id": "zpI79FRDGloJ"
      },
      "execution_count": null,
      "outputs": []
    },
    {
      "cell_type": "code",
      "source": [
        "pretrained_model = torch.load('model_taranaki.pth', weights_only=False)"
      ],
      "metadata": {
        "id": "OW43KHNJGlqT"
      },
      "execution_count": null,
      "outputs": []
    },
    {
      "cell_type": "code",
      "source": [
        "class MyModel_2(nn.Module):\n",
        "    def __init__(self):\n",
        "        super(MyModel_2, self).__init__()\n",
        "        self.conv1 = nn.Conv1d(in_channels=3, out_channels=256, kernel_size=3, padding='same')\n",
        "        self.bn1 = nn.BatchNorm1d(256)\n",
        "        self.pool1 = nn.MaxPool1d(kernel_size=2)\n",
        "\n",
        "        self.conv2 = nn.Conv1d(in_channels=256, out_channels=256, kernel_size=5, padding='same')\n",
        "        self.bn2 = nn.BatchNorm1d(256)\n",
        "        self.pool2 = nn.MaxPool1d(kernel_size=2)\n",
        "\n",
        "        self.conv3 = nn.Conv1d(in_channels=256, out_channels=256, kernel_size=2, padding='same')\n",
        "        self.bn3 = nn.BatchNorm1d(256)\n",
        "        self.pool3 = nn.MaxPool1d(kernel_size=2)\n",
        "\n",
        "        self.lstm1 = nn.LSTM(input_size=256, hidden_size=128, batch_first=True)\n",
        "        self.dropout1 = nn.Dropout(0.267619)\n",
        "\n",
        "    def forward(self, x):\n",
        "        x = x.permute(0, 2, 1)  # Теперь x имеет форму (batch_size, features_dim, time_steps)\n",
        "        x = self.conv1(x)\n",
        "        x = self.bn1(x)\n",
        "        x = nn.ReLU()(x)\n",
        "        x = self.pool1(x)\n",
        "\n",
        "        x = self.conv2(x)\n",
        "        x = self.bn2(x)\n",
        "        x = nn.ReLU()(x)\n",
        "        x = self.pool2(x)\n",
        "\n",
        "        x = self.conv3(x)\n",
        "        x = self.bn3(x)\n",
        "        x = nn.ReLU()(x)\n",
        "        x = self.pool3(x)\n",
        "\n",
        "        # Сначала нужно изменить размерность для LSTM\n",
        "        x = x.transpose(1, 2)  # Меняем местами размерности (batch_size, num_channels, sequence_length) -> (batch_size, sequence_length, num_channels)\n",
        "\n",
        "        x, _ = self.lstm1(x)\n",
        "        x = self.dropout1(x)\n",
        "\n",
        "        return x[:, -1, :]\n",
        "\n",
        "# Определение нового класса FeatureExtractor\n",
        "class FeatureExtractor(nn.Module):\n",
        "    def __init__(self, pretrained_model):\n",
        "        super(FeatureExtractor, self).__init__()\n",
        "        self.pretrained_model = pretrained_model\n",
        "\n",
        "        # Замораживаем слои предобученной модели\n",
        "        for param in self.pretrained_model.parameters():\n",
        "            param.requires_grad = False\n",
        "\n",
        "        # Новый LSTM слой перед полносвязными слоями\n",
        "        self.lstm2 = nn.LSTM(input_size=128, hidden_size=128, batch_first=True)\n",
        "        self.dropout2 = nn.Dropout(p=0.3346)  # Dropout слой для регуляризации\n",
        "\n",
        "        self.lstm3 = nn.LSTM(input_size=128, hidden_size=32, batch_first=True)\n",
        "        self.dropout3 = nn.Dropout(p=0.0891)  # Dropout слой для регуляризации\n",
        "\n",
        "        # Добавление своих полносвязных слоев\n",
        "        self.fc1 = nn.Linear(32, 64)     # Первый полносвязный слой\n",
        "        self.dropout4 = nn.Dropout(p=0.0979)  # Dropout для регуляризации\n",
        "        self.fc2 = nn.Linear(64, 64)     # Второй полносвязный слой\n",
        "        self.dropout5 = nn.Dropout(p=0.0526)  # Второй Dropout\n",
        "        self.fc3 = nn.Linear(64, 1)      # Финальный выходной слой\n",
        "\n",
        "    def forward(self, x):\n",
        "        # Извлечение признаков из предобученной модели\n",
        "        features = self.pretrained_model(x)\n",
        "\n",
        "        # Применение нового LSTM слоя к извлеченным признакам\n",
        "        features = features.unsqueeze(1)  # Добавление размерности для LSTM\n",
        "        lstm_output, _ = self.lstm2(features)\n",
        "        lstm_output = self.dropout2(lstm_output)\n",
        "\n",
        "        lstm_output, _ = self.lstm3(lstm_output)\n",
        "        lstm_output = self.dropout3(lstm_output)\n",
        "\n",
        "        # Берем только последний выход LSTM\n",
        "        lstm_output = lstm_output[:, -1, :]  # (batch_size, hidden_size)\n",
        "\n",
        "        # Применяем свои полносвязные слои с Dropout и активацией\n",
        "        x = self.fc1(lstm_output)\n",
        "        x = nn.ReLU()(x)\n",
        "        x = self.dropout4(x)\n",
        "\n",
        "        x = self.fc2(x)\n",
        "        x = nn.ReLU()(x)\n",
        "        x = self.dropout5(x)\n",
        "\n",
        "        output = self.fc3(x)\n",
        "        return output\n",
        "\n",
        "# Загрузка подготовленной модели\n",
        "pretrained_model_path = 'model_taranaki.pth'\n",
        "pretrained_model = MyModel_2()\n",
        "\n",
        "# Загрузка весов\n",
        "pretrained_weights = torch.load(pretrained_model_path, weights_only=False)\n",
        "\n",
        "# Создаем экземпляр FeatureExtractor\n",
        "feature_extractor = FeatureExtractor(pretrained_model)\n",
        "\n",
        "# Проверка структуры загруженной модели\n",
        "print(feature_extractor)"
      ],
      "metadata": {
        "id": "zuyziy9UGlsH",
        "colab": {
          "base_uri": "https://localhost:8080/"
        },
        "outputId": "e4ac90de-d918-4e4f-ffa3-5f015a405888"
      },
      "execution_count": null,
      "outputs": [
        {
          "output_type": "stream",
          "name": "stdout",
          "text": [
            "FeatureExtractor(\n",
            "  (pretrained_model): MyModel_2(\n",
            "    (conv1): Conv1d(3, 256, kernel_size=(3,), stride=(1,), padding=same)\n",
            "    (bn1): BatchNorm1d(256, eps=1e-05, momentum=0.1, affine=True, track_running_stats=True)\n",
            "    (pool1): MaxPool1d(kernel_size=2, stride=2, padding=0, dilation=1, ceil_mode=False)\n",
            "    (conv2): Conv1d(256, 256, kernel_size=(5,), stride=(1,), padding=same)\n",
            "    (bn2): BatchNorm1d(256, eps=1e-05, momentum=0.1, affine=True, track_running_stats=True)\n",
            "    (pool2): MaxPool1d(kernel_size=2, stride=2, padding=0, dilation=1, ceil_mode=False)\n",
            "    (conv3): Conv1d(256, 256, kernel_size=(2,), stride=(1,), padding=same)\n",
            "    (bn3): BatchNorm1d(256, eps=1e-05, momentum=0.1, affine=True, track_running_stats=True)\n",
            "    (pool3): MaxPool1d(kernel_size=2, stride=2, padding=0, dilation=1, ceil_mode=False)\n",
            "    (lstm1): LSTM(256, 128, batch_first=True)\n",
            "    (dropout1): Dropout(p=0.267619, inplace=False)\n",
            "  )\n",
            "  (lstm2): LSTM(128, 128, batch_first=True)\n",
            "  (dropout2): Dropout(p=0.3346, inplace=False)\n",
            "  (lstm3): LSTM(128, 32, batch_first=True)\n",
            "  (dropout3): Dropout(p=0.0891, inplace=False)\n",
            "  (fc1): Linear(in_features=32, out_features=64, bias=True)\n",
            "  (dropout4): Dropout(p=0.0979, inplace=False)\n",
            "  (fc2): Linear(in_features=64, out_features=64, bias=True)\n",
            "  (dropout5): Dropout(p=0.0526, inplace=False)\n",
            "  (fc3): Linear(in_features=64, out_features=1, bias=True)\n",
            ")\n"
          ]
        }
      ]
    },
    {
      "cell_type": "code",
      "source": [
        "for name, param in feature_extractor.named_parameters():\n",
        "    if param.requires_grad:\n",
        "        print(name)"
      ],
      "metadata": {
        "colab": {
          "base_uri": "https://localhost:8080/"
        },
        "id": "Q3ZNa9Nw4VC_",
        "outputId": "29d0b3c1-0c2f-4118-cd8b-8f5b0cf333ff"
      },
      "execution_count": null,
      "outputs": [
        {
          "output_type": "stream",
          "name": "stdout",
          "text": [
            "lstm2.weight_ih_l0\n",
            "lstm2.weight_hh_l0\n",
            "lstm2.bias_ih_l0\n",
            "lstm2.bias_hh_l0\n",
            "lstm3.weight_ih_l0\n",
            "lstm3.weight_hh_l0\n",
            "lstm3.bias_ih_l0\n",
            "lstm3.bias_hh_l0\n",
            "fc1.weight\n",
            "fc1.bias\n",
            "fc2.weight\n",
            "fc2.bias\n",
            "fc3.weight\n",
            "fc3.bias\n"
          ]
        }
      ]
    },
    {
      "cell_type": "code",
      "source": [
        "def objective(trial):\n",
        "    # Предлагаем параметры для оптимизации\n",
        "    lstm_hidden_size = trial.suggest_int('lstm_hidden_size', 64, 256)\n",
        "    dropout_rate1 = trial.suggest_float('dropout_rate1', 0.01, 0.5)\n",
        "    dropout_rate2 = trial.suggest_float('dropout_rate2', 0.01, 0.5)\n",
        "    dropout_rate3 = trial.suggest_float('dropout_rate3', 0.01, 0.5)\n",
        "    fc1_units = trial.suggest_int('fc1_units', 32, 128)\n",
        "    fc2_units = trial.suggest_int('fc2_units', 32, 128)\n",
        "    learning_rate = trial.suggest_float('learning_rate', 1e-7, 1e-3, log=True)\n",
        "\n",
        "    # Создаем модель с предложенными параметрами\n",
        "    feature_extractor = FeatureExtractor(pretrained_model)\n",
        "    feature_extractor.lstm2 = nn.LSTM(input_size=128, hidden_size=lstm_hidden_size, batch_first=True)\n",
        "    feature_extractor.dropout2 = nn.Dropout(p=dropout_rate1)\n",
        "    feature_extractor.lstm3 = nn.LSTM(input_size=lstm_hidden_size, hidden_size=32, batch_first=True)\n",
        "    feature_extractor.dropout3 = nn.Dropout(p=dropout_rate2)\n",
        "    feature_extractor.fc1 = nn.Linear(32, fc1_units)\n",
        "    feature_extractor.dropout4 = nn.Dropout(p=dropout_rate3)\n",
        "    feature_extractor.fc2 = nn.Linear(fc1_units, fc2_units)\n",
        "    feature_extractor.fc3 = nn.Linear(fc2_units, 1)\n",
        "\n",
        "    # Перемещаем модель на устройство (GPU или CPU)\n",
        "    feature_extractor.to(device)\n",
        "\n",
        "    # Определяем оптимизатор и функцию потерь\n",
        "    optimizer = optim.Adam(feature_extractor.parameters(), lr=learning_rate)\n",
        "    criterion = nn.MSELoss()\n",
        "\n",
        "    # Обучение модели\n",
        "    train_losses, val_losses = train(feature_extractor, train_loader_nopims, val_loader_nopims, optimizer, criterion, num_epochs=50)\n",
        "\n",
        "    predictions, true_values = get_predictions(feature_extractor, test_loader_nopims, device)\n",
        "\n",
        "    r2 = r2_score(true_values, predictions)\n",
        "\n",
        "    return r2\n",
        "\n",
        "study = optuna.create_study(direction='maximize')\n",
        "study.optimize(objective, n_trials=50)"
      ],
      "metadata": {
        "id": "qf6VcW2N4Qkg"
      },
      "execution_count": null,
      "outputs": []
    },
    {
      "cell_type": "code",
      "source": [
        "print(\"Лучшие гиперпараметры:\", study.best_params)\n",
        "print(\"Лучшее значение R^2:\", study.best_value)"
      ],
      "metadata": {
        "id": "EtSb5erPMXzN"
      },
      "execution_count": null,
      "outputs": []
    },
    {
      "cell_type": "code",
      "source": [
        "model = FeatureExtractor(pretrained_model)\n",
        "optimizer = optim.Adam(model.parameters(), lr=0.0001)\n",
        "criterion = nn.MSELoss()"
      ],
      "metadata": {
        "id": "t_F9ip-UGluG"
      },
      "execution_count": null,
      "outputs": []
    },
    {
      "cell_type": "code",
      "source": [
        "train_losses, val_losses = train(model, train_loader_nopims, val_loader_nopims, optimizer, criterion, num_epochs=50)"
      ],
      "metadata": {
        "colab": {
          "base_uri": "https://localhost:8080/"
        },
        "id": "GBC4cuU_5tOi",
        "outputId": "0301b2d5-c5a9-4591-c6b2-995cfe1b65f2"
      },
      "execution_count": null,
      "outputs": [
        {
          "output_type": "stream",
          "name": "stdout",
          "text": [
            "Epoch 1/50, Train Loss: 0.0049, Val Loss: 0.0014\n",
            "Epoch 2/50, Train Loss: 0.0025, Val Loss: 0.0008\n",
            "Epoch 3/50, Train Loss: 0.0022, Val Loss: 0.0007\n",
            "Epoch 4/50, Train Loss: 0.0020, Val Loss: 0.0005\n",
            "Epoch 5/50, Train Loss: 0.0019, Val Loss: 0.0006\n",
            "Epoch 6/50, Train Loss: 0.0018, Val Loss: 0.0005\n",
            "Epoch 7/50, Train Loss: 0.0017, Val Loss: 0.0004\n",
            "Epoch 8/50, Train Loss: 0.0017, Val Loss: 0.0005\n",
            "Epoch 9/50, Train Loss: 0.0016, Val Loss: 0.0005\n",
            "Epoch 10/50, Train Loss: 0.0016, Val Loss: 0.0004\n",
            "Epoch 11/50, Train Loss: 0.0015, Val Loss: 0.0004\n",
            "Epoch 12/50, Train Loss: 0.0015, Val Loss: 0.0004\n",
            "Epoch 13/50, Train Loss: 0.0015, Val Loss: 0.0004\n",
            "Epoch 14/50, Train Loss: 0.0015, Val Loss: 0.0005\n",
            "Epoch 15/50, Train Loss: 0.0015, Val Loss: 0.0004\n",
            "Stopping early at epoch 15. Best Val Loss: 0.0004\n",
            "Loaded best weights.\n"
          ]
        }
      ]
    },
    {
      "cell_type": "code",
      "source": [
        "plt.plot(train_losses, label='Потери на тренировке')\n",
        "plt.plot(val_losses, label='Потери на валидации')\n",
        "plt.title('Обучение')\n",
        "plt.xlabel('Эпоха')\n",
        "plt.ylabel('Потери')\n",
        "plt.legend()"
      ],
      "metadata": {
        "id": "5DUe3y0yFqdE",
        "colab": {
          "base_uri": "https://localhost:8080/",
          "height": 490
        },
        "outputId": "8933919e-b242-49d3-e9f7-84c1694174ad"
      },
      "execution_count": null,
      "outputs": [
        {
          "output_type": "execute_result",
          "data": {
            "text/plain": [
              "<matplotlib.legend.Legend at 0x7c834c238990>"
            ]
          },
          "metadata": {},
          "execution_count": 85
        },
        {
          "output_type": "display_data",
          "data": {
            "text/plain": [
              "<Figure size 640x480 with 1 Axes>"
            ],
            "image/png": "[encoded data removed]"
          },
          "metadata": {}
        }
      ]
    },
    {
      "cell_type": "code",
      "source": [
        "predictions, true_values = get_predictions(model, test_loader_nopims, device)"
      ],
      "metadata": {
        "id": "FKZUuwu7C95U"
      },
      "execution_count": null,
      "outputs": []
    },
    {
      "cell_type": "code",
      "source": [
        "mae = mean_absolute_error(true_values, predictions)\n",
        "mape = mean_absolute_percentage_error(true_values, predictions)\n",
        "rmse = root_mean_squared_error(true_values, predictions)\n",
        "r2 = r2_score(true_values, predictions)"
      ],
      "metadata": {
        "id": "NCdybE7pMdem"
      },
      "execution_count": null,
      "outputs": []
    },
    {
      "cell_type": "code",
      "source": [
        "print(f\"MAE: {mae}\",\n",
        "      f\"MAPE: {mape}\",\n",
        "      f\"RMSE: {rmse}\",\n",
        "      f\"R2: {r2}\", sep = '\\n')"
      ],
      "metadata": {
        "colab": {
          "base_uri": "https://localhost:8080/"
        },
        "id": "_BlST_G31Sf0",
        "outputId": "7ba8e651-ceb7-4a4b-804f-db485755a092"
      },
      "execution_count": null,
      "outputs": [
        {
          "output_type": "stream",
          "name": "stdout",
          "text": [
            "MAE: 0.010111246994844628\n",
            "MAPE: 0.20371373073575547\n",
            "RMSE: 0.02640815634158464\n",
            "R2: 0.9063884477504677\n"
          ]
        }
      ]
    },
    {
      "cell_type": "code",
      "source": [
        "plt.figure(figsize=(6,5))\n",
        "plt.plot(true_values, label=\"true\")\n",
        "plt.plot(predictions, 'r', label=\"prediction\")\n",
        "plt.title('Прогноз модели с переносом знаний для каротажа PEF на месторождении Nopims')\n",
        "plt.ylabel('Значение')\n",
        "plt.xlabel('Временной шаг')\n",
        "plt.legend()\n",
        "plt.show()"
      ],
      "metadata": {
        "id": "WLlXLX6HMdhw",
        "colab": {
          "base_uri": "https://localhost:8080/",
          "height": 487
        },
        "outputId": "782a9cb7-ddce-42d1-f7dc-eb12dd3ac75a"
      },
      "execution_count": null,
      "outputs": [
        {
          "output_type": "display_data",
          "data": {
            "text/plain": [
              "<Figure size 600x500 with 1 Axes>"
            ],
            "image/png": "[encoded data removed]"
          },
          "metadata": {}
        }
      ]
    },
    {
      "cell_type": "code",
      "source": [
        "np.save('trans_pred_1.npy', predictions)"
      ],
      "metadata": {
        "id": "tn_7FqzsMdjt"
      },
      "execution_count": null,
      "outputs": []
    },
    {
      "cell_type": "code",
      "source": [
        "for i in range(9):\n",
        "    print(f\"\\nTraining iteration {i + 1}/9\")\n",
        "\n",
        "    # Создаем новую модель и оптимизатор для каждой итерации\n",
        "    model = FeatureExtractor(pretrained_model)\n",
        "\n",
        "    optimizer = optim.Adam(model.parameters(), lr=0.0001)\n",
        "    criterion = nn.MSELoss()\n",
        "\n",
        "    # Обучаем модель\n",
        "    train_losses, val_losses = train(model, train_loader_nopims, val_loader_nopims, optimizer, criterion, num_epochs=50)\n",
        "\n",
        "    # Получаем предсказания на тестовом наборе\n",
        "    predictions, _ = get_predictions(model, test_loader_nopims, device)\n",
        "\n",
        "    # Сохраняем предсказания текущей итерации\n",
        "    np.save(f'trans_pred_{i + 2}.npy', predictions)"
      ],
      "metadata": {
        "id": "hRdJXJxLMdvt"
      },
      "execution_count": null,
      "outputs": []
    }
  ]
}